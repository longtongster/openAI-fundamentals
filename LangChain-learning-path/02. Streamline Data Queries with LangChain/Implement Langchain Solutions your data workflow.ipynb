{
 "cells": [
  {
   "cell_type": "code",
   "execution_count": 5,
   "id": "26c7e046-9bdf-48a1-9005-988a3f8ce243",
   "metadata": {},
   "outputs": [],
   "source": [
    "import sys\n",
    "import os\n",
    "from openai import OpenAI\n",
    "\n",
    "# Go to the parent of the parent directory\n",
    "grandparent_dir = os.path.abspath(os.path.join(os.getcwd(), '..', '..'))\n",
    "sys.path.append(grandparent_dir)\n",
    "\n",
    "# Now you can import your config\n",
    "from config import api_key\n",
    "\n",
    "client = OpenAI(api_key=api_key)"
   ]
  },
  {
   "cell_type": "code",
   "execution_count": null,
   "id": "e964eddb-de8d-46f2-b365-c7594820c1b2",
   "metadata": {},
   "outputs": [],
   "source": []
  },
  {
   "cell_type": "code",
   "execution_count": 100,
   "id": "12ea74e6-1591-4ad8-bd87-d0e1e1718ea9",
   "metadata": {},
   "outputs": [],
   "source": [
    "import openai\n",
    "from langchain.llms import OpenAI\n",
    "from langchain_openai import ChatOpenAI\n",
    "from langchain.schema import HumanMessage, SystemMessage, AIMessage\n",
    "from langchain.prompts import HumanMessagePromptTemplate, ChatPromptTemplate\n",
    "from langchain.document_loaders import CSVLoader\n",
    "\n",
    "import pandas as pd\n",
    "from tabulate import tabulate\n",
    "import os"
   ]
  },
  {
   "cell_type": "raw",
   "id": "689e07d1-25ee-4678-aa57-e1df97ac0fb8",
   "metadata": {},
   "source": [
    "imports like `HumanMessage`, `SystemMessage`, `AIMessage` create prompt like \n",
    "\n",
    "```\n",
    "[{\"role\": \"syste\", \"content\" : \"you are bla bla bla\"},\n",
    " {\"role\": \"user\", \"content\" : content}]\n",
    "\n",
    "that we normally give directly to the openai API."
   ]
  },
  {
   "cell_type": "code",
   "execution_count": 20,
   "id": "4ca7ea35-fb5c-436b-b9cc-2e3763e3d0b3",
   "metadata": {},
   "outputs": [],
   "source": [
    "import os\n",
    "\n",
    "os.environ[\"OPENAI_API_KEY\"] = api_key"
   ]
  },
  {
   "cell_type": "code",
   "execution_count": 21,
   "id": "14eaccf7-3a37-475a-83e4-e4cd6b2421f3",
   "metadata": {},
   "outputs": [],
   "source": [
    "loader = CSVLoader(file_path=\"dataset.csv\")\n",
    "data = loader.load()"
   ]
  },
  {
   "cell_type": "code",
   "execution_count": 31,
   "id": "68e82f33-83a1-4c56-8757-7387ea03d8ce",
   "metadata": {},
   "outputs": [
    {
     "data": {
      "text/plain": [
       "['User ID: 1',\n",
       " 'Age: 56.0',\n",
       " 'Gender: Female',\n",
       " 'Country: USA',\n",
       " 'Purchase Amount: 331.79',\n",
       " 'Purchase Date: 2021-11-21',\n",
       " 'Product Category: Sports']"
      ]
     },
     "execution_count": 31,
     "metadata": {},
     "output_type": "execute_result"
    }
   ],
   "source": [
    "data[0].page_content.split(\"\\n\")"
   ]
  },
  {
   "cell_type": "code",
   "execution_count": 30,
   "id": "4545bb8d-b536-451f-b8df-49926a37490c",
   "metadata": {},
   "outputs": [],
   "source": [
    "def parse_page_content(content):\n",
    "    fields = content.split(\"\\n\")\n",
    "    return {field.split(': ')[0]: field.split(\": \")[1] for field in fields if field}"
   ]
  },
  {
   "cell_type": "code",
   "execution_count": 35,
   "id": "34142339-f830-4d6d-915b-4a00d0ece7d7",
   "metadata": {},
   "outputs": [],
   "source": [
    "parsed_data = [parse_page_content(document.page_content) for document in data]"
   ]
  },
  {
   "cell_type": "code",
   "execution_count": 38,
   "id": "f547ee02-bcc5-4b1f-b18c-2bfa5bdfcb22",
   "metadata": {},
   "outputs": [
    {
     "data": {
      "text/html": [
       "<div>\n",
       "<style scoped>\n",
       "    .dataframe tbody tr th:only-of-type {\n",
       "        vertical-align: middle;\n",
       "    }\n",
       "\n",
       "    .dataframe tbody tr th {\n",
       "        vertical-align: top;\n",
       "    }\n",
       "\n",
       "    .dataframe thead th {\n",
       "        text-align: right;\n",
       "    }\n",
       "</style>\n",
       "<table border=\"1\" class=\"dataframe\">\n",
       "  <thead>\n",
       "    <tr style=\"text-align: right;\">\n",
       "      <th></th>\n",
       "      <th>User ID</th>\n",
       "      <th>Age</th>\n",
       "      <th>Gender</th>\n",
       "      <th>Country</th>\n",
       "      <th>Purchase Amount</th>\n",
       "      <th>Purchase Date</th>\n",
       "      <th>Product Category</th>\n",
       "    </tr>\n",
       "  </thead>\n",
       "  <tbody>\n",
       "    <tr>\n",
       "      <th>0</th>\n",
       "      <td>1</td>\n",
       "      <td>56.0</td>\n",
       "      <td>Female</td>\n",
       "      <td>USA</td>\n",
       "      <td>331.79</td>\n",
       "      <td>2021-11-21</td>\n",
       "      <td>Sports</td>\n",
       "    </tr>\n",
       "    <tr>\n",
       "      <th>1</th>\n",
       "      <td>2</td>\n",
       "      <td>69.0</td>\n",
       "      <td>Male</td>\n",
       "      <td>Australia</td>\n",
       "      <td>335.72</td>\n",
       "      <td>2022-03-05</td>\n",
       "      <td>Home &amp; Kitchen</td>\n",
       "    </tr>\n",
       "    <tr>\n",
       "      <th>2</th>\n",
       "      <td>3</td>\n",
       "      <td>46.0</td>\n",
       "      <td></td>\n",
       "      <td>Germany</td>\n",
       "      <td>493.18</td>\n",
       "      <td></td>\n",
       "      <td>Books</td>\n",
       "    </tr>\n",
       "    <tr>\n",
       "      <th>3</th>\n",
       "      <td>4</td>\n",
       "      <td>32.0</td>\n",
       "      <td>Male</td>\n",
       "      <td>Germany</td>\n",
       "      <td>80.97</td>\n",
       "      <td>2023-06-08</td>\n",
       "      <td>Sports</td>\n",
       "    </tr>\n",
       "    <tr>\n",
       "      <th>4</th>\n",
       "      <td>5</td>\n",
       "      <td>60.0</td>\n",
       "      <td>Female</td>\n",
       "      <td>UK</td>\n",
       "      <td>21.75</td>\n",
       "      <td></td>\n",
       "      <td>Beauty</td>\n",
       "    </tr>\n",
       "  </tbody>\n",
       "</table>\n",
       "</div>"
      ],
      "text/plain": [
       "  User ID   Age  Gender    Country Purchase Amount Purchase Date  \\\n",
       "0       1  56.0  Female        USA          331.79    2021-11-21   \n",
       "1       2  69.0    Male  Australia          335.72    2022-03-05   \n",
       "2       3  46.0            Germany          493.18                 \n",
       "3       4  32.0    Male    Germany           80.97    2023-06-08   \n",
       "4       5  60.0  Female         UK           21.75                 \n",
       "\n",
       "  Product Category  \n",
       "0           Sports  \n",
       "1   Home & Kitchen  \n",
       "2            Books  \n",
       "3           Sports  \n",
       "4           Beauty  "
      ]
     },
     "execution_count": 38,
     "metadata": {},
     "output_type": "execute_result"
    }
   ],
   "source": [
    "df = pd.DataFrame(parsed_data)\n",
    "df.head()"
   ]
  },
  {
   "cell_type": "code",
   "execution_count": 82,
   "id": "5f8013a0-7d91-4b6d-b515-b84aabde3dba",
   "metadata": {},
   "outputs": [
    {
     "name": "stdout",
     "output_type": "stream",
     "text": [
      "+----------+---------+\n",
      "| Gender   |   Count |\n",
      "+==========+=========+\n",
      "| Other    |    4296 |\n",
      "+----------+---------+\n",
      "| Female   |    4293 |\n",
      "+----------+---------+\n",
      "| Male     |    4227 |\n",
      "+----------+---------+\n",
      "|          |     684 |\n",
      "+----------+---------+\n"
     ]
    }
   ],
   "source": [
    "df = df[df[\"Age\"]!=\"\"]\n",
    "average_age = df[\"Age\"].astype(float).mean()\n",
    "\n",
    "# most popular product category\n",
    "popular_category = df[\"Product Category\"].value_counts().idxmax()\n",
    "\n",
    "# gender distribution \n",
    "gender_distribution = df[\"Gender\"].value_counts()\n",
    "print(tabulate(gender_distribution.items(), headers=[\"Gender\",\"Count\"], tablefmt=\"grid\"))"
   ]
  },
  {
   "cell_type": "code",
   "execution_count": 109,
   "id": "c71fb84e-c569-4771-8898-a065836cb43d",
   "metadata": {},
   "outputs": [
    {
     "name": "stdout",
     "output_type": "stream",
     "text": [
      "Based on the dataset characteristics you've provided, here are some insights and potential marketing strategies and product recommendations:\n",
      "\n",
      "### Customer Demographics Insights\n",
      "\n",
      "1. **Average Age**: The average age of customers is approximately 43.4 years. This suggests that your target audience is likely to be middle-aged adults. Marketing strategies should consider the preferences and needs of this age group.\n",
      "\n",
      "2. **Gender Distribution**: The gender distribution is relatively balanced, with a slight skew towards \"Other\" and \"Female\" customers. This indicates that marketing strategies should be inclusive and cater to diverse gender identities.\n",
      "\n",
      "### Marketing Strategies\n",
      "\n",
      "1. **Targeted Advertising**:\n",
      "   - **Age-Specific Campaigns**: Create campaigns that resonate with middle-aged adults. Highlight products that cater to their lifestyle, such as health and wellness products, financial planning services, or travel experiences.\n",
      "   - **Gender-Inclusive Messaging**: Develop marketing materials that are inclusive of all genders. Use language and imagery that reflects diversity and avoids stereotypes.\n",
      "\n",
      "2. **Content Marketing**:\n",
      "   - **Educational Content**: Provide content that addresses the interests and concerns of your customer base, such as articles on health, financial advice, or lifestyle tips for middle-aged adults.\n",
      "   - **Social Media Engagement**: Utilize platforms where your target demographic is active. Share engaging content that encourages interaction, such as polls or discussions about relevant topics.\n",
      "\n",
      "3. **Loyalty Programs**:\n",
      "   - Implement loyalty programs that reward repeat purchases. Tailor rewards to the preferences of your customer base, such as discounts on health-related products or exclusive access to events.\n",
      "\n",
      "4. **Email Marketing**:\n",
      "   - Segment your email list based on gender and age to send personalized recommendations. Highlight products that align with their interests and previous purchases.\n",
      "\n",
      "5. **Community Engagement**:\n",
      "   - Host events or webinars that cater to the interests of your demographic. This could include health workshops, financial planning sessions, or community service events.\n",
      "\n",
      "### Product Recommendations\n",
      "\n",
      "1. **Health and Wellness Products**: Given the average age, consider promoting products related to health, fitness, and wellness, such as supplements, fitness equipment, or health monitoring devices.\n",
      "\n",
      "2. **Financial Services**: Offer products or services that assist with retirement planning, investment advice, or insurance, as these are often priorities for middle-aged adults.\n",
      "\n",
      "3. **Travel and Leisure**: Promote travel packages or experiences that cater to adults looking for leisure activities, such as guided tours, wellness retreats, or cultural experiences.\n",
      "\n",
      "4. **Home Improvement and Lifestyle Products**: Consider products that enhance home living, such as home decor, gardening supplies, or DIY tools, as many in this age group may be focused on home improvement.\n",
      "\n",
      "5. **Inclusive Product Lines**: Ensure that your product offerings are inclusive and cater to diverse gender identities. This could include gender-neutral products or services that appeal to a wide audience.\n",
      "\n",
      "### Conclusion\n",
      "\n",
      "By leveraging the insights from your customer demographics, you can create targeted marketing strategies and product recommendations that resonate with your audience. Focus on inclusivity, relevance, and engagement to build strong relationships with your customers and drive sales.\n"
     ]
    }
   ],
   "source": [
    "chat_template = ChatPromptTemplate.from_messages(\n",
    "        [SystemMessage(content=(\"You are and expert data analysis assistent\")),\n",
    "         HumanMessagePromptTemplate.from_template(\n",
    "             \"\"\"\n",
    "             I have a dataset of customer purchaes with the following characteristics:\n",
    "             - Average age of customers {average_age}\n",
    "             - Gender distribution: {gender_distribution}\n",
    "\n",
    "             Based on this information, can you provide insights into the potential marketing strategies and product recommendation\n",
    "             \"\"\"\n",
    "         )\n",
    "        ])\n",
    "\n",
    "llm = ChatOpenAI(model=\"gpt-4o-mini\", temperature=0)\n",
    "output = llm.invoke(chat_template.format_messages(average_age=average_age, gender_distribution=gender_distribution))\n",
    "print(output.content)"
   ]
  },
  {
   "cell_type": "code",
   "execution_count": 117,
   "id": "4c0b843c-f51f-4255-b89f-119e7b975168",
   "metadata": {},
   "outputs": [],
   "source": [
    "import openai\n",
    "import pandas as pd\n",
    "from langchain_openai import OpenAI\n",
    "from langchain.chains import LLMChain, SequentialChain\n",
    "from langchain.prompts import PromptTemplate\n",
    "from IPython.display import display, Markdown\n",
    "import os"
   ]
  },
  {
   "cell_type": "code",
   "execution_count": 118,
   "id": "41a785f3-693a-43dc-9ab0-ceb380e91b88",
   "metadata": {},
   "outputs": [],
   "source": [
    "os.environ[\"OPENAI_API_KEY\"] = api_key"
   ]
  },
  {
   "cell_type": "code",
   "execution_count": 127,
   "id": "40fe8400-b7e5-4868-840a-4142a66fffe0",
   "metadata": {},
   "outputs": [],
   "source": [
    "try:\n",
    "    data = pd.read_csv(\"dataset.csv\")\n",
    "except Exception as e:\n",
    "    print(f\"Error loading CSV file: {e}\")\n",
    "    raise # Raise for furhter handling"
   ]
  },
  {
   "cell_type": "code",
   "execution_count": 131,
   "id": "67b0b059-164f-47a8-9f9c-ff21ad4fff03",
   "metadata": {},
   "outputs": [
    {
     "data": {
      "text/html": [
       "<div>\n",
       "<style scoped>\n",
       "    .dataframe tbody tr th:only-of-type {\n",
       "        vertical-align: middle;\n",
       "    }\n",
       "\n",
       "    .dataframe tbody tr th {\n",
       "        vertical-align: top;\n",
       "    }\n",
       "\n",
       "    .dataframe thead th {\n",
       "        text-align: right;\n",
       "    }\n",
       "</style>\n",
       "<table border=\"1\" class=\"dataframe\">\n",
       "  <thead>\n",
       "    <tr style=\"text-align: right;\">\n",
       "      <th></th>\n",
       "      <th>User ID</th>\n",
       "      <th>Age</th>\n",
       "      <th>Gender</th>\n",
       "      <th>Country</th>\n",
       "      <th>Purchase Amount</th>\n",
       "      <th>Purchase Date</th>\n",
       "      <th>Product Category</th>\n",
       "    </tr>\n",
       "  </thead>\n",
       "  <tbody>\n",
       "    <tr>\n",
       "      <th>0</th>\n",
       "      <td>1</td>\n",
       "      <td>56.0</td>\n",
       "      <td>Female</td>\n",
       "      <td>USA</td>\n",
       "      <td>331.79</td>\n",
       "      <td>2021-11-21</td>\n",
       "      <td>Sports</td>\n",
       "    </tr>\n",
       "    <tr>\n",
       "      <th>1</th>\n",
       "      <td>2</td>\n",
       "      <td>69.0</td>\n",
       "      <td>Male</td>\n",
       "      <td>Australia</td>\n",
       "      <td>335.72</td>\n",
       "      <td>2022-03-05</td>\n",
       "      <td>Home &amp; Kitchen</td>\n",
       "    </tr>\n",
       "    <tr>\n",
       "      <th>2</th>\n",
       "      <td>3</td>\n",
       "      <td>46.0</td>\n",
       "      <td></td>\n",
       "      <td>Germany</td>\n",
       "      <td>493.18</td>\n",
       "      <td></td>\n",
       "      <td>Books</td>\n",
       "    </tr>\n",
       "    <tr>\n",
       "      <th>3</th>\n",
       "      <td>4</td>\n",
       "      <td>32.0</td>\n",
       "      <td>Male</td>\n",
       "      <td>Germany</td>\n",
       "      <td>80.97</td>\n",
       "      <td>2023-06-08</td>\n",
       "      <td>Sports</td>\n",
       "    </tr>\n",
       "    <tr>\n",
       "      <th>4</th>\n",
       "      <td>5</td>\n",
       "      <td>60.0</td>\n",
       "      <td>Female</td>\n",
       "      <td>UK</td>\n",
       "      <td>21.75</td>\n",
       "      <td></td>\n",
       "      <td>Beauty</td>\n",
       "    </tr>\n",
       "  </tbody>\n",
       "</table>\n",
       "</div>"
      ],
      "text/plain": [
       "  User ID   Age  Gender    Country Purchase Amount Purchase Date  \\\n",
       "0       1  56.0  Female        USA          331.79    2021-11-21   \n",
       "1       2  69.0    Male  Australia          335.72    2022-03-05   \n",
       "2       3  46.0            Germany          493.18                 \n",
       "3       4  32.0    Male    Germany           80.97    2023-06-08   \n",
       "4       5  60.0  Female         UK           21.75                 \n",
       "\n",
       "  Product Category  \n",
       "0           Sports  \n",
       "1   Home & Kitchen  \n",
       "2            Books  \n",
       "3           Sports  \n",
       "4           Beauty  "
      ]
     },
     "execution_count": 131,
     "metadata": {},
     "output_type": "execute_result"
    }
   ],
   "source": [
    "df = df[:100]\n",
    "df.head()\n"
   ]
  },
  {
   "cell_type": "code",
   "execution_count": 149,
   "id": "fd69498e-9a89-452c-ae9d-ddcec98300b5",
   "metadata": {},
   "outputs": [
    {
     "name": "stdout",
     "output_type": "stream",
     "text": [
      "Based on the provided data from 15,000 user transactions, here are several key insights:\n",
      "\n",
      "1. **Demographics**:\n",
      "   - The dataset includes users of various ages, ranging from as young as 21 to 69 years old. \n",
      "   - There is a diversity in gender representation with Female, Male, and Other categories. However, a notable number of users do not have specified gender, which could indicate a gap in data collection.\n",
      "   - The geographic distribution indicates users from multiple countries including the USA, UK, Canada, Germany, and Australia, which may highlight different regional market behaviors.\n",
      "\n",
      "2. **Purchase Behavior**:\n",
      "   - The **average Purchase Amount** can be determined for the different cohorts, which will help in understanding spending patterns. However, note that some entries may have missing values in the 'Purchase Amount' or 'Purchase Date' columns that could skew results.\n",
      "   - NA values in 'Purchase Amount' (specifically for Users 3, 4, and 5) and 'Purchase Date' indicate opportunities for improvement in data accuracy or completeness. This may require additional cleaning for more accurate analysis.\n",
      "\n",
      "3. **Product Categories**:\n",
      "   - The dataset includes purchases across various product categories such as Sports, Home & Kitchen, Beauty, and Books. An analysis of which categories have the highest purchase amounts would help identify the most lucrative product sectors.\n",
      "   - Similarly, evaluating customer segments based on product categories could unveil demographic preferences (e.g., do males tend to purchase more in Sports compared to females?).\n",
      "\n",
      "4. **Temporal Analysis**:\n",
      "   - The 'Purchase Date' field could facilitate the analysis of seasonal trends in consumer behavior, identifying peak purchasing periods or shifts in category preferences over time.\n",
      "\n",
      "5. **Market Potential**:\n",
      "   - Identifying the most valuable customers based on purchase amount and frequency can aid in targeted marketing strategies. For instance, understanding if older consumers tend to spend more could influence targeted promotions or products.\n",
      "\n",
      "6. **Suggestions for Detailed Analysis**:\n",
      "   - Consider segmentation of users by age groups to understand spending patterns and preferences.\n",
      "   - Analyze geographic differences in purchase behavior to tailor marketing strategies by region.\n",
      "   - Conduct a trend analysis over time using 'Purchase Date' to identify growth areas and seasonality in product category demands.\n",
      "\n",
      "These insights suggest a well-rounded overview of customer behavior and purchasing trends that can be strategically leveraged for business improvements, targeted marketing campaigns, and inventory management. Further analysis would require handling missing data and possibly exploring additional attributes for deeper insights.\n"
     ]
    }
   ],
   "source": [
    "from langchain.schema.output_parser import StrOutputParser\n",
    "\n",
    "# Create an OpenAI chat LLM\n",
    "llm = ChatOpenAI(model=\"gpt-4o-mini\", api_key=api_key)\n",
    "\n",
    "analysis_template = \"\"\"\n",
    "Analyze the following data and extract key insight\n",
    "Data:\n",
    "{content_data}\n",
    "\n",
    "Key insight:\n",
    "\"\"\"\n",
    "\n",
    "analysis_prompt_template = PromptTemplate(input_variables=[\"content_data\"], template=analysis_template)\n",
    "lmm_chain = analysis_prompt_template | llm | StrOutputParser()\n",
    "\n",
    "response = lmm_chain.invoke({\"content_data\": data})\n",
    "print(response)"
   ]
  },
  {
   "cell_type": "code",
   "execution_count": 153,
   "id": "cc5bdaa8-7126-4bc5-8b2a-5600e960cbca",
   "metadata": {},
   "outputs": [
    {
     "name": "stdout",
     "output_type": "stream",
     "text": [
      "### User Purchase Data Analysis Report\n",
      "\n",
      "#### Executive Summary\n",
      "This report presents key insights derived from a dataset containing 15,000 records of user purchases. The analysis highlights demographic trends, purchasing behavior, product preferences, and potential areas for strategic improvements in marketing and inventory management. \n",
      "\n",
      "#### Key Insights\n",
      "\n",
      "1. **Age Distribution**:\n",
      "   - The dataset showcases a wide age range among users, from individuals in their 20s to seniors in their 60s and above. The majority of users are categorized as young adults to seniors, indicating a diverse customer base that could be targeted with varied marketing strategies tailored to each age group.\n",
      "\n",
      "2. **Gender Representation**:\n",
      "   - The dataset includes users identifying as female, male, and 'Other'. Analyzing purchasing behavior by gender could uncover significant trends in product preference and spending, which may inform tailored marketing campaigns aimed at increasing engagement across different gender demographics.\n",
      "\n",
      "3. **Geographical Trends**:\n",
      "   - The primary countries represented in the dataset are the USA, Australia, Germany, Canada, and the UK. An investigation into purchase trends by country may reveal unique preferences in product categories, informing localized marketing strategies and potential product offerings that resonate with consumers from different regions.\n",
      "\n",
      "4. **Purchase Amount Insights**:\n",
      "   - There is significant variability in purchase amounts, with some users spending over $400 and others spending less than $30. Understanding the correlation between purchase amounts and demographic factors, such as age and gender, may identify segments that are more likely to make higher-value purchases. This insight can enhance targeted marketing efforts and promotional strategies.\n",
      "\n",
      "5. **Product Category Preferences**:\n",
      "   - Analysis of product categories shows popular segments such as Sports, Home & Kitchen, Books, Beauty, and Clothing. Exploring preferences among various demographic groups may reveal potential opportunities for cross-selling or upselling specific products that align with the interests of targeted audiences.\n",
      "\n",
      "6. **Missing Data**:\n",
      "   - The dataset includes instances of missing data, particularly in the age and purchase date fields. Addressing these gaps through data imputation or omission is critical for ensuring the accuracy and reliability of analyses.\n",
      "\n",
      "7. **Date Analysis**:\n",
      "   - Purchase dates are recorded over several years, with some entries lacking complete information. Analyzing trends over time, including seasonality and purchasing frequency, could shed light on how consumer behavior varies during different time periods, providing insights into optimal timing for promotions.\n",
      "\n",
      "8. **Customer Segmentation**:\n",
      "   - The dataset's demographic and purchasing behavior information equips the company to consider customer segmentation strategies. This approach enables targeted marketing and product offerings that resonate more effectively with specific groups based on age, gender, and purchase behavior.\n",
      "\n",
      "#### Conclusion\n",
      "The insights derived from the analysis of user purchase data provide valuable directions for strategic decision-making. By focusing on demographic-specific trends and preferences, companies can enhance their marketing strategies, optimize inventory, and significantly improve customer engagement. Further analysis addressing missing data and exploring time-based trends will bolster findings and equip businesses to better meet customer needs.\n",
      "\n",
      "#### Recommendations\n",
      "- Conduct a deeper analysis on gender-based purchasing behaviors and preferences.\n",
      "- Investigate geographical trends to customize marketing efforts for specific regions.\n",
      "- Implement strategies to address missing data in order to improve analytical accuracy.\n",
      "- Explore seasonal trends in purchasing to better time marketing initiatives and promotional campaigns.\n",
      "\n",
      "This report serves as a foundation for further exploration and strategic development based on the diverse insights presented through the user purchase dataset.\n"
     ]
    }
   ],
   "source": [
    "summary_template = \"\"\"\n",
    "Generate a report based on these key insights\n",
    "\n",
    "Key Insights: {insights} \n",
    "\n",
    "Summary: report\"\"\"\n",
    "summary_prompt_template = PromptTemplate(\n",
    "    input_variables=['insights'], \n",
    "    template=summary_template)\n",
    "\n",
    "seq_chain = ({\"insights\": analysis_prompt_template | llm | StrOutputParser()}\n",
    "             | summary_prompt_template\n",
    "             | llm\n",
    "             | StrOutputParser())\n",
    "\n",
    "print(seq_chain.invoke({\"content_data\": data}))"
   ]
  },
  {
   "cell_type": "code",
   "execution_count": null,
   "id": "8a928e1f-e9a5-456d-bc5b-d53292c43432",
   "metadata": {},
   "outputs": [],
   "source": []
  },
  {
   "cell_type": "code",
   "execution_count": null,
   "id": "d654bf8e-3f6e-4e92-91a9-3d576a9483e2",
   "metadata": {},
   "outputs": [],
   "source": []
  },
  {
   "cell_type": "code",
   "execution_count": null,
   "id": "56df43d0-5928-40c2-bc11-f80971e97092",
   "metadata": {},
   "outputs": [],
   "source": []
  }
 ],
 "metadata": {
  "kernelspec": {
   "display_name": "Python 3 (ipykernel)",
   "language": "python",
   "name": "python3"
  },
  "language_info": {
   "codemirror_mode": {
    "name": "ipython",
    "version": 3
   },
   "file_extension": ".py",
   "mimetype": "text/x-python",
   "name": "python",
   "nbconvert_exporter": "python",
   "pygments_lexer": "ipython3",
   "version": "3.10.12"
  }
 },
 "nbformat": 4,
 "nbformat_minor": 5
}
