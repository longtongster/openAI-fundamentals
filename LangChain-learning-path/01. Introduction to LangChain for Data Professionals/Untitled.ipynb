{
 "cells": [
  {
   "cell_type": "markdown",
   "id": "98723911-18d3-4a02-b9d2-6947ef08ca7b",
   "metadata": {},
   "source": [
    "# Introduction for LangChain for Data Professionals\n",
    "\n",
    "Below code is from a pluralsigh course."
   ]
  },
  {
   "cell_type": "code",
   "execution_count": 1,
   "id": "2f9226af-bfbf-4282-bef9-026bfc982abe",
   "metadata": {},
   "outputs": [],
   "source": [
    "import os\n",
    "from dotenv import load_dotenv"
   ]
  },
  {
   "cell_type": "code",
   "execution_count": 9,
   "id": "cbf10fb0-6779-4b23-bbf8-7491ff2262d2",
   "metadata": {},
   "outputs": [
    {
     "data": {
      "text/plain": [
       "'No key found'"
      ]
     },
     "execution_count": 9,
     "metadata": {},
     "output_type": "execute_result"
    }
   ],
   "source": [
    "os.environ.get('OPENAI_API_KEY', \"No key found\")"
   ]
  },
  {
   "cell_type": "code",
   "execution_count": 10,
   "id": "bd3c0f0d-4589-4ee1-b5ce-22a0ebcde702",
   "metadata": {},
   "outputs": [],
   "source": [
    "import sys\n",
    "import os\n",
    "\n",
    "# Use current working directory and go one level up\n",
    "parent_dir = os.path.abspath(os.path.join(os.getcwd(), '..'))\n",
    "sys.path.append(parent_dir)\n",
    "\n",
    "# Now you can import your config\n",
    "from config import api_key\n",
    "\n",
    "from openai import OpenAI"
   ]
  },
  {
   "cell_type": "markdown",
   "id": "f67a7ff2-29ef-40af-b5d4-31dfcab358e2",
   "metadata": {},
   "source": [
    "**remark** \n",
    "what is strange that depending on the import the model seems to memorize the history while the other does not"
   ]
  },
  {
   "cell_type": "code",
   "execution_count": 62,
   "id": "87c1c249-edba-435b-89a7-af1db06bb418",
   "metadata": {},
   "outputs": [],
   "source": [
    "from langchain.llms import OpenAI\n",
    "#from langchain_openai import ChatOpenAI\n",
    "from langchain.chat_models import ChatOpenAI\n",
    "from langchain.schema import HumanMessage"
   ]
  },
  {
   "cell_type": "code",
   "execution_count": 21,
   "id": "e7b7048f-9386-4730-9381-0725150bfeb6",
   "metadata": {},
   "outputs": [],
   "source": [
    "# Define a prompt text\n",
    "text = \"What would be a good name for a new national park with a jungle terrain?\""
   ]
  },
  {
   "cell_type": "code",
   "execution_count": 29,
   "id": "170b97e5-3f4b-475a-b02f-a951a5279e0b",
   "metadata": {},
   "outputs": [],
   "source": [
    "from openai import OpenAI\n",
    "\n",
    "client = OpenAI(api_key=api_key)\n",
    "\n",
    "response = client.chat.completions.create(\n",
    "    model=\"gpt-4\",\n",
    "    messages=[{\"role\": \"user\", \"content\": text}]\n",
    ")"
   ]
  },
  {
   "cell_type": "code",
   "execution_count": 37,
   "id": "725e78dd-8f81-4fff-81b5-25db75f83889",
   "metadata": {},
   "outputs": [
    {
     "data": {
      "text/plain": [
       "'Verdant Jungle National Park'"
      ]
     },
     "execution_count": 37,
     "metadata": {},
     "output_type": "execute_result"
    }
   ],
   "source": [
    "response.choices[0].message.content"
   ]
  },
  {
   "cell_type": "code",
   "execution_count": 42,
   "id": "b630efd2-04f1-4a98-9ded-063f4b7a71a1",
   "metadata": {},
   "outputs": [],
   "source": [
    "# Create a HumanMessage schema object containing the prompt\n",
    "message = [HumanMessage(content=text)]"
   ]
  },
  {
   "cell_type": "code",
   "execution_count": 59,
   "id": "22c17f75-6293-459e-9e9e-d8c0f3501d71",
   "metadata": {},
   "outputs": [],
   "source": [
    "# create a langchain chat model\n",
    "chat_model = ChatOpenAI(model=\"gpt-4o-mini\", api_key=api_key)"
   ]
  },
  {
   "cell_type": "code",
   "execution_count": 60,
   "id": "4fccf850-0293-4e3c-9637-12b4ae7aca08",
   "metadata": {},
   "outputs": [
    {
     "data": {
      "text/plain": [
       "AIMessage(content='Here are some name suggestions for a national park featuring jungle terrain:\\n\\n1. **Emerald Canopy National Park**\\n2. **Verdant Wilds National Park**\\n3. **Rainforest Oasis National Park**\\n4. **Jungle Echoes National Park**\\n5. **Lush Haven National Park**\\n6. **Tropical Harmony National Park**\\n7. **Mistwood National Park**\\n8. **Cascading Jungle National Park**\\n9. **Sierra Verde National Park**\\n10. **Hidden Grove National Park**\\n\\nFeel free to mix and match elements from these suggestions to find the perfect name!', additional_kwargs={'refusal': None}, response_metadata={'token_usage': {'completion_tokens': 122, 'prompt_tokens': 23, 'total_tokens': 145, 'completion_tokens_details': {'accepted_prediction_tokens': 0, 'audio_tokens': 0, 'reasoning_tokens': 0, 'rejected_prediction_tokens': 0}, 'prompt_tokens_details': {'audio_tokens': 0, 'cached_tokens': 0}}, 'model_name': 'gpt-4o-mini-2024-07-18', 'system_fingerprint': 'fp_0392822090', 'id': 'chatcmpl-BPSoYOf1IKRSBEynS4n3Bt4PvWN8S', 'finish_reason': 'stop', 'logprobs': None}, id='run-cc169daf-fbd2-48a5-8837-adb1da4f3df0-0', usage_metadata={'input_tokens': 23, 'output_tokens': 122, 'total_tokens': 145, 'input_token_details': {'audio': 0, 'cache_read': 0}, 'output_token_details': {'audio': 0, 'reasoning': 0}})"
      ]
     },
     "execution_count": 60,
     "metadata": {},
     "output_type": "execute_result"
    }
   ],
   "source": [
    "chat_model.invoke(message)"
   ]
  },
  {
   "cell_type": "code",
   "execution_count": 61,
   "id": "b14c7c28-3f94-417e-a71d-094e3a3706f6",
   "metadata": {},
   "outputs": [
    {
     "name": "stdout",
     "output_type": "stream",
     "text": [
      "Verdant Wilds National Park\n",
      "Sure! Could you please specify the type of names you are looking for (e.g., business names, book titles, character names, etc.)? This will help me generate more relevant suggestions.\n",
      "Sure! Here are three potential names related to the jungle:\n",
      "\n",
      "1. **Jungle Whisper**\n",
      "2. **Emerald Jungle**\n",
      "3. **Jungle Quest**\n",
      "\n",
      "Let me know if you need more suggestions!\n"
     ]
    }
   ],
   "source": [
    "prompt = \"What would be a good name for a new national park with jungle terrain? Give one name.\"\n",
    "response = chat_model.invoke(prompt)\n",
    "print(response.content)\n",
    "\n",
    "followup = \"could you provide 3 more potential names\"\n",
    "response2 = chat_model.invoke(followup)\n",
    "print(response2.content)\n",
    "\n",
    "followup2 = \"Could you provide 3 more potential names, which has something related to jungle in the name?\"\n",
    "response3 = chat_model.invoke(followup2)\n",
    "print(response3.content)\n"
   ]
  },
  {
   "cell_type": "code",
   "execution_count": 66,
   "id": "ed0deb51-c93b-4fb4-9527-7c8ce9af6f49",
   "metadata": {},
   "outputs": [
    {
     "name": "stdout",
     "output_type": "stream",
     "text": [
      "Emerald Haven National Park\n",
      "\n",
      "other options\n",
      "- Sure! Here are five name suggestions for your jungle park with wild animals:\n",
      "- \n",
      "- 1. **Wild Haven Safari Park**\n",
      "- 2. **Jungle Realm Adventure Park**\n",
      "- 3. **Untamed Wilderness Reserve**\n",
      "- 4. **Savanna Trails Wildlife Park**\n",
      "- 5. **Rainforest Expedition Safari**\n",
      "- \n",
      "- Feel free to mix and match words or modify them to better suit your vision!\n"
     ]
    }
   ],
   "source": [
    "prompt = \"What would be a good name for a new national park with jungle terrain? Give one name.\"\n",
    "response = chat_model.invoke(prompt)\n",
    "print(response.content)\n",
    "\n",
    "followup = \"Could you suggest 5 more names for this jungle park with wild animals?\"\n",
    "alternatives = chat_model.invoke(followup).content\n",
    "print(\"\\nother options\")\n",
    "for name in alternatives.split(\"\\n\"):\n",
    "    print(f\"- {name}\")"
   ]
  },
  {
   "cell_type": "markdown",
   "id": "9398883d-816f-4c88-b010-cf54c4ed0dff",
   "metadata": {},
   "source": [
    "Normal `OpenAI` workflow "
   ]
  },
  {
   "cell_type": "code",
   "execution_count": 108,
   "id": "37a47e9b-fe24-4586-bd10-0a87d36b6afd",
   "metadata": {},
   "outputs": [
    {
     "name": "stdout",
     "output_type": "stream",
     "text": [
      "Here are some suggestions for a new national park with a jungle terrain:\n",
      "\n",
      "1. **Emerald Canopy National Park**\n",
      "2. **Verdant Wilderness National Park**\n",
      "3. **Tropical Haven National Park**\n",
      "4. **Rainforest Oasis National Park**\n",
      "5. **Jungle Echoes National Park**\n",
      "6. **Lush Horizons National Park**\n",
      "7. **Wildwood Jungle National Park**\n",
      "8. **Serenity Grove National Park**\n",
      "9. **Mystic Rainforest National Park**\n",
      "10. **Biodiversity Haven National Park**\n",
      "\n",
      "Feel free to mix and match elements from these suggestions to create a name that resonates with the unique features of the park!\n"
     ]
    }
   ],
   "source": [
    "from langchain.prompts import PromptTemplate\n",
    "\n",
    "text = \"What would be a good name for a new national park with a {terrain} terrain.\"\n",
    "messages = [{\"role\": \"user\", \"content\": text.format(terrain=\"jungle\")}]\n",
    "\n",
    "response = client.chat.completions.create(model=\"gpt-4o-mini\", messages=messages, temperature=0)\n",
    "print(response.choices[0].message.content)"
   ]
  },
  {
   "cell_type": "markdown",
   "id": "93512f60-43aa-4708-98fc-72893144c040",
   "metadata": {},
   "source": [
    "`LangChain` workflow 1"
   ]
  },
  {
   "cell_type": "code",
   "execution_count": 110,
   "id": "bdf51c41-cf59-4a31-8bd0-0548166274c4",
   "metadata": {},
   "outputs": [],
   "source": [
    "from langchain_openai import ChatOpenAI\n",
    "from langchain.prompts import PromptTemplate\n",
    "#from langchain.schema import HumanMessage\n",
    "\n",
    "llm = ChatOpenAI(model=\"gpt-4o-mini\", api_key=api_key, temperature=0)\n",
    "terrain = \"jungle\"\n",
    "\n",
    "messages = [HumanMessage(content=text.format(terrain=\"jungle\"))]\n",
    "response = llm.invoke(messages)"
   ]
  },
  {
   "cell_type": "code",
   "execution_count": 107,
   "id": "ebc6d606-5b56-4eed-9e16-86c57b7a4f2e",
   "metadata": {},
   "outputs": [
    {
     "name": "stdout",
     "output_type": "stream",
     "text": [
      "Here are several name ideas for a national park with a jungle terrain:\n",
      "\n",
      "1. **Emerald Canopy National Park**\n",
      "2. **Rainforest Guardians Park**\n",
      "3. **Whispering Woods National Park**\n",
      "4. **Lush Oasis National Park**\n",
      "5. **Mystic Jungle Preserve**\n",
      "6. **Tropical Haven National Park**\n",
      "7. **Verdant Wilds National Park**\n",
      "8. **Serenade of the Jungle Park**\n",
      "9. **Lost Eden National Park**\n",
      "10. **Biodiverse Bliss Park**\n",
      "\n",
      "Feel free to mix and match elements from different names to create the perfect fit!\n"
     ]
    }
   ],
   "source": [
    "print(response.content)"
   ]
  },
  {
   "cell_type": "markdown",
   "id": "74a3b03f-548a-4db3-9a94-7238985831ac",
   "metadata": {},
   "source": [
    "`LangChain` workflow 2"
   ]
  },
  {
   "cell_type": "code",
   "execution_count": 127,
   "id": "5326d6a5-fd0e-40cf-8fc1-95d5f2e5f692",
   "metadata": {},
   "outputs": [
    {
     "name": "stdout",
     "output_type": "stream",
     "text": [
      "text='What would be a good name for a new national park with a jungle terrain.'\n",
      "Here are some suggestions for a new national park with a jungle terrain:\n",
      "\n",
      "1. **Emerald Canopy National Park**\n",
      "2. **Verdant Wilderness National Park**\n",
      "3. **Tropical Haven National Park**\n",
      "4. **Rainforest Oasis National Park**\n",
      "5. **Jungle Echoes National Park**\n",
      "6. **Lush Horizons National Park**\n",
      "7. **Wildwood Jungle National Park**\n",
      "8. **Serenity Grove National Park**\n",
      "9. **Mystic Rainforest National Park**\n",
      "10. **Biodiversity Haven National Park**\n",
      "\n",
      "Feel free to mix and match or modify these names to find the perfect fit!\n"
     ]
    }
   ],
   "source": [
    "from langchain_openai import ChatOpenAI\n",
    "from langchain.prompts import PromptTemplate\n",
    "\n",
    "text = \"What would be a good name for a new national park with a {terrain} terrain.\"\n",
    "\n",
    "template = PromptTemplate.from_template(text)\n",
    "print(template.invoke({\"terrain\":\"jungle\"}))\n",
    "\n",
    "llm_chain = template | llm\n",
    "response = llm_chain.invoke({\"terrain\": \"jungle\"})\n",
    "print(response.content)"
   ]
  },
  {
   "cell_type": "code",
   "execution_count": 132,
   "id": "b2710aa2-2547-425a-b9cb-4e3a7a199f2e",
   "metadata": {},
   "outputs": [
    {
     "name": "stdout",
     "output_type": "stream",
     "text": [
      "\n",
      "What would be a good name for a new national park with a jungle terrain.\n",
      "Here are some suggestions for a new national park with a jungle terrain:\n",
      "\n",
      "1. **Emerald Canopy National Park**\n",
      "2. **Verdant Wilderness National Park**\n",
      "3. **Rainforest Haven National Park**\n",
      "4. **Tropical Oasis National Park**\n",
      "5. **Jungle Echoes National Park**\n",
      "6. **Lush Horizons National Park**\n",
      "7. **Wildwood Jungle National Park**\n",
      "8. **Serenity Grove National Park**\n",
      "9. **Mystic Rainforest National Park**\n",
      "10. **Biodiversity Bay National Park**\n",
      "\n",
      "Feel free to mix and match or modify these names to better fit the unique characteristics of the park!\n",
      "\n",
      "What would be a good name for a new national park with a desert terrain.\n",
      "Here are some suggestions for a new national park with a desert terrain:\n",
      "\n",
      "1. **Sundown Dunes National Park**\n",
      "2. **Coyote Canyon National Park**\n",
      "3. **Golden Sands National Park**\n",
      "4. **Desert Mirage National Park**\n",
      "5. **Sierra Sol National Park**\n",
      "6. **Oasis Ridge National Park**\n",
      "7. **Starlit Desert National Park**\n",
      "8. **Cactus Blossom National Park**\n",
      "9. **Red Rock Oasis National Park**\n",
      "10. **Whispering Sands National Park**\n",
      "\n",
      "Feel free to mix and match elements from these suggestions to create a name that resonates with the unique features of the park!\n",
      "\n",
      "What would be a good name for a new national park with a coastal terrain.\n",
      "Here are some suggestions for a new national park with a coastal terrain:\n",
      "\n",
      "1. **Coastal Serenity National Park**\n",
      "2. **Tidewater Haven National Park**\n",
      "3. **Seaside Sanctuary National Park**\n",
      "4. **Ocean Breeze National Park**\n",
      "5. **Shoreline Vista National Park**\n",
      "6. **Cascading Waves National Park**\n",
      "7. **Harbor View National Park**\n",
      "8. **Coastal Cliffs National Park**\n",
      "9. **Saltwater Shores National Park**\n",
      "10. **Emerald Coast National Park**\n",
      "\n",
      "Feel free to mix and match elements from these names to create something unique!\n"
     ]
    }
   ],
   "source": [
    "terrains = [\"jungle\", \"desert\", \"coastal\"]\n",
    "\n",
    "for terrain in terrains:\n",
    "    # create a prompt\n",
    "    prompt_text = f\"What would be a good name for a new national park with a {terrain} terrain.\"\n",
    "    print(f\"\\n{prompt_text}\")\n",
    "\n",
    "    # create a HumanMessage - I think this step is not necessary\n",
    "    messages =[HumanMessage(content=prompt_text)]\n",
    "\n",
    "    # Pass message to model\n",
    "    response = llm.invoke(messages)\n",
    "    print(response.content)"
   ]
  },
  {
   "cell_type": "code",
   "execution_count": 194,
   "id": "d98437fd-d083-47e6-b48b-79ffde56adc7",
   "metadata": {},
   "outputs": [
    {
     "name": "stdout",
     "output_type": "stream",
     "text": [
      "Bear Mountain National Park\n",
      "Bear Mountain National Park\n"
     ]
    }
   ],
   "source": [
    "from langchain.prompts import ChatPromptTemplate\n",
    "from langchain.chat_models import ChatOpenAI\n",
    "\n",
    "llm = ChatOpenAI(model=\"gpt-4o-mini\", api_key=api_key)\n",
    "\n",
    "chat_template = ChatPromptTemplate.from_messages([\n",
    "    (\"system\", \"If given name of the terrain and wild animals, you will gnerate the name of the national park.\"),\n",
    "    (\"human\" , \"{text}\")\n",
    "])\n",
    "\n",
    "# method 1\n",
    "response = llm.invoke(chat_template.format_messages(text=\"bears on mountain\"))\n",
    "print(response.content)\n",
    "\n",
    "# method 2\n",
    "llm_chain = chat_template | llm\n",
    "response = llm_chain.invoke(input=[{\"text\": \"bears on mountains\"}])\n",
    "print(response.content)"
   ]
  },
  {
   "cell_type": "code",
   "execution_count": 195,
   "id": "95b84775-059c-426d-8127-00f1f4cb8e13",
   "metadata": {},
   "outputs": [
    {
     "name": "stdout",
     "output_type": "stream",
     "text": [
      "I recommend visiting Bearclaw Peaks National Park! This stunning park features breathtaking mountain landscapes, dense forests, and a variety of wildlife, including black and grizzly bears. You can explore scenic hiking trails that wind through alpine meadows and rugged terrains. Don't miss the chance to enjoy picturesque viewpoints overlooking the valleys below, and keep your camera ready for those unforgettable wildlife encounters!\n"
     ]
    }
   ],
   "source": [
    "from langchain.prompts import ChatPromptTemplate\n",
    "\n",
    "park_template = ChatPromptTemplate.from_messages([\n",
    "    (\"system\", \"You are an avid traveller of nature. You like to give suggestions of national parks for travel.\"),\n",
    "    (\"system\", \"You always make up a new name of a national park and suggest it.\"),\n",
    "    (\"human\", \"Hello, how are you doing?\"),\n",
    "    (\"ai\", \"I'm doing well, thanks. Give me suggestions of animal or terrain.\"),\n",
    "    (\"human\",\"{animal} {terrain}\"),\n",
    "    (\"human\", \"{text}\")\n",
    "])\n",
    "\n",
    "messages = park_template.format_messages(animal=\"bears\", terrain=\"mountains\", text=\"\")\n",
    "response = llm.invoke(messages)\n",
    "print(response.content)"
   ]
  },
  {
   "cell_type": "code",
   "execution_count": 196,
   "id": "8e956552-16b3-4df0-894d-09c381d047cf",
   "metadata": {},
   "outputs": [
    {
     "name": "stdout",
     "output_type": "stream",
     "text": [
      "I recommend visiting **Penguin Dunes National Park**! This unique park features stunning sandy landscapes that mimic a desert environment, but with a twist: it's home to a large colony of penguins that have adapted to this unusual habitat. You can explore the rolling dunes, witness the adorable penguins waddling around, and enjoy guided tours that educate visitors about their fascinating behaviors and survival strategies in such an arid environment. Don't forget your camera for some incredible wildlife photography!\n"
     ]
    }
   ],
   "source": [
    "messages = park_template.format_messages(\n",
    "    animal=\"penguin\",\n",
    "    terrain=\"desert\",\n",
    "    text=\"\")\n",
    "\n",
    "response = llm(messages)\n",
    "print(response.content)"
   ]
  },
  {
   "cell_type": "code",
   "execution_count": 197,
   "id": "b4e787d5-f415-4589-aad0-71a24e2d6a2d",
   "metadata": {},
   "outputs": [
    {
     "name": "stdout",
     "output_type": "stream",
     "text": [
      "While video games can be a lot of fun, I highly recommend stepping outside and experiencing nature as well! If you're looking for a unique national park experience, consider visiting **Emerald Valley National Park**. This park is known for its lush, emerald-green forests, cascading waterfalls, and diverse wildlife. You can explore scenic hiking trails, enjoy birdwatching, and even have a chance to spot rare species in their natural habitat. It's a perfect escape for both adventure and tranquility!\n"
     ]
    }
   ],
   "source": [
    "messages = park_template.format_messages(\n",
    "    animal=\"\",\n",
    "    terrain=\"\",\n",
    "    text=\"I rather go to play video games, any suggestions\")\n",
    "\n",
    "response = llm(messages)\n",
    "print(response.content)"
   ]
  },
  {
   "cell_type": "markdown",
   "id": "bda5a78b-bb8d-4a04-8673-5de774929f43",
   "metadata": {},
   "source": [
    "### Examples of Chain"
   ]
  },
  {
   "cell_type": "code",
   "execution_count": 199,
   "id": "92f9a451-259d-4a8c-9c8d-3dcc66efd5f5",
   "metadata": {},
   "outputs": [],
   "source": [
    "# Import required libraries\n",
    "import os  \n",
    "from dotenv import load_dotenv  \n",
    "from operator import itemgetter\n",
    "from langchain.chat_models import ChatOpenAI\n",
    "from langchain.embeddings import OpenAIEmbeddings\n",
    "from langchain.prompts import ChatPromptTemplate\n",
    "from langchain.schema.output_parser import StrOutputParser\n",
    "from langchain.schema.runnable import RunnableLambda, RunnablePassthrough\n",
    "from langchain.vectorstores import FAISS"
   ]
  },
  {
   "cell_type": "code",
   "execution_count": 200,
   "id": "12d9df44-8965-4a19-b33f-7687345fbbde",
   "metadata": {},
   "outputs": [
    {
     "ename": "FileNotFoundError",
     "evalue": "[Errno 2] No such file or directory: 'stories.txt'",
     "output_type": "error",
     "traceback": [
      "\u001b[0;31m---------------------------------------------------------------------------\u001b[0m",
      "\u001b[0;31mFileNotFoundError\u001b[0m                         Traceback (most recent call last)",
      "Cell \u001b[0;32mIn[200], line 2\u001b[0m\n\u001b[1;32m      1\u001b[0m \u001b[38;5;66;03m# Load context text \u001b[39;00m\n\u001b[0;32m----> 2\u001b[0m \u001b[38;5;28;01mwith\u001b[39;00m \u001b[38;5;28;43mopen\u001b[39;49m\u001b[43m(\u001b[49m\u001b[38;5;124;43m'\u001b[39;49m\u001b[38;5;124;43mstories.txt\u001b[39;49m\u001b[38;5;124;43m'\u001b[39;49m\u001b[43m)\u001b[49m \u001b[38;5;28;01mas\u001b[39;00m f:\n\u001b[1;32m      3\u001b[0m     context \u001b[38;5;241m=\u001b[39m f\u001b[38;5;241m.\u001b[39mread()\n",
      "File \u001b[0;32m~/.cache/pypoetry/virtualenvs/datacamp-ml-M1zkPQRL-py3.10/lib/python3.10/site-packages/IPython/core/interactiveshell.py:324\u001b[0m, in \u001b[0;36m_modified_open\u001b[0;34m(file, *args, **kwargs)\u001b[0m\n\u001b[1;32m    317\u001b[0m \u001b[38;5;28;01mif\u001b[39;00m file \u001b[38;5;129;01min\u001b[39;00m {\u001b[38;5;241m0\u001b[39m, \u001b[38;5;241m1\u001b[39m, \u001b[38;5;241m2\u001b[39m}:\n\u001b[1;32m    318\u001b[0m     \u001b[38;5;28;01mraise\u001b[39;00m \u001b[38;5;167;01mValueError\u001b[39;00m(\n\u001b[1;32m    319\u001b[0m         \u001b[38;5;124mf\u001b[39m\u001b[38;5;124m\"\u001b[39m\u001b[38;5;124mIPython won\u001b[39m\u001b[38;5;124m'\u001b[39m\u001b[38;5;124mt let you open fd=\u001b[39m\u001b[38;5;132;01m{\u001b[39;00mfile\u001b[38;5;132;01m}\u001b[39;00m\u001b[38;5;124m by default \u001b[39m\u001b[38;5;124m\"\u001b[39m\n\u001b[1;32m    320\u001b[0m         \u001b[38;5;124m\"\u001b[39m\u001b[38;5;124mas it is likely to crash IPython. If you know what you are doing, \u001b[39m\u001b[38;5;124m\"\u001b[39m\n\u001b[1;32m    321\u001b[0m         \u001b[38;5;124m\"\u001b[39m\u001b[38;5;124myou can use builtins\u001b[39m\u001b[38;5;124m'\u001b[39m\u001b[38;5;124m open.\u001b[39m\u001b[38;5;124m\"\u001b[39m\n\u001b[1;32m    322\u001b[0m     )\n\u001b[0;32m--> 324\u001b[0m \u001b[38;5;28;01mreturn\u001b[39;00m \u001b[43mio_open\u001b[49m\u001b[43m(\u001b[49m\u001b[43mfile\u001b[49m\u001b[43m,\u001b[49m\u001b[43m \u001b[49m\u001b[38;5;241;43m*\u001b[39;49m\u001b[43margs\u001b[49m\u001b[43m,\u001b[49m\u001b[43m \u001b[49m\u001b[38;5;241;43m*\u001b[39;49m\u001b[38;5;241;43m*\u001b[39;49m\u001b[43mkwargs\u001b[49m\u001b[43m)\u001b[49m\n",
      "\u001b[0;31mFileNotFoundError\u001b[0m: [Errno 2] No such file or directory: 'stories.txt'"
     ]
    }
   ],
   "source": [
    "# Load context text \n",
    "with open('stories.txt') as f:\n",
    "    context = f.read()"
   ]
  },
  {
   "cell_type": "code",
   "execution_count": null,
   "id": "a1c93944-c4d2-44a1-acfa-891d6316154f",
   "metadata": {},
   "outputs": [],
   "source": []
  },
  {
   "cell_type": "code",
   "execution_count": null,
   "id": "c048a562-d505-4359-9d90-9e99bd6098cf",
   "metadata": {},
   "outputs": [],
   "source": []
  }
 ],
 "metadata": {
  "kernelspec": {
   "display_name": "Python 3 (ipykernel)",
   "language": "python",
   "name": "python3"
  },
  "language_info": {
   "codemirror_mode": {
    "name": "ipython",
    "version": 3
   },
   "file_extension": ".py",
   "mimetype": "text/x-python",
   "name": "python",
   "nbconvert_exporter": "python",
   "pygments_lexer": "ipython3",
   "version": "3.10.12"
  }
 },
 "nbformat": 4,
 "nbformat_minor": 5
}
