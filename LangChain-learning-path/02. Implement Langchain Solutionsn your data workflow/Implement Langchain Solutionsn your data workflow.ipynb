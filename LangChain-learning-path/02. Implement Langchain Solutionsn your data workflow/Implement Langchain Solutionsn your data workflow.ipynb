{
 "cells": [
  {
   "cell_type": "code",
   "execution_count": 5,
   "id": "26c7e046-9bdf-48a1-9005-988a3f8ce243",
   "metadata": {},
   "outputs": [],
   "source": [
    "import sys\n",
    "import os\n",
    "from openai import OpenAI\n",
    "\n",
    "# Go to the parent of the parent directory\n",
    "grandparent_dir = os.path.abspath(os.path.join(os.getcwd(), '..', '..'))\n",
    "sys.path.append(grandparent_dir)\n",
    "\n",
    "# Now you can import your config\n",
    "from config import api_key\n",
    "\n",
    "client = OpenAI(api_key=api_key)"
   ]
  },
  {
   "cell_type": "code",
   "execution_count": 9,
   "id": "4ca7ea35-fb5c-436b-b9cc-2e3763e3d0b3",
   "metadata": {},
   "outputs": [],
   "source": [
    "import os\n",
    "\n",
    "os.environ[\"LANGCHAIN_TRACING_v2\"] = \"true\"\n",
    "os.environ[\"LANGCHAIN_ENDPOINT\"] = \"http://api.smith.langchain.com\"\n",
    "os.environ[\"LANGCHAIN_API_KEY\"] = api_key"
   ]
  },
  {
   "cell_type": "code",
   "execution_count": 11,
   "id": "890ab710-0094-4d5b-a5da-40139742abf0",
   "metadata": {},
   "outputs": [],
   "source": [
    "from langchain.llms import OpenAI"
   ]
  },
  {
   "cell_type": "code",
   "execution_count": null,
   "id": "14eaccf7-3a37-475a-83e4-e4cd6b2421f3",
   "metadata": {},
   "outputs": [],
   "source": []
  }
 ],
 "metadata": {
  "kernelspec": {
   "display_name": "Python 3 (ipykernel)",
   "language": "python",
   "name": "python3"
  },
  "language_info": {
   "codemirror_mode": {
    "name": "ipython",
    "version": 3
   },
   "file_extension": ".py",
   "mimetype": "text/x-python",
   "name": "python",
   "nbconvert_exporter": "python",
   "pygments_lexer": "ipython3",
   "version": "3.10.12"
  }
 },
 "nbformat": 4,
 "nbformat_minor": 5
}
