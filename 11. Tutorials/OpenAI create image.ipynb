{
 "cells": [
  {
   "cell_type": "code",
   "execution_count": 6,
   "id": "1a1e939c-75d5-46ff-95b4-7fbf4ea7a2e7",
   "metadata": {},
   "outputs": [],
   "source": [
    "import sys\n",
    "import os\n",
    "import base64\n",
    "\n",
    "# Use current working directory and go one level up\n",
    "parent_dir = os.path.abspath(os.path.join(os.getcwd(), '..'))\n",
    "sys.path.append(parent_dir)\n",
    "\n",
    "# Now you can import your config\n",
    "from config import api_key"
   ]
  },
  {
   "cell_type": "code",
   "execution_count": 29,
   "id": "52f92345-3c83-4d24-b971-b24019425975",
   "metadata": {},
   "outputs": [],
   "source": [
    "img = client.images.generate(\n",
    "    model=\"dall-e-3\",\n",
    "    prompt=\"a Hogwarts wizzard school close to real image (not obvious simple drawing). Make it misterious, mystice and extravert.\",\n",
    "    n=1,\n",
    "    quality=\"standard\",\n",
    "    size=\"1024x1024\",\n",
    "    response_format=\"b64_json\")\n",
    "\n",
    "with open(\"test.png\", \"wb\") as f:\n",
    "    f.write(base64.b64decode(img.data[0].b64_json))"
   ]
  },
  {
   "cell_type": "code",
   "execution_count": 33,
   "id": "103d9141-5a9f-4c82-a811-071c5f3db4a4",
   "metadata": {
    "scrolled": true
   },
   "outputs": [],
   "source": [
    "img = client.images.generate(\n",
    "    model=\"dall-e-3\",\n",
    "    prompt=\"Create a photo like image of a tropical island, with sunset, some nice palm trees, some birds (e.g. parrots or pelicans), maybe a surfer or some other details that make it really look holiday like.\",\n",
    "    n=1,\n",
    "    quality=\"hd\",\n",
    "    size=\"1024x1024\",\n",
    "    response_format=\"b64_json\")\n",
    "\n",
    "with open(\"test.png\", \"wb\") as f:\n",
    "    f.write(base64.b64decode(img.data[0].b64_json))"
   ]
  },
  {
   "cell_type": "code",
   "execution_count": null,
   "id": "60cf4205-10a4-41a4-b017-171b3b73d9ad",
   "metadata": {},
   "outputs": [],
   "source": []
  }
 ],
 "metadata": {
  "kernelspec": {
   "display_name": "Python 3 (ipykernel)",
   "language": "python",
   "name": "python3"
  },
  "language_info": {
   "codemirror_mode": {
    "name": "ipython",
    "version": 3
   },
   "file_extension": ".py",
   "mimetype": "text/x-python",
   "name": "python",
   "nbconvert_exporter": "python",
   "pygments_lexer": "ipython3",
   "version": "3.10.12"
  }
 },
 "nbformat": 4,
 "nbformat_minor": 5
}
