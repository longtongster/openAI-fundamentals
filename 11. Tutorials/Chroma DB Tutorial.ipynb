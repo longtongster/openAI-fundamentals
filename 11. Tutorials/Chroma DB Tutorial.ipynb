{
 "cells": [
  {
   "cell_type": "markdown",
   "id": "3e3c09a5-e529-4780-a263-154d30b6b8a6",
   "metadata": {},
   "source": [
    "Reference - https://www.datacamp.com/tutorial/chromadb-tutorial-step-by-step-guide"
   ]
  },
  {
   "cell_type": "code",
   "execution_count": null,
   "id": "26068acd-5b0f-4b08-880f-8f7351f06fa9",
   "metadata": {},
   "outputs": [],
   "source": [
    "import sys\n",
    "import os\n",
    "\n",
    "# Use current working directory and go one level up\n",
    "parent_dir = os.path.abspath(os.path.join(os.getcwd(), '..'))\n",
    "sys.path.append(parent_dir)\n",
    "\n",
    "# Now you can import your config\n",
    "from config import api_key"
   ]
  },
  {
   "cell_type": "code",
   "execution_count": null,
   "id": "38d180c8-7930-4175-8007-ad44d3876a08",
   "metadata": {},
   "outputs": [],
   "source": [
    "import os\n",
    "os.environ[\"ALLOW_RESET\"] = \"TRUE\""
   ]
  },
  {
   "cell_type": "code",
   "execution_count": null,
   "id": "8effd79c-add7-48c5-a177-44c1191bbd93",
   "metadata": {},
   "outputs": [],
   "source": [
    "import chromadb\n",
    "\n",
    "# create a client\n",
    "client = chromadb.PersistentClient(path=\"db/\")\n",
    "\n",
    "# create a 'table'\n",
    "collection = client.create_collection(name=\"Students\")"
   ]
  },
  {
   "cell_type": "code",
   "execution_count": null,
   "id": "d6466066-a0af-4866-9a54-76dc1d2a2e42",
   "metadata": {},
   "outputs": [],
   "source": [
    "student_info = \"\"\"\n",
    "Alexandra Thompson, a 19-year-old computer science sophomore with a 3.7 GPA,\n",
    "is a member of the programming and chess clubs who enjoys pizza, swimming, and hiking\n",
    "in her free time in hopes of working at a tech company after graduating from the University of Washington.\n",
    "\"\"\"\n",
    "\n",
    "club_info = \"\"\"\n",
    "The university chess club provides an outlet for students to come together and enjoy playing\n",
    "the classic strategy game of chess. Members of all skill levels are welcome, from beginners learning\n",
    "the rules to experienced tournament players. The club typically meets a few times per week to play casual games,\n",
    "participate in tournaments, analyze famous chess matches, and improve members' skills.\n",
    "\"\"\"\n",
    "\n",
    "university_info = \"\"\"\n",
    "The University of Washington, founded in 1861 in Seattle, is a public research university\n",
    "with over 45,000 students across three campuses in Seattle, Tacoma, and Bothell.\n",
    "As the flagship institution of the six public universities in Washington state,\n",
    "UW encompasses over 500 buildings and 20 million square feet of space,\n",
    "including one of the largest library systems in the world.\n",
    "\"\"\""
   ]
  },
  {
   "cell_type": "markdown",
   "id": "cbb44067-d36f-4e1e-9a06-f96eb5586667",
   "metadata": {},
   "source": [
    "Now, we will use the `add()` function to add text data with metadata and unique IDs. After that, Chroma will automatically download the all-MiniLM-L6-v2 model to convert the text into embeddings and store it in the \"Students\" collection."
   ]
  },
  {
   "cell_type": "code",
   "execution_count": null,
   "id": "5662cf83-caf2-481a-97c7-6a239e347224",
   "metadata": {},
   "outputs": [],
   "source": [
    "collection.add(\n",
    "    documents = [student_info, club_info, university_info],\n",
    "    metadatas = [{\"source\": \"student info\"},{\"source\": \"club info\"},{'source':'university info'}],\n",
    "    ids = [\"id1\", \"id2\", \"id3\"]\n",
    ")"
   ]
  },
  {
   "cell_type": "markdown",
   "id": "99b4846d-7f66-4c7f-87b2-a63438c55171",
   "metadata": {},
   "source": [
    "To run a similarity search, you can use the `query()` function and ask questions in natural language. It will convert the query into embedding and use similarity algorithms to generate similar results. In our case, it is returning two similar results."
   ]
  },
  {
   "cell_type": "code",
   "execution_count": null,
   "id": "c9e2a15f-7b5a-4cf1-88b6-04c0e3756c05",
   "metadata": {},
   "outputs": [],
   "source": [
    "results = collection.query(\n",
    "    query_texts=[\"What is the student name?\"],\n",
    "    n_results=2\n",
    ")\n",
    "\n",
    "results"
   ]
  },
  {
   "cell_type": "code",
   "execution_count": null,
   "id": "5dbf469a-dce9-4820-8c75-ef0a92e66230",
   "metadata": {},
   "outputs": [],
   "source": [
    "from chromadb.utils import embedding_functions\n",
    "\n",
    "openai_ef = embedding_functions.OpenAIEmbeddingFunction(\n",
    "        api_key=api_key,\n",
    "        model_name=\"text-embedding-ada-002\")\n",
    "\n",
    "students_embeddings = openai_ef([student_info, club_info, university_info])\n",
    "print(students_embeddings)"
   ]
  },
  {
   "cell_type": "markdown",
   "id": "af31dedc-5c07-40a0-b57d-eaa198511952",
   "metadata": {},
   "source": [
    "Instead of using the default embedding model, we will load the embedding already created directly into the collections.\n",
    "\n",
    "1. We will use the `get_or_create_collection()` function to create a new collection called \"Students2\". This function is different from `create_collection()`. It will get a collection or create if it doesn't exist already.\n",
    "2. We will now add embedding, text documents, metadata, and IDs to our newly created collection."
   ]
  },
  {
   "cell_type": "code",
   "execution_count": null,
   "id": "78ca7576-accb-461b-a1d0-22e722d39a74",
   "metadata": {},
   "outputs": [],
   "source": [
    "collection2 = client.get_or_create_collection(name=\"Students2\")\n",
    "\n",
    "collection2.add(\n",
    "    embeddings = students_embeddings,\n",
    "    documents = [student_info, club_info, university_info],\n",
    "    metadatas = [{\"source\": \"student info\"},{\"source\": \"club info\"},{'source':'university info'}],\n",
    "    ids = [\"id1\", \"id2\", \"id3\"]\n",
    ")"
   ]
  },
  {
   "cell_type": "markdown",
   "id": "258ba689-75cb-4383-b12b-e45173341ddd",
   "metadata": {},
   "source": [
    "There is another, more straightforward method, too. You can add an OpenAI embedding function while creating or accessing the collection. Apart from OpenAI, you can use Cohere, Google PaLM, HuggingFace, and Instructor models.\n",
    "\n",
    "In our case, adding new text documents will run an OpenAI embedding function instead of the default model to convert text into embeddings."
   ]
  },
  {
   "cell_type": "code",
   "execution_count": null,
   "id": "2d9f8605-e476-4426-b208-1cb3413586a7",
   "metadata": {},
   "outputs": [],
   "source": [
    "collection2 = client.get_or_create_collection(name=\"Students2\",embedding_function=openai_ef)\n",
    "\n",
    "collection2.add(\n",
    "    documents = [student_info, club_info, university_info],\n",
    "    metadatas = [{\"source\": \"student info\"},{\"source\": \"club info\"},{'source':'university info'}],\n",
    "    ids = [\"id1\", \"id2\", \"id3\"]\n",
    ")"
   ]
  },
  {
   "cell_type": "code",
   "execution_count": null,
   "id": "622c9b2d-49be-4389-9848-560534f23c80",
   "metadata": {},
   "outputs": [],
   "source": [
    "results = collection2.query(\n",
    "    query_texts=['What is the student name?'],\n",
    "    n_results=2)\n",
    "\n",
    "results"
   ]
  },
  {
   "cell_type": "markdown",
   "id": "7a5faf75-32f5-4097-b631-ba7a050f5318",
   "metadata": {},
   "source": [
    "Just like relational databases, you can update or remove the values from the collections. To update the text and metadata, we will provide the specific ID for the record and new text."
   ]
  },
  {
   "cell_type": "code",
   "execution_count": null,
   "id": "d5289704-a654-42b3-84ae-4d68964cd2d5",
   "metadata": {},
   "outputs": [],
   "source": [
    "collection2.update(\n",
    "    ids=[\"id1\"],\n",
    "    documents=[\"Kristiane Carina, a 19-year-old computer science sophomore with a 3.7 GPA\"],\n",
    "    metadatas=[{\"source\": \"student info\"}],\n",
    "\n",
    ")"
   ]
  },
  {
   "cell_type": "code",
   "execution_count": null,
   "id": "e810c365-2e6b-4044-9fc9-88a99869c163",
   "metadata": {},
   "outputs": [],
   "source": [
    "results = collection2.query(\n",
    "    query_texts=[\"What is the student name?\"],\n",
    "    n_results=2\n",
    ")\n",
    "\n",
    "results"
   ]
  },
  {
   "cell_type": "code",
   "execution_count": null,
   "id": "54a51459-cc50-4d86-9f4b-c6cf9a0834bf",
   "metadata": {},
   "outputs": [],
   "source": [
    "collection2.delete(ids = ['id1'])\n",
    "\n",
    "\n",
    "results = collection2.query(\n",
    "    query_texts=[\"What is the student name?\"],\n",
    "    n_results=2\n",
    ")\n",
    "\n",
    "results"
   ]
  },
  {
   "cell_type": "markdown",
   "id": "54631784-adc5-40ac-8655-9c009add7250",
   "metadata": {},
   "source": [
    "## Collection Management\n",
    "\n",
    "In this section, we will learn about the collection utility function that will make our lives much easier.\n",
    "\n",
    "We will create a new collection called \"vectordb\" and add the information about the Chroma DB cheat sheet, documentation, and JS API with metadata."
   ]
  },
  {
   "cell_type": "code",
   "execution_count": null,
   "id": "d1a702d8-5feb-4dcd-ab44-fdc86dc1f5e2",
   "metadata": {},
   "outputs": [],
   "source": [
    "vector_collections = client.create_collection(\"vectordb\")\n",
    "\n",
    "\n",
    "vector_collections.add(\n",
    "    documents=[\"This is Chroma DB CheatSheet\",\n",
    "               \"This is Chroma DB Documentation\",\n",
    "               \"This document Chroma JS API Docs\"],\n",
    "    metadatas=[{\"source\": \"Chroma Cheatsheet\"},\n",
    "    {\"source\": \"Chroma Doc\"},\n",
    "    {'source':'JS API Doc'}],\n",
    "    ids=[\"id1\", \"id2\", \"id3\"]\n",
    ")"
   ]
  },
  {
   "cell_type": "code",
   "execution_count": null,
   "id": "f83aec82-3828-4f92-ba69-f0fd41c108b5",
   "metadata": {},
   "outputs": [],
   "source": [
    "vector_collections.count()"
   ]
  },
  {
   "cell_type": "code",
   "execution_count": null,
   "id": "5cbafa1f-bfe8-4ef9-b43f-1f4fd6e7dea2",
   "metadata": {},
   "outputs": [],
   "source": [
    "vector_collections.get()"
   ]
  },
  {
   "cell_type": "code",
   "execution_count": null,
   "id": "c0dca9a5-5e9b-4294-afac-4c70ac4fda5d",
   "metadata": {},
   "outputs": [],
   "source": [
    "vector_collections.modify(name=\"chroma_info\")\n",
    "\n",
    "# list all collections\n",
    "client.list_collections()"
   ]
  },
  {
   "cell_type": "code",
   "execution_count": null,
   "id": "38e8c186-7140-4272-816a-439b0f3c2388",
   "metadata": {},
   "outputs": [],
   "source": [
    "vector_collections_new = client.get_collection(name=\"chroma_info\")"
   ]
  },
  {
   "cell_type": "code",
   "execution_count": null,
   "id": "628d4293-4477-4c55-8c5f-f83099c601f1",
   "metadata": {},
   "outputs": [],
   "source": [
    "client.delete_collection(name=\"chroma_info\")\n",
    "client.list_collections()"
   ]
  },
  {
   "cell_type": "code",
   "execution_count": null,
   "id": "46c2d0b5-8ee7-47c4-8f30-b1a5c9092201",
   "metadata": {},
   "outputs": [],
   "source": [
    "client.reset()\n",
    "client.list_collections()"
   ]
  },
  {
   "cell_type": "code",
   "execution_count": null,
   "id": "e65fe7ee-0784-4103-ad2f-96d9c9f521ea",
   "metadata": {},
   "outputs": [],
   "source": []
  },
  {
   "cell_type": "code",
   "execution_count": null,
   "id": "abc25a65-c1e2-4fd5-b02d-ca54d1d14c2d",
   "metadata": {},
   "outputs": [],
   "source": []
  }
 ],
 "metadata": {
  "kernelspec": {
   "display_name": "Python 3 (ipykernel)",
   "language": "python",
   "name": "python3"
  },
  "language_info": {
   "codemirror_mode": {
    "name": "ipython",
    "version": 3
   },
   "file_extension": ".py",
   "mimetype": "text/x-python",
   "name": "python",
   "nbconvert_exporter": "python",
   "pygments_lexer": "ipython3",
   "version": "3.10.12"
  }
 },
 "nbformat": 4,
 "nbformat_minor": 5
}
