{
 "cells": [
  {
   "cell_type": "markdown",
   "id": "4f2ad5a9-ecfe-41bf-bfc8-098d1c46cc39",
   "metadata": {},
   "source": [
    "# Fine-tuning GPT-3 using the OpenAI API and Python\n",
    "\n",
    "reference: https://app.datacamp.com/learn/tutorials/fine-tuning-gpt-3-using-the-open-ai-api-and-python"
   ]
  },
  {
   "cell_type": "code",
   "execution_count": 5,
   "id": "898edc1f-6217-4383-9160-02bd456f773f",
   "metadata": {},
   "outputs": [],
   "source": [
    "import sys\n",
    "import os\n",
    "from openai import OpenAI\n",
    "\n",
    "# Use current working directory and go one level up\n",
    "parent_dir = os.path.abspath(os.path.join(os.getcwd(), '..'))\n",
    "sys.path.append(parent_dir)\n",
    "\n",
    "# Now you can import your config\n",
    "from config import api_key\n",
    "\n",
    "client = OpenAI(api_key=api_key)"
   ]
  },
  {
   "cell_type": "markdown",
   "id": "748b0859-9569-4abc-a26a-f3e30843a128",
   "metadata": {},
   "source": [
    "### Dataset"
   ]
  },
  {
   "cell_type": "code",
   "execution_count": 3,
   "id": "1307ccf2-187f-4f90-8449-8434d176e818",
   "metadata": {},
   "outputs": [],
   "source": [
    "training_data = [\n",
    "\t{\n",
    "    \t\"prompt\": \"What is the capital of France?->\",\n",
    "    \t\"completion\": \"\"\" The capital of France is Paris.\\n\"\"\"\n",
    "\t},\n",
    "\t{\n",
    "    \t\"prompt\": \"What is the primary function of the heart?->\",\n",
    "    \t\"completion\": \"\"\" The primary function of the heart is to pump blood throughout the body.\\n\"\"\"\n",
    "\t},\n",
    "\t{\n",
    "    \t\"prompt\": \"What is photosynthesis?->\",\n",
    "    \t\"completion\": \"\"\" Photosynthesis is the process by which green plants and some other organisms convert sunlight into chemical energy stored in the form of glucose.\\n\"\"\"\n",
    "\t},\n",
    "\t{\n",
    "    \t\"prompt\": \"Who wrote the play 'Romeo and Juliet'?->\",\n",
    "    \t\"completion\": \"\"\" William Shakespeare wrote the play 'Romeo and Juliet'.\\n\"\"\"\n",
    "\t},\n",
    "\t{\n",
    "    \t\"prompt\": \"Which element has the atomic number 1?->\",\n",
    "    \t\"completion\": \"\"\" Hydrogen has the atomic number 1.\\n\"\"\"\n",
    "\t},\n",
    "\t{\n",
    "    \t\"prompt\": \"What is the largest planet in our solar system?->\",\n",
    "    \t\"completion\": \"\"\" Jupiter is the largest planet in our solar system.\\n\"\"\"\n",
    "\t},\n",
    "\t{\n",
    "    \t\"prompt\": \"What is the freezing point of water in Celsius?->\",\n",
    "    \t\"completion\": \"\"\" The freezing point of water in Celsius is 0 degrees.\\n\"\"\"\n",
    "\t},\n",
    "\t{\n",
    "    \t\"prompt\": \"What is the square root of 144?->\",\n",
    "    \t\"completion\": \"\"\" The square root of 144 is 12.\\n\"\"\"\n",
    "\t},\n",
    "\t{\n",
    "    \t\"prompt\": \"Who is the author of 'To Kill a Mockingbird'?->\",\n",
    "    \t\"completion\": \"\"\" The author of 'To Kill a Mockingbird' is Harper Lee.\\n\"\"\"\n",
    "\t},\n",
    "\t{\n",
    "    \t\"prompt\": \"What is the smallest unit of life?->\",\n",
    "    \t\"completion\": \"\"\" The smallest unit of life is the cell.\\n\"\"\"\n",
    "\t}\n",
    "]\n",
    "\n",
    "validation_data = [\n",
    "\t{\n",
    "    \t\"prompt\": \"Which gas do plants use for photosynthesis?->\",\n",
    "    \t\"completion\": \"\"\" Plants use carbon dioxide for photosynthesis.\\n\"\"\"\n",
    "\t},\n",
    "\t{\n",
    "    \t\"prompt\": \"What are the three primary colors of light?->\",\n",
    "    \t\"completion\": \"\"\" The three primary colors of light are red, green, and blue.\\n\"\"\"\n",
    "\t},\n",
    "\t{\n",
    "    \t\"prompt\": \"Who discovered penicillin?->\",\n",
    "    \t\"completion\": \"\"\" Sir Alexander Fleming discovered penicillin.\\n\"\"\"\n",
    "\t},\n",
    "\t{\n",
    "    \t\"prompt\": \"What is the chemical formula for water?->\",\n",
    "    \t\"completion\": \"\"\" The chemical formula for water is H2O.\\n\"\"\"\n",
    "\t},\n",
    "\t{\n",
    "    \t\"prompt\": \"What is the largest country by land area?->\",\n",
    "    \t\"completion\": \"\"\" Russia is the largest country by land area.\\n\"\"\"\n",
    "\t},\n",
    "\t{\n",
    "    \t\"prompt\": \"What is the speed of light in a vacuum?->\",\n",
    "    \t\"completion\": \"\"\" The speed of light in a vacuum is approximately 299,792 kilometers per second.\\n\"\"\"\n",
    "\t},\n",
    "\t{\n",
    "    \t\"prompt\": \"What is the currency of Japan?->\",\n",
    "    \t\"completion\": \"\"\" The currency of Japan is the Japanese Yen.\\n\"\"\"\n",
    "\t},\n",
    "\t{\n",
    "    \t\"prompt\": \"What is the smallest bone in the human body?->\",\n",
    "    \t\"completion\": \"\"\" The stapes, located in the middle ear, is the smallest bone in the human body.\\n\"\"\"\n",
    "\t}\n",
    "]"
   ]
  },
  {
   "cell_type": "markdown",
   "id": "a9961f27-56da-4660-95b4-962c7b28a24e",
   "metadata": {},
   "source": [
    "### Prepare the dataset"
   ]
  },
  {
   "cell_type": "code",
   "execution_count": 28,
   "id": "89813f42-eac4-41cd-836f-f18056a1bf8c",
   "metadata": {},
   "outputs": [],
   "source": [
    "import json\n",
    "from pathlib import Path\n",
    "\n",
    "data_dir = Path(\"./data\")\n",
    "data_dir.mkdir(parents=True, exist_ok=True)\n",
    "\n",
    "training_file_name = data_dir / \"training_data.jsonl\"\n",
    "validation_file_name = data_dir / \"validation_data.jsonl\"\n",
    "\n",
    "dictionary_data=training_data\n",
    "final_file_name = training_file_name\n",
    "\n",
    "def prepare_data(dictionary_data, final_file_name):\n",
    "    with open(final_file_name, \"w\") as outfile:\n",
    "        for entry in dictionary_data:\n",
    "            #print(entry)\n",
    "            # write the entry in json format to the file\n",
    "            json.dump(entry, outfile)\n",
    "            # write each entry on it new line\n",
    "            outfile.write(\"\\n\")\n",
    "\n",
    "prepare_data(training_data, training_file_name)\n",
    "prepare_data(validation_data, validation_file_name)"
   ]
  },
  {
   "cell_type": "markdown",
   "id": "df42fe04-aa7b-491b-b776-7dffb98a1931",
   "metadata": {},
   "source": [
    "### Upload the datasets to OpenAI"
   ]
  },
  {
   "cell_type": "code",
   "execution_count": 30,
   "id": "13731f1c-1975-4041-bca5-5aa4365444b8",
   "metadata": {},
   "outputs": [
    {
     "name": "stdout",
     "output_type": "stream",
     "text": [
      "Training File ID: FileObject(id='file-Peq3w1aEmp7xUB6diEXBF4', bytes=1310, created_at=1744869634, filename='training_data.jsonl', object='file', purpose='fine-tune', status='processed', expires_at=None, status_details=None)\n",
      "Validation File ID: FileObject(id='file-JhBRuBDmiAX7zFjuuQgVrW', bytes=1036, created_at=1744869635, filename='validation_data.jsonl', object='file', purpose='fine-tune', status='processed', expires_at=None, status_details=None)\n"
     ]
    }
   ],
   "source": [
    "training_file_id = client.files.create(\n",
    "  file=open(training_file_name, \"rb\"),\n",
    "  purpose=\"fine-tune\"\n",
    ")\n",
    "\n",
    "validation_file_id = client.files.create(\n",
    "  file=open(validation_file_name, \"rb\"),\n",
    "  purpose=\"fine-tune\"\n",
    ")\n",
    "\n",
    "print(f\"Training File ID: {training_file_id}\")\n",
    "print(f\"Validation File ID: {validation_file_id}\")"
   ]
  },
  {
   "cell_type": "markdown",
   "id": "bed0ee5b-c1b8-47f2-bc47-6339bad994ae",
   "metadata": {},
   "source": [
    "The model from the tutorial is no longer available for training"
   ]
  },
  {
   "cell_type": "raw",
   "id": "a83a1cd9-c028-4b1b-a42c-0fbf581f89d2",
   "metadata": {},
   "source": [
    "response = client.fine_tuning.jobs.create(\n",
    "  training_file=training_file_id.id, \n",
    "  validation_file=validation_file_id.id,\n",
    "  model=\"babbage-002\", \n",
    "  hyperparameters={\n",
    "    \"n_epochs\": 15,\n",
    "\t\"batch_size\": 3,\n",
    "\t\"learning_rate_multiplier\": 0.3\n",
    "  }\n",
    ")\n",
    "job_id = response.id\n",
    "status = response.status\n",
    "\n",
    "print(f'Fine-tunning model with jobID: {job_id}.')\n",
    "print(f\"Training Response: {response}\")\n",
    "print(f\"Training Status: {status}\")"
   ]
  },
  {
   "cell_type": "code",
   "execution_count": 34,
   "id": "ef2374df-481d-4c1a-8db9-e64c446e8704",
   "metadata": {},
   "outputs": [],
   "source": [
    "import openai"
   ]
  },
  {
   "cell_type": "code",
   "execution_count": 39,
   "id": "7da0aaa1-17e0-42e8-bea2-f3b000cdb1f0",
   "metadata": {},
   "outputs": [
    {
     "data": {
      "text/plain": [
       "SyncPage[Model](data=[Model(id='gpt-4o-audio-preview-2024-12-17', created=1734034239, object='model', owned_by='system'), Model(id='dall-e-3', created=1698785189, object='model', owned_by='system'), Model(id='text-embedding-3-large', created=1705953180, object='model', owned_by='system'), Model(id='dall-e-2', created=1698798177, object='model', owned_by='system'), Model(id='o4-mini-2025-04-16', created=1744133506, object='model', owned_by='system'), Model(id='gpt-4o-audio-preview-2024-10-01', created=1727389042, object='model', owned_by='system'), Model(id='gpt-4.1-mini', created=1744318173, object='model', owned_by='system'), Model(id='gpt-4.1-mini-2025-04-14', created=1744317547, object='model', owned_by='system'), Model(id='o4-mini', created=1744225351, object='model', owned_by='system'), Model(id='o1-pro', created=1742251791, object='model', owned_by='system'), Model(id='gpt-4-0125-preview', created=1706037612, object='model', owned_by='system'), Model(id='o1-pro-2025-03-19', created=1742251504, object='model', owned_by='system'), Model(id='gpt-4-turbo-preview', created=1706037777, object='model', owned_by='system'), Model(id='gpt-4.1-nano', created=1744321707, object='model', owned_by='system'), Model(id='gpt-4.1-nano-2025-04-14', created=1744321025, object='model', owned_by='system'), Model(id='gpt-4o-realtime-preview-2024-10-01', created=1727131766, object='model', owned_by='system'), Model(id='gpt-4o-realtime-preview', created=1727659998, object='model', owned_by='system'), Model(id='babbage-002', created=1692634615, object='model', owned_by='system'), Model(id='o1', created=1734375816, object='model', owned_by='system'), Model(id='tts-1-hd-1106', created=1699053533, object='model', owned_by='system'), Model(id='o1-2024-12-17', created=1734326976, object='model', owned_by='system'), Model(id='gpt-4', created=1687882411, object='model', owned_by='openai'), Model(id='text-embedding-ada-002', created=1671217299, object='model', owned_by='openai-internal'), Model(id='tts-1-hd', created=1699046015, object='model', owned_by='system'), Model(id='gpt-4o-mini-audio-preview', created=1734387424, object='model', owned_by='system'), Model(id='gpt-4o-audio-preview', created=1727460443, object='model', owned_by='system'), Model(id='o1-preview-2024-09-12', created=1725648865, object='model', owned_by='system'), Model(id='gpt-4o-mini-realtime-preview', created=1734387380, object='model', owned_by='system'), Model(id='gpt-4o-mini-realtime-preview-2024-12-17', created=1734112601, object='model', owned_by='system'), Model(id='gpt-3.5-turbo-instruct-0914', created=1694122472, object='model', owned_by='system'), Model(id='gpt-4o-mini-search-preview', created=1741391161, object='model', owned_by='system'), Model(id='tts-1-1106', created=1699053241, object='model', owned_by='system'), Model(id='chatgpt-4o-latest', created=1723515131, object='model', owned_by='system'), Model(id='davinci-002', created=1692634301, object='model', owned_by='system'), Model(id='o3-mini', created=1737146383, object='model', owned_by='system'), Model(id='gpt-3.5-turbo-1106', created=1698959748, object='model', owned_by='system'), Model(id='gpt-4o-search-preview', created=1741388720, object='model', owned_by='system'), Model(id='gpt-4-turbo', created=1712361441, object='model', owned_by='system'), Model(id='o3-mini-2025-01-31', created=1738010200, object='model', owned_by='system'), Model(id='gpt-4o-realtime-preview-2024-12-17', created=1733945430, object='model', owned_by='system'), Model(id='gpt-3.5-turbo-instruct', created=1692901427, object='model', owned_by='system'), Model(id='gpt-3.5-turbo', created=1677610602, object='model', owned_by='openai'), Model(id='gpt-4-1106-preview', created=1698957206, object='model', owned_by='system'), Model(id='gpt-4o-mini-search-preview-2025-03-11', created=1741390858, object='model', owned_by='system'), Model(id='gpt-4o-2024-11-20', created=1739331543, object='model', owned_by='system'), Model(id='whisper-1', created=1677532384, object='model', owned_by='openai-internal'), Model(id='gpt-4o-2024-05-13', created=1715368132, object='model', owned_by='system'), Model(id='gpt-4-turbo-2024-04-09', created=1712601677, object='model', owned_by='system'), Model(id='gpt-3.5-turbo-16k', created=1683758102, object='model', owned_by='openai-internal'), Model(id='o1-preview', created=1725648897, object='model', owned_by='system'), Model(id='gpt-4-0613', created=1686588896, object='model', owned_by='openai'), Model(id='gpt-4.5-preview', created=1740623059, object='model', owned_by='system'), Model(id='gpt-4.5-preview-2025-02-27', created=1740623304, object='model', owned_by='system'), Model(id='gpt-4o-search-preview-2025-03-11', created=1741388170, object='model', owned_by='system'), Model(id='tts-1', created=1681940951, object='model', owned_by='openai-internal'), Model(id='omni-moderation-2024-09-26', created=1732734466, object='model', owned_by='system'), Model(id='text-embedding-3-small', created=1705948997, object='model', owned_by='system'), Model(id='gpt-4o-mini-tts', created=1742403959, object='model', owned_by='system'), Model(id='gpt-4o', created=1715367049, object='model', owned_by='system'), Model(id='gpt-4o-mini', created=1721172741, object='model', owned_by='system'), Model(id='gpt-4o-2024-08-06', created=1722814719, object='model', owned_by='system'), Model(id='gpt-4.1', created=1744316542, object='model', owned_by='system'), Model(id='gpt-4o-transcribe', created=1742068463, object='model', owned_by='system'), Model(id='gpt-4.1-2025-04-14', created=1744315746, object='model', owned_by='system'), Model(id='gpt-4o-mini-2024-07-18', created=1721172717, object='model', owned_by='system'), Model(id='gpt-4o-mini-transcribe', created=1742068596, object='model', owned_by='system'), Model(id='o1-mini', created=1725649008, object='model', owned_by='system'), Model(id='gpt-4o-mini-audio-preview-2024-12-17', created=1734115920, object='model', owned_by='system'), Model(id='gpt-3.5-turbo-0125', created=1706048358, object='model', owned_by='system'), Model(id='o1-mini-2024-09-12', created=1725648979, object='model', owned_by='system'), Model(id='omni-moderation-latest', created=1731689265, object='model', owned_by='system')], object='list')"
      ]
     },
     "execution_count": 39,
     "metadata": {},
     "output_type": "execute_result"
    }
   ],
   "source": [
    "client.models.list()"
   ]
  },
  {
   "cell_type": "code",
   "execution_count": null,
   "id": "9e22ecfc-da69-4434-ac3e-ee40e4d72d01",
   "metadata": {},
   "outputs": [],
   "source": []
  }
 ],
 "metadata": {
  "kernelspec": {
   "display_name": "Python 3 (ipykernel)",
   "language": "python",
   "name": "python3"
  },
  "language_info": {
   "codemirror_mode": {
    "name": "ipython",
    "version": 3
   },
   "file_extension": ".py",
   "mimetype": "text/x-python",
   "name": "python",
   "nbconvert_exporter": "python",
   "pygments_lexer": "ipython3",
   "version": "3.10.12"
  }
 },
 "nbformat": 4,
 "nbformat_minor": 5
}
