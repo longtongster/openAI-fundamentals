{
 "cells": [
  {
   "cell_type": "code",
   "execution_count": 2,
   "id": "16b36218-261d-46ab-9575-330a3ebaf614",
   "metadata": {},
   "outputs": [],
   "source": [
    "prompt = [{\n",
    "    \"role\": \"system\",\n",
    "    \"content\":\"You are a data extractor specializing in parsing and analyzing transcripts of job interviews\"\n",
    "    }]"
   ]
  },
  {
   "cell_type": "code",
   "execution_count": 3,
   "id": "d527b904-1a96-4ab7-abc1-b74acdf927fc",
   "metadata": {},
   "outputs": [],
   "source": [
    "def add(a,b):\n",
    "    return a + b"
   ]
  },
  {
   "cell_type": "code",
   "execution_count": 4,
   "id": "16ed692c-7558-4c58-9fc2-eb7b17624d26",
   "metadata": {},
   "outputs": [
    {
     "data": {
      "text/plain": [
       "5"
      ]
     },
     "execution_count": 4,
     "metadata": {},
     "output_type": "execute_result"
    }
   ],
   "source": [
    "add(2,3)"
   ]
  },
  {
   "cell_type": "code",
   "execution_count": 5,
   "id": "8b00a035-4d3e-47c2-a8cb-85d648fd927f",
   "metadata": {},
   "outputs": [],
   "source": [
    "a_b = {\"a\":2, \"b\":3}"
   ]
  },
  {
   "cell_type": "code",
   "execution_count": 6,
   "id": "b2c10148-75d7-49d1-a3a7-65ed2c4a1f87",
   "metadata": {},
   "outputs": [
    {
     "data": {
      "text/plain": [
       "5"
      ]
     },
     "execution_count": 6,
     "metadata": {},
     "output_type": "execute_result"
    }
   ],
   "source": [
    "add(**a_b)"
   ]
  },
  {
   "cell_type": "code",
   "execution_count": 10,
   "id": "0262afbe-71f3-464f-8b59-731059859180",
   "metadata": {},
   "outputs": [
    {
     "data": {
      "text/plain": [
       "5"
      ]
     },
     "execution_count": 10,
     "metadata": {},
     "output_type": "execute_result"
    }
   ],
   "source": [
    "a_b = [2,3]\n",
    "add(*a_b)"
   ]
  },
  {
   "cell_type": "code",
   "execution_count": null,
   "id": "42861484-a66e-4f9e-9560-6b9386a68192",
   "metadata": {},
   "outputs": [],
   "source": []
  }
 ],
 "metadata": {
  "kernelspec": {
   "display_name": "Python 3 (ipykernel)",
   "language": "python",
   "name": "python3"
  },
  "language_info": {
   "codemirror_mode": {
    "name": "ipython",
    "version": 3
   },
   "file_extension": ".py",
   "mimetype": "text/x-python",
   "name": "python",
   "nbconvert_exporter": "python",
   "pygments_lexer": "ipython3",
   "version": "3.10.12"
  }
 },
 "nbformat": 4,
 "nbformat_minor": 5
}
