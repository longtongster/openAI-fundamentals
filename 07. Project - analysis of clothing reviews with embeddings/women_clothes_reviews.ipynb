{
 "cells": [
  {
   "cell_type": "code",
   "execution_count": 1,
   "id": "184c7082-26b8-4f3c-ae35-1cbb6c957c9c",
   "metadata": {},
   "outputs": [],
   "source": [
    "import sys\n",
    "import os\n",
    "from openai import OpenAI\n",
    "\n",
    "# Use current working directory and go one level up\n",
    "parent_dir = os.path.abspath(os.path.join(os.getcwd(), '..'))\n",
    "sys.path.append(parent_dir)\n",
    "\n",
    "# Now you can import your config\n",
    "from config import api_key\n",
    "\n",
    "client = OpenAI(api_key=api_key)"
   ]
  },
  {
   "cell_type": "code",
   "execution_count": 2,
   "id": "ae3567a7-cb76-4fc9-b2ca-a17e2e36b2d8",
   "metadata": {},
   "outputs": [
    {
     "name": "stdout",
     "output_type": "stream",
     "text": [
      "(831, 11)\n"
     ]
    }
   ],
   "source": [
    "# Import required libraries\n",
    "import os\n",
    "import openai\n",
    "import pandas as pd\n",
    "import numpy as np\n",
    "from sklearn.manifold import TSNE\n",
    "import matplotlib.pyplot as plt\n",
    "import chromadb\n",
    "from scipy.spatial import distance\n",
    "from chromadb.utils.embedding_functions import OpenAIEmbeddingFunction\n",
    "\n",
    "# Initialize your API key\n",
    "openai_api_key = api_key\n",
    "\n",
    "#EMBEDDING_MODEL = \"text-embedding-ada-002\"\n",
    "EMBEDDING_MODEL = \"text-embedding-3-small\"\n",
    "\n",
    "# Load the dataset\n",
    "reviews = pd.read_csv(\"Womens Clothing E-Commerce Reviews.csv\").sample(n=1000, random_state=54).dropna()\n",
    "print(reviews.shape)\n",
    "review_texts = reviews[\"Review Text\"]\n",
    "\n",
    "# Create and store the embeddings for reviews in one API call\n",
    "client = openai.OpenAI(api_key=openai_api_key)\n",
    "responses = client.embeddings.create(input=review_texts.tolist(), model=EMBEDDING_MODEL).model_dump()\n",
    "embeddings = [response[\"embedding\"] for response in responses[\"data\"]]"
   ]
  },
  {
   "cell_type": "code",
   "execution_count": null,
   "id": "b1bdf4b5-a5c6-4841-933a-4588d1da3d98",
   "metadata": {},
   "outputs": [],
   "source": [
    "# Apply t-SNE for dimensionality reduction\n",
    "def apply_tsne(embeddings):\n",
    "    tsne = TSNE(n_components=2, random_state=0)\n",
    "    return tsne.fit_transform(embeddings)\n",
    "\n",
    "embeddings_2d = apply_tsne(np.array(embeddings))\n",
    "\n",
    "# Plotting the results of t-SNE\n",
    "def plot_tsne(tsne_results):\n",
    "    plt.figure(figsize=(12, 8))\n",
    "    for i, point in enumerate(tsne_results):\n",
    "        plt.scatter(point[0], point[1], alpha=0.5)\n",
    "        plt.text(point[0], point[1], str(i), fontsize=8, verticalalignment='center')\n",
    "    plt.title(\"t-SNE Visualization of Review Embeddings\")\n",
    "    plt.xlabel(\"t-SNE feature 1\")\n",
    "    plt.ylabel(\"t-SNE feature 2\")\n",
    "    plt.show()\n",
    "\n",
    "plot_tsne(embeddings_2d)"
   ]
  },
  {
   "cell_type": "code",
   "execution_count": null,
   "id": "d8a15a5f-27f3-4ccb-9681-3227de52e44b",
   "metadata": {},
   "outputs": [],
   "source": [
    "# Define topics\n",
    "categories = [\"Quality\", \"Fit\", \"Style\", \"Comfort\"]\n",
    "\n",
    "# Create embeddings for all categories in one API call\n",
    "category_responses = client.embeddings.create(input=categories, model=EMBEDDING_MODEL).model_dump()\n",
    "\n",
    "# Extract embeddings from the responses and map them to their respective categories\n",
    "category_embeddings = [embedding[\"embedding\"] for embedding in category_responses[\"data\"]]\n",
    "print(len(category_embeddings))\n",
    "\n",
    "# Function to categorize feedback\n",
    "def categorize_feedback(text_embedding, category_embeddings):\n",
    "    similarities = [{\"distance\": distance.cosine(text_embedding, cat_emb), \"index\":i}\n",
    "                     for i, cat_emb in enumerate(category_embeddings)]\n",
    "    closest = min(similarities, key=lambda x: x[\"index\"])\n",
    "    return categories[closest[\"index\"]]\n",
    "\n",
    "# Categorize feedback\n",
    "feedback_categories = [categorize_feedback(embedding, category_embeddings) for embedding in embeddings]"
   ]
  },
  {
   "cell_type": "code",
   "execution_count": 12,
   "id": "827d60ca-0234-4b1f-a6ab-9d4931ff35c7",
   "metadata": {},
   "outputs": [
    {
     "name": "stdout",
     "output_type": "stream",
     "text": [
      "['So soft!! such beautiful fabric!! it flows so gracefully and looks lovely with black leggings as pictured. one of my favorite retailer purchases to date...', \"Wasn't sure what to expect - but got this on sale, and glad i did.\\nit is much prettier in person. soft and silky.\\ngreat fit also - and versatile (mix and match)\", 'Absolutely stunning dress. true to size and flows like a dream.']\n"
     ]
    }
   ],
   "source": [
    "# Initialize Chromadb instance for vector storage\n",
    "client = chromadb.PersistentClient()\n",
    "\n",
    "# Define vector database\n",
    "review_embeddings_db = client.create_collection(\n",
    "    name=\"review_embeddings\",\n",
    "    embedding_function=OpenAIEmbeddingFunction(api_key=openai_api_key),\n",
    "    get_or_create=True)\n",
    "\n",
    "# Store embeddings inside vector database\n",
    "review_embeddings_db.add(\n",
    "    documents=review_texts.tolist(),\n",
    "    ids=[str(i) for i in range(len(review_texts))]\n",
    ")\n",
    "\n",
    "# Function for similarity search using vector db query function\n",
    "def find_similar_reviews(input_text, vector_db, n=3):\n",
    "    collection = client.get_collection(\n",
    "        name=\"review_embeddings\",\n",
    "        embedding_function=OpenAIEmbeddingFunction(api_key=openai_api_key))\n",
    "    results = collection.query(\n",
    "        query_texts=[input_text],\n",
    "        n_results=n\n",
    "    )\n",
    "    return results\n",
    "\n",
    "# Example feedback and finding similar feedback\n",
    "example_review = \"Absolutely wonderful - silky and sexy and comfortable\"\n",
    "most_similar_reviews = find_similar_reviews(example_review, review_embeddings_db, 3)[\"documents\"][0]\n",
    "print(most_similar_reviews)"
   ]
  },
  {
   "cell_type": "code",
   "execution_count": 4,
   "id": "fd31d4e2-98ab-4945-b6bc-87542feea6d0",
   "metadata": {},
   "outputs": [
    {
     "name": "stdout",
     "output_type": "stream",
     "text": [
      "Number of rows: 831\n"
     ]
    }
   ],
   "source": [
    "collection = client.get_collection(name=\"review_embeddings\")\n",
    "num_rows = collection.count()\n",
    "print(f\"Number of rows: {num_rows}\")"
   ]
  },
  {
   "cell_type": "code",
   "execution_count": 5,
   "id": "aaf7be28-d0d6-4cd0-b56d-ddf339dfc6e0",
   "metadata": {},
   "outputs": [
    {
     "name": "stdout",
     "output_type": "stream",
     "text": [
      "review_embeddings\n"
     ]
    }
   ],
   "source": [
    "collections = client.list_collections()\n",
    "for col in collections:\n",
    "    print(col.name)"
   ]
  },
  {
   "cell_type": "code",
   "execution_count": 11,
   "id": "25806345-c6b7-4e96-ab87-62de4bbf3dfd",
   "metadata": {},
   "outputs": [
    {
     "data": {
      "text/plain": [
       "{'ids': ['0', '1'],\n",
       " 'embeddings': array([[-0.03957852,  0.00538816, -0.01154047, ...,  0.00674664,\n",
       "         -0.02011582, -0.03490224],\n",
       "        [-0.02526411, -0.02035497, -0.00101609, ..., -0.0007762 ,\n",
       "          0.00932603, -0.02535723]], shape=(2, 1536)),\n",
       " 'documents': [\"I am a 32dd, 5'4'' and 125lbs and this top was way too baggy. it looked awful. this is shapeless and oversized. i would size down or just pass.\",\n",
       "  \"I've worn this shirt approx 3 times to work. each time someone comments on how much they like it. i'm attempting to add more color to my workwear. this shirt tends to swing so much i feel exposed. that is the biggest drawback.\"],\n",
       " 'uris': None,\n",
       " 'included': ['embeddings', 'metadatas', 'documents'],\n",
       " 'data': None,\n",
       " 'metadatas': [None, None]}"
      ]
     },
     "execution_count": 11,
     "metadata": {},
     "output_type": "execute_result"
    }
   ],
   "source": [
    "collection.peek(limit=2)"
   ]
  },
  {
   "cell_type": "code",
   "execution_count": 26,
   "id": "6e54006a-6479-46e6-b3d2-c0d7ed6a31f6",
   "metadata": {},
   "outputs": [
    {
     "data": {
      "text/html": [
       "<div>\n",
       "<style scoped>\n",
       "    .dataframe tbody tr th:only-of-type {\n",
       "        vertical-align: middle;\n",
       "    }\n",
       "\n",
       "    .dataframe tbody tr th {\n",
       "        vertical-align: top;\n",
       "    }\n",
       "\n",
       "    .dataframe thead th {\n",
       "        text-align: right;\n",
       "    }\n",
       "</style>\n",
       "<table border=\"1\" class=\"dataframe\">\n",
       "  <thead>\n",
       "    <tr style=\"text-align: right;\">\n",
       "      <th></th>\n",
       "      <th>Unnamed: 0</th>\n",
       "      <th>Clothing ID</th>\n",
       "      <th>Age</th>\n",
       "      <th>Title</th>\n",
       "      <th>Review Text</th>\n",
       "      <th>Rating</th>\n",
       "      <th>Recommended IND</th>\n",
       "      <th>Positive Feedback Count</th>\n",
       "      <th>Division Name</th>\n",
       "      <th>Department Name</th>\n",
       "      <th>Class Name</th>\n",
       "    </tr>\n",
       "  </thead>\n",
       "  <tbody>\n",
       "    <tr>\n",
       "      <th>10898</th>\n",
       "      <td>10898</td>\n",
       "      <td>860</td>\n",
       "      <td>26</td>\n",
       "      <td>Not if you're busty</td>\n",
       "      <td>I am a 32dd, 5'4'' and 125lbs and this top was...</td>\n",
       "      <td>2</td>\n",
       "      <td>0</td>\n",
       "      <td>0</td>\n",
       "      <td>General</td>\n",
       "      <td>Tops</td>\n",
       "      <td>Knits</td>\n",
       "    </tr>\n",
       "  </tbody>\n",
       "</table>\n",
       "</div>"
      ],
      "text/plain": [
       "       Unnamed: 0  Clothing ID  Age                Title  \\\n",
       "10898       10898          860   26  Not if you're busty   \n",
       "\n",
       "                                             Review Text  Rating  \\\n",
       "10898  I am a 32dd, 5'4'' and 125lbs and this top was...       2   \n",
       "\n",
       "       Recommended IND  Positive Feedback Count Division Name Department Name  \\\n",
       "10898                0                        0       General            Tops   \n",
       "\n",
       "      Class Name  \n",
       "10898      Knits  "
      ]
     },
     "execution_count": 26,
     "metadata": {},
     "output_type": "execute_result"
    }
   ],
   "source": [
    "reviews.head(1)"
   ]
  },
  {
   "cell_type": "code",
   "execution_count": 44,
   "id": "9a63666f-dc0b-4a76-834e-04b1de1c2a93",
   "metadata": {},
   "outputs": [],
   "source": [
    "ids = []\n",
    "metadata = []\n",
    "for index, irow in enumerate(reviews.iterrows()):\n",
    "    i, row = irow\n",
    "    ids.append(str(index))\n",
    "    metadata.append({\n",
    "        \"rating\": row[\"Rating\"],\n",
    "        \"title\": row[\"Title\"],\n",
    "        \"class_name\": row[\"Class Name\"]\n",
    "    })"
   ]
  },
  {
   "cell_type": "code",
   "execution_count": 46,
   "id": "bea50192-cd45-4365-810d-969ed94fa74b",
   "metadata": {},
   "outputs": [],
   "source": [
    "review_embeddings_db.update(ids=ids, metadatas=metadata)"
   ]
  },
  {
   "cell_type": "code",
   "execution_count": 49,
   "id": "296372fb-aba9-4642-a6fb-3dda381bfa11",
   "metadata": {},
   "outputs": [
    {
     "data": {
      "text/plain": [
       "{'ids': ['0', '1'],\n",
       " 'embeddings': array([[-0.03957852,  0.00538816, -0.01154047, ...,  0.00674664,\n",
       "         -0.02011582, -0.03490224],\n",
       "        [-0.02526411, -0.02035497, -0.00101609, ..., -0.0007762 ,\n",
       "          0.00932603, -0.02535723]], shape=(2, 1536)),\n",
       " 'documents': [\"I am a 32dd, 5'4'' and 125lbs and this top was way too baggy. it looked awful. this is shapeless and oversized. i would size down or just pass.\",\n",
       "  \"I've worn this shirt approx 3 times to work. each time someone comments on how much they like it. i'm attempting to add more color to my workwear. this shirt tends to swing so much i feel exposed. that is the biggest drawback.\"],\n",
       " 'uris': None,\n",
       " 'included': ['embeddings', 'metadatas', 'documents'],\n",
       " 'data': None,\n",
       " 'metadatas': [{'class_name': 'Knits',\n",
       "   'rating': 2,\n",
       "   'title': \"Not if you're busty\"},\n",
       "  {'title': 'Always receive a complement when i wear this',\n",
       "   'rating': 4,\n",
       "   'class_name': 'Knits'}]}"
      ]
     },
     "execution_count": 49,
     "metadata": {},
     "output_type": "execute_result"
    }
   ],
   "source": [
    "review_embeddings_db.peek(limit=2)"
   ]
  },
  {
   "cell_type": "code",
   "execution_count": null,
   "id": "85c2b125-d4ab-48aa-aa20-3edddcd9ec8a",
   "metadata": {},
   "outputs": [],
   "source": []
  }
 ],
 "metadata": {
  "kernelspec": {
   "display_name": "Python 3 (ipykernel)",
   "language": "python",
   "name": "python3"
  },
  "language_info": {
   "codemirror_mode": {
    "name": "ipython",
    "version": 3
   },
   "file_extension": ".py",
   "mimetype": "text/x-python",
   "name": "python",
   "nbconvert_exporter": "python",
   "pygments_lexer": "ipython3",
   "version": "3.10.12"
  }
 },
 "nbformat": 4,
 "nbformat_minor": 5
}
