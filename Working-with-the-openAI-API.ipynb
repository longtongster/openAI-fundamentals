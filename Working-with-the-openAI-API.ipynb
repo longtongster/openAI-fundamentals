{
 "cells": [
  {
   "cell_type": "markdown",
   "id": "7bf2148f-c116-4a47-b324-d82f02033845",
   "metadata": {},
   "source": [
    "# Working with the openAI API"
   ]
  },
  {
   "cell_type": "markdown",
   "id": "a1c61e74-1735-4938-8906-11c78a991f11",
   "metadata": {},
   "source": [
    "check the setup"
   ]
  },
  {
   "cell_type": "code",
   "execution_count": 10,
   "id": "c3229558-fab1-4ea6-babc-3253d3eb87be",
   "metadata": {},
   "outputs": [
    {
     "name": "stdout",
     "output_type": "stream",
     "text": [
      "Hello! How can I assist you today?\n"
     ]
    }
   ],
   "source": [
    "from config import api_key\n",
    "from openai import OpenAI\n",
    "\n",
    "client = OpenAI(api_key=api_key)\n",
    "\n",
    "response = client.chat.completions.create(\n",
    "    model=\"gpt-4\",\n",
    "    messages=[{\"role\": \"user\", \"content\": \"Hello!\"}]\n",
    ")\n",
    "\n",
    "print(response.choices[0].message.content)"
   ]
  },
  {
   "cell_type": "markdown",
   "id": "eeec1922-ca93-4e7b-9841-12f7bd32e8e7",
   "metadata": {},
   "source": [
    "## Chapter 1 - Introduction to the OpenAI API\n",
    "\n",
    "### Section 1.1 What is the OpenAI API?"
   ]
  },
  {
   "cell_type": "markdown",
   "id": "18271e92",
   "metadata": {},
   "source": [
    "#### Your first OpenAI API request!\n",
    "\n",
    "To preview what’s ahead, the Python code for sending a request to the OpenAI API is ready for you.\n",
    "\n",
    "Pass any question or instruction to the content argument and see how OpenAI's model responds!\n",
    "\n",
    "Here are a few prompts to try if you're struggling for ideas:\n",
    "\n",
    "- Why is learning the OpenAI API valuable for developers?\n",
    "- Suggest three tasks I could automate with the OpenAI API in my job.\n",
    "- In two sentences, how can the OpenAI API be used to upskill myself?"
   ]
  },
  {
   "cell_type": "code",
   "execution_count": 1,
   "id": "5356231e",
   "metadata": {
    "vscode": {
     "languageId": "plaintext"
    }
   },
   "outputs": [
    {
     "ename": "NameError",
     "evalue": "name 'client' is not defined",
     "output_type": "error",
     "traceback": [
      "\u001b[0;31m---------------------------------------------------------------------------\u001b[0m",
      "\u001b[0;31mNameError\u001b[0m                                 Traceback (most recent call last)",
      "Cell \u001b[0;32mIn[1], line 1\u001b[0m\n\u001b[0;32m----> 1\u001b[0m response \u001b[38;5;241m=\u001b[39m \u001b[43mclient\u001b[49m\u001b[38;5;241m.\u001b[39mchat\u001b[38;5;241m.\u001b[39mcompletions\u001b[38;5;241m.\u001b[39mcreate(\n\u001b[1;32m      2\u001b[0m     model\u001b[38;5;241m=\u001b[39m\u001b[38;5;124m\"\u001b[39m\u001b[38;5;124mgpt-4o-mini\u001b[39m\u001b[38;5;124m\"\u001b[39m,\n\u001b[1;32m      3\u001b[0m     max_tokens\u001b[38;5;241m=\u001b[39m\u001b[38;5;241m100\u001b[39m,\n\u001b[1;32m      4\u001b[0m   \n\u001b[1;32m      5\u001b[0m     \u001b[38;5;66;03m# Enter your prompt\u001b[39;00m\n\u001b[1;32m      6\u001b[0m     messages\u001b[38;5;241m=\u001b[39m[{\u001b[38;5;124m\"\u001b[39m\u001b[38;5;124mrole\u001b[39m\u001b[38;5;124m\"\u001b[39m: \u001b[38;5;124m\"\u001b[39m\u001b[38;5;124muser\u001b[39m\u001b[38;5;124m\"\u001b[39m, \u001b[38;5;124m\"\u001b[39m\u001b[38;5;124mcontent\u001b[39m\u001b[38;5;124m\"\u001b[39m: \u001b[38;5;124m\"\u001b[39m\u001b[38;5;124mINSERT YOUR PROMPT HERE\u001b[39m\u001b[38;5;124m\"\u001b[39m}]\n\u001b[1;32m      7\u001b[0m )\n\u001b[1;32m      9\u001b[0m \u001b[38;5;28mprint\u001b[39m(response\u001b[38;5;241m.\u001b[39mchoices[\u001b[38;5;241m0\u001b[39m]\u001b[38;5;241m.\u001b[39mmessage\u001b[38;5;241m.\u001b[39mcontent)\n",
      "\u001b[0;31mNameError\u001b[0m: name 'client' is not defined"
     ]
    }
   ],
   "source": [
    "response = client.chat.completions.create(\n",
    "    model=\"gpt-4o-mini\",\n",
    "    max_tokens=100,\n",
    "  \n",
    "    # Enter your prompt\n",
    "    messages=[{\"role\": \"user\", \"content\": \"INSERT YOUR PROMPT HERE\"}]\n",
    ")\n",
    "\n",
    "print(response.choices[0].message.content)"
   ]
  },
  {
   "cell_type": "markdown",
   "id": "4fceeeb4",
   "metadata": {},
   "source": []
  },
  {
   "cell_type": "markdown",
   "id": "a64f5eee",
   "metadata": {},
   "source": [
    "dfd"
   ]
  },
  {
   "cell_type": "markdown",
   "id": "bbcfaadd",
   "metadata": {},
   "source": []
  }
 ],
 "metadata": {
  "kernelspec": {
   "display_name": "Python 3 (ipykernel)",
   "language": "python",
   "name": "python3"
  },
  "language_info": {
   "codemirror_mode": {
    "name": "ipython",
    "version": 3
   },
   "file_extension": ".py",
   "mimetype": "text/x-python",
   "name": "python",
   "nbconvert_exporter": "python",
   "pygments_lexer": "ipython3",
   "version": "3.10.12"
  }
 },
 "nbformat": 4,
 "nbformat_minor": 5
}
