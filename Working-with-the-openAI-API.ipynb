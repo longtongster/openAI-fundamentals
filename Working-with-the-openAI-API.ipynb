{
 "cells": [
  {
   "cell_type": "markdown",
   "id": "7bf2148f-c116-4a47-b324-d82f02033845",
   "metadata": {},
   "source": [
    "# Working with the openAI API"
   ]
  },
  {
   "cell_type": "markdown",
   "id": "a1c61e74-1735-4938-8906-11c78a991f11",
   "metadata": {},
   "source": [
    "If the snippet below runs without errors, you are good to go!!!!"
   ]
  },
  {
   "cell_type": "code",
   "execution_count": 10,
   "id": "c3229558-fab1-4ea6-babc-3253d3eb87be",
   "metadata": {},
   "outputs": [
    {
     "name": "stdout",
     "output_type": "stream",
     "text": [
      "Hello! How can I assist you today?\n"
     ]
    }
   ],
   "source": [
    "from config import api_key\n",
    "from openai import OpenAI\n",
    "\n",
    "client = OpenAI(api_key=api_key)\n",
    "\n",
    "response = client.chat.completions.create(\n",
    "    model=\"gpt-4\",\n",
    "    messages=[{\"role\": \"user\", \"content\": \"Hello!\"}]\n",
    ")\n",
    "\n",
    "print(response.choices[0].message.content)"
   ]
  },
  {
   "cell_type": "markdown",
   "id": "eeec1922-ca93-4e7b-9841-12f7bd32e8e7",
   "metadata": {},
   "source": [
    "## Chapter 1 - Introduction to the OpenAI API\n",
    "\n",
    "### Section 1.1 What is the OpenAI API?"
   ]
  },
  {
   "cell_type": "markdown",
   "id": "18271e92",
   "metadata": {},
   "source": [
    "#### Your first OpenAI API request!\n",
    "\n",
    "To preview what’s ahead, the Python code for sending a request to the OpenAI API is ready for you.\n",
    "\n",
    "Pass any question or instruction to the content argument and see how OpenAI's model responds!\n",
    "\n",
    "Here are a few prompts to try if you're struggling for ideas:\n",
    "\n",
    "- Why is learning the OpenAI API valuable for developers?\n",
    "- Suggest three tasks I could automate with the OpenAI API in my job.\n",
    "- In two sentences, how can the OpenAI API be used to upskill myself?"
   ]
  },
  {
   "cell_type": "code",
   "execution_count": 13,
   "id": "5356231e",
   "metadata": {
    "vscode": {
     "languageId": "plaintext"
    }
   },
   "outputs": [
    {
     "name": "stdout",
     "output_type": "stream",
     "text": [
      "Learning the OpenAI API is valuable for developers for several reasons:\n",
      "\n",
      "1. **Access to Advanced AI Models**: The OpenAI API provides access to state-of-the-art models like GPT-3 and beyond, allowing developers to integrate sophisticated language understanding and generation capabilities into their applications.\n",
      "\n",
      "2. **Enhanced User Experience**: By incorporating AI-driven features such as natural language processing, chatbots, content generation, and personalized recommendations, developers can significantly enhance user experience and engagement.\n",
      "\n",
      "3. **Wide Range of\n"
     ]
    }
   ],
   "source": [
    "from openai import OpenAI\n",
    "\n",
    "client = OpenAI(api_key=api_key)\n",
    "\n",
    "response = client.chat.completions.create(\n",
    "    model=\"gpt-4o-mini\",\n",
    "    max_tokens=100,\n",
    "    # Enter your prompt\n",
    "    messages=[{\"role\": \"user\", \n",
    "               \"content\": \"Why is learning the OpenAI API valuable for developers?\"}]\n",
    ")\n",
    "\n",
    "print(response.choices[0].message.content)"
   ]
  },
  {
   "cell_type": "markdown",
   "id": "4fceeeb4",
   "metadata": {},
   "source": [
    "### Section 1.2 - Making request to the OpenAI API"
   ]
  },
  {
   "cell_type": "markdown",
   "id": "a64f5eee",
   "metadata": {},
   "source": [
    "#### Building an OpenAI API request\n",
    "\n",
    "Throughout the course, you'll write Python code to interact with the OpenAI API. Entering your own API key is not necessary to create requests and complete the exercises in this course.\n",
    "\n",
    "The `OpenAI` class has already been imported for you from the `openai` library."
   ]
  },
  {
   "cell_type": "code",
   "execution_count": 28,
   "id": "59898803-0057-4d57-95b9-5cb983923c9a",
   "metadata": {},
   "outputs": [
    {
     "name": "stdout",
     "output_type": "stream",
     "text": [
      "Subject: Acceptance of Job Offer\n",
      "\n",
      "Dear [Hiring Manager's Name],\n",
      "\n",
      "I hope this message finds you well. \n",
      "\n",
      "I would like to express my heartfelt gratitude for the opportunity to join [Company Name] as an AI Engineer. I am excited about the role and the potential to contribute to your team and projects.\n",
      "\n",
      "I am happy to formally accept the offer as discussed. Please let me know if there are any documents or further steps I should complete before my start date on [Start Date]. \n",
      "\n",
      "Thank you once again for this incredible opportunity. I look forward to being part of [Company Name] and contributing to the innovative work being done.\n",
      "\n",
      "Warm regards,\n",
      "\n",
      "[Your Name]  \n",
      "[Your Phone Number]  \n",
      "[Your Email Address]  \n"
     ]
    }
   ],
   "source": [
    "from openai import OpenAI\n",
    "\n",
    "client = OpenAI(api_key=api_key)\n",
    "\n",
    "# Create a request to the Chat Completions endpoint\n",
    "response = client.chat.completions.create(\n",
    "  model=\"gpt-4o-mini\",\n",
    "  messages=[\n",
    "    {\"role\": \"user\", \n",
    "     \"content\": \"Write a polite reply accepting an AI Engineer job offer.\"}]\n",
    ")\n",
    "\n",
    "print(response.choices[0].message.content)"
   ]
  },
  {
   "cell_type": "markdown",
   "id": "5e0e4dc4-d7e1-42f9-b46e-bad141d43fde",
   "metadata": {},
   "source": [
    "#### Specifying an OpenAI model\n",
    "OpenAI offers multiple models for different use cases. In this exercise, you'll specify the model and define the role to structure your API requests.\n",
    "\n",
    "The `OpenAI` class has already been imported for you from the `openai` library."
   ]
  },
  {
   "cell_type": "code",
   "execution_count": 34,
   "id": "41fecd35-8bb0-49de-b2db-c0de95507f7a",
   "metadata": {},
   "outputs": [
    {
     "name": "stdout",
     "output_type": "stream",
     "text": [
      "Here's a suggestion for your LinkedIn announcement:\n",
      "\n",
      "---\n",
      "\n",
      "🌟 Exciting News! 🌟\n",
      "\n",
      "I am thrilled to share that I have accepted a new position as an AI Engineer! 🎉\n",
      "\n",
      "As I step into this role, I’m eager to leverage my skills and passion for artificial intelligence to contribute to innovative projects and collaborate with an incredible team. This opportunity allows me to work at the forefront of technology, tackling complex challenges and driving impactful solutions that will shape the future.\n",
      "\n",
      "I want to take a moment to thank everyone who has supported me on this journey—my mentors, colleagues, and friends. Your guidance and encouragement have been invaluable.\n",
      "\n",
      "Looking forward to this new chapter and connecting with fellow professionals and enthusiasts in the AI community. Let’s push the boundaries of what's possible together!\n",
      "\n",
      "#NewBeginnings #AIEngineer #ArtificialIntelligence #CareerGrowth\n",
      "\n",
      "---\n",
      "\n",
      "Feel free to customize it further to match your personal style or include specific details about your new role or company!\n"
     ]
    }
   ],
   "source": [
    "client = OpenAI(api_key=api_key)\n",
    "\n",
    "response = client.chat.completions.create(\n",
    "  # Specify the model\n",
    "  model=\"gpt-4o-mini\",\n",
    "  messages=[\n",
    "    # Assign the correct role\n",
    "    {\"role\": \"user\", \n",
    "     \"content\": \"Announce my new AI Engineer role on LinkedIn.\"}]\n",
    ")\n",
    "\n",
    "print(response.choices[0].message.content)"
   ]
  },
  {
   "cell_type": "markdown",
   "id": "5a71806e-2a9c-4959-be1e-4fbbde4197ed",
   "metadata": {},
   "source": [
    "#### Digging into the response\n",
    "One key skill in working with APIs is extracting the right data from a structured response. Now, you'll practice retrieving the necessary text from an OpenAI API response.\n",
    "\n",
    "The OpenAI class has already been imported for you from the openai library."
   ]
  },
  {
   "cell_type": "code",
   "execution_count": 36,
   "id": "e406a78b-4c99-4f5c-a9ee-a243fe4a38bf",
   "metadata": {},
   "outputs": [
    {
     "name": "stdout",
     "output_type": "stream",
     "text": [
      "Use the Pomodoro Technique: Work in focused bursts of 25 minutes followed by a 5-minute break. This helps maintain concentration and prevents burnout. After four cycles, take a longer break (15-30 minutes) to recharge.\n"
     ]
    }
   ],
   "source": [
    "response = client.chat.completions.create(\n",
    "  model=\"gpt-4o-mini\",\n",
    "  messages=[{\"role\": \"user\", \"content\": \"Quick productivity tip.\"}]\n",
    ")\n",
    "\n",
    "# Extract the content from the response\n",
    "print(response.choices[0].message.content)"
   ]
  },
  {
   "cell_type": "markdown",
   "id": "2febb8d8-0eeb-4af8-99d1-4f0e2b977a6a",
   "metadata": {},
   "source": [
    "## Chapter 2 - OpentAI's Text and Chat Capabilities"
   ]
  },
  {
   "cell_type": "markdown",
   "id": "a0ed03fc-0357-4533-b5e0-185f1c7b9577",
   "metadata": {},
   "source": [
    "### Section 2.1 Generating and transforming text"
   ]
  },
  {
   "cell_type": "markdown",
   "id": "f2200b2f-c59a-4021-8bd8-2d23c21d28be",
   "metadata": {},
   "source": [
    "#### Find and replace\n",
    "Text completion models can be used for much more than answering questions. In this exercise, you'll explore the model's ability to transform a text prompt.\n",
    "\n",
    "Find-and-replace tools have been around for decades, but they are often limited to identifying and replacing exact words or phrases. You've been provided with a block of text discussing cars, and you'll use a completion model to update the text to discuss planes instead, updating the text appropriately.\n",
    "\n",
    "Warning: if you send many requests or use lots of tokens in a short period, you may hit your rate limit and see an openai.error.RateLimitError. If you see this error, please wait a minute for your quota to reset and you should be able to begin sending more requests."
   ]
  },
  {
   "cell_type": "code",
   "execution_count": 38,
   "id": "37435991-0470-45c1-9ce5-bf26c6805fea",
   "metadata": {},
   "outputs": [
    {
     "name": "stdout",
     "output_type": "stream",
     "text": [
      "A plane is a vehicle that is typically powered by jet engines or propellers. It is designed to carry passengers and/or cargo through the air. Planes have become a ubiquitous part of modern society and are used for a wide variety of purposes, such as travel, transportation of goods, and connecting distant locations. Planes are often associated with freedom, adventure, and global mobility.\n"
     ]
    }
   ],
   "source": [
    "client = OpenAI(api_key=api_key)\n",
    "\n",
    "prompt=\"\"\"Replace car with plane and adjust phrase:\n",
    "A car is a vehicle that is typically powered by an internal combustion engine or an electric motor. It has four wheels, and is designed to carry passengers and/or cargo on roads or highways. Cars have become a ubiquitous part of modern society, and are used for a wide variety of purposes, such as commuting, travel, and transportation of goods. Cars are often associated with freedom, independence, and mobility.\"\"\"\n",
    "\n",
    "# Create a request to the Chat Completions endpoint\n",
    "response = client.chat.completions.create(\n",
    "  model=\"gpt-4o-mini\",\n",
    "  messages=[{\"role\": \"user\",\n",
    "             \"content\": prompt}],\n",
    "  max_tokens=100\n",
    ")\n",
    "\n",
    "# Extract and print the response text\n",
    "print(response.choices[0].message.content)"
   ]
  },
  {
   "cell_type": "markdown",
   "id": "bdeb5621-88a4-4e94-8706-b97c47b2605d",
   "metadata": {},
   "source": [
    "#### Text summarization\n",
    "One really common use case for using OpenAI's models is summarizing text. This has a ton of applications in business settings, including summarizing reports into concise one-pagers or a handful of bullet points, or extracting the next steps and timelines for different stakeholders.\n",
    "\n",
    "In this exercise, you'll summarize a passage of text on financial investment into two concise bullet points using a text completion model."
   ]
  },
  {
   "cell_type": "code",
   "execution_count": 42,
   "id": "0d46a573-638b-4d5b-8570-117cfff9a3e6",
   "metadata": {},
   "outputs": [
    {
     "name": "stdout",
     "output_type": "stream",
     "text": [
      "- Investment involves committing capital to various options (e.g., stocks, bonds, real estate) with the expectation of generating profit, requiring careful analysis of risks and rewards.  \n",
      "- Effective investment strategies, including diversification, can enhance returns and minimize risk, contributing to wealth building and financial security.\n"
     ]
    }
   ],
   "source": [
    "client = OpenAI(api_key=api_key)\n",
    "\n",
    "prompt=\"\"\"Summarize the following text into two concise bullet points:\n",
    "Investment refers to the act of committing money or capital to an enterprise \n",
    "with the expectation of obtaining an added income or profit in return. \n",
    "There are a variety of investment options available, including stocks, bonds, \n",
    "mutual funds, real estate, precious metals, and currencies. \n",
    "Making an investment decision requires careful analysis, assessment of risk, and evaluation of potential rewards. \n",
    "Good investments have the ability to produce high returns over the long term \n",
    "while minimizing risk. Diversification of investment portfolios reduces risk exposure. \n",
    "Investment can be a valuable tool for building wealth, generating income, and \n",
    "achieving financial security. \n",
    "It is important to be diligent and informed when investing to avoid losses.\"\"\"\n",
    "\n",
    "# Create a request to the Chat Completions endpoint\n",
    "response = client.chat.completions.create(\n",
    "  model=\"gpt-4o-mini\",\n",
    "  messages=[{\"role\": \"user\", \"content\": prompt}],\n",
    "  max_tokens=400, temperature=0\n",
    ")\n",
    "\n",
    "print(response.choices[0].message.content)"
   ]
  },
  {
   "cell_type": "markdown",
   "id": "09c8eceb-65ba-4a1f-95ad-4a9728397e4f",
   "metadata": {},
   "source": [
    "#### Content generation\n",
    "\n",
    "AI is playing a much greater role in content generation, from creating marketing content such as blog post titles to creating outreach email templates for sales teams.\n",
    "\n",
    "In this exercise, you'll harness AI through the Chat Completions endpoint to generate a catchy slogan for a new restaurant. Feel free to test out different prompts, such as varying the type of cuisine (e.g., Italian, Chinese) or the type of restaurant (e.g., fine-dining, fast-food), to see how the response changes."
   ]
  },
  {
   "cell_type": "code",
   "execution_count": 44,
   "id": "a5ba1cd3-7ccc-41dd-b4b6-b7c59a8ada01",
   "metadata": {},
   "outputs": [
    {
     "name": "stdout",
     "output_type": "stream",
     "text": [
      "\"Feast Freely: Dine in Your True Skin!\"\n"
     ]
    }
   ],
   "source": [
    "client = OpenAI(api_key=api_key)\n",
    "\n",
    "# Create a request to the Chat Completions endpoint\n",
    "response = client.chat.completions.create(\n",
    "  model=\"gpt-4o-mini\",\n",
    "  messages=[{\"role\": \"user\", \"content\": \"Create a slogan for a new restaurant where people eat naked\"}],\n",
    "  max_tokens=100\n",
    ")\n",
    "\n",
    "print(response.choices[0].message.content)"
   ]
  },
  {
   "cell_type": "markdown",
   "id": "909d3c24-d023-4530-918b-f750304d4c75",
   "metadata": {},
   "source": [
    "### Section 2.2 - Sentiment analysis and classification"
   ]
  },
  {
   "cell_type": "markdown",
   "id": "fa6db181-2245-4bab-b348-6189b7a73686",
   "metadata": {},
   "source": [
    "#### Classifying text sentiment\n",
    "As well as answering questions, transforming text, and generating new text, OpenAI's models can also be used for classification tasks, such as categorization and sentiment classification. This sort of task requires not only knowledge of the words but also a deeper understanding of their meaning.\n",
    "\n",
    "In this exercise, you'll explore using Chat Completions models for sentiment classification using reviews from an online shoe store called Toe-Tally Comfortable"
   ]
  },
  {
   "cell_type": "code",
   "execution_count": 52,
   "id": "59df9056-b66a-42ee-b2bd-0e3d1e030789",
   "metadata": {},
   "outputs": [
    {
     "name": "stdout",
     "output_type": "stream",
     "text": [
      "Here are the classifications for the statements:\n",
      "\n",
      "1. Unbelievably good! - Positive\n",
      "2. Shoes fell apart on the second use. - Negative\n",
      "3. The shoes look nice, but they aren't very comfortable. - Neutral\n",
      "4. Can't wait to show them off! - Positive\n"
     ]
    }
   ],
   "source": [
    "client = OpenAI(api_key=api_key)\n",
    "\n",
    "# Define a multi-line prompt to classify sentiment\n",
    "prompt = \"\"\"Classify the following statements are negative, positive or neutral:\n",
    "1. Unbelievably good!\n",
    "2. Shoes fell apart on the second use.\n",
    "3. The shoes look nice, but they aren't very comfortable.\n",
    "4. Can't wait to show them off!\"\"\"\n",
    "\n",
    "# Create a request to the Chat Completions endpoint\n",
    "response = client.chat.completions.create(\n",
    "  model=\"gpt-4o-mini\",\n",
    "  messages=[{\"role\": \"user\", \"content\": prompt}],\n",
    "  max_tokens=100\n",
    ")\n",
    "\n",
    "print(response.choices[0].message.content)"
   ]
  },
  {
   "cell_type": "markdown",
   "id": "af909379-c99b-4efa-a43f-c68ba47175ce",
   "metadata": {},
   "source": [
    "#### Categorizing companies\n",
    "In this exercise, you'll use a Chat Completions model to categorize different companies. At first, you won't specify the categories to see how the model categorizes them. Then, you'll specify the categories in the prompt to ensure they are categorized in a desirable and predictable way."
   ]
  },
  {
   "cell_type": "code",
   "execution_count": 53,
   "id": "317bc532-76d1-4939-b326-1f986875216b",
   "metadata": {},
   "outputs": [
    {
     "name": "stdout",
     "output_type": "stream",
     "text": [
      "Here is the categorization of the companies you provided:\n",
      "\n",
      "- **Tech**: \n",
      "  - Apple\n",
      "  - Microsoft\n",
      "  - Alphabet\n",
      "  - Amazon\n",
      "  - NVIDIA\n",
      "  - Meta\n",
      "  - Tesla\n",
      "\n",
      "- **Energy**: \n",
      "  - Saudi Aramco\n",
      "\n",
      "- **Luxury Goods**: \n",
      "  - LVMH\n",
      "\n",
      "- **Investments**: \n",
      "  - Berkshire Hathaway\n"
     ]
    }
   ],
   "source": [
    "client = OpenAI(api_key=api_key)\n",
    "\n",
    "# Define a prompt for the categorization\n",
    "prompt = \"categorize the following companies: Apple, Microsoft, Saudi Aramco, Alphabet, Amazon, Berkshire Hathaway, NVIDIA, Meta, Tesla, LVMH into one of the following classes: Tech, Energy, Luxury Goods or Investments\"\n",
    "\n",
    "# Create a request to the Chat Completions endpoint\n",
    "response = client.chat.completions.create(\n",
    "  model=\"gpt-4o-mini\",\n",
    "  messages=[{\"role\": \"user\", \"content\": prompt}],\n",
    "  max_tokens=100,\n",
    "  temperature=0.5\n",
    ")\n",
    "\n",
    "print(response.choices[0].message.content)"
   ]
  },
  {
   "cell_type": "markdown",
   "id": "e31bda7a-69ee-4870-8c1b-c8d3c91e6227",
   "metadata": {},
   "source": [
    "## Section 2.3 - Chat completions with GPT"
   ]
  },
  {
   "cell_type": "markdown",
   "id": "57965938-36d7-4079-a312-f7f22aff8ba5",
   "metadata": {},
   "source": [
    "#### Chat Completions roles\n",
    "\n",
    "The Chat Completions endpoint supports three different roles to shape the messages sent to the model:\n",
    "\n",
    "System: controls assistant's behavior\n",
    "User: instruct the assistant\n",
    "Assistant: response to user instruction\n",
    "In this exercise, you'll make a request to the Chat Completions endpoint, including a system messages, to answer the following question:\n",
    "\n",
    "What is the difference between a for loop and a while loop?"
   ]
  },
  {
   "cell_type": "code",
   "execution_count": 54,
   "id": "bfe2f1fa-b1b8-46bf-b7b2-fa239d740a06",
   "metadata": {},
   "outputs": [
    {
     "name": "stdout",
     "output_type": "stream",
     "text": [
      "A **for loop** and a **while loop** are both control flow statements used in programming to repeat a block of code, but they differ in their structure and use cases:\n",
      "\n",
      "### For Loop\n",
      "- **Structure:** Typically used when the number of iterations is known in advance. It includes an initialization, a condition, and an increment/decrement in a single line.\n",
      "- **Usage:** Commonly used for iterating over a range of values (like a list or a range of numbers).\n",
      "- **Example (Python):**\n",
      "  ```python\n",
      "  for i in range(5):  # Iterates from 0 to 4\n",
      "      print(i)\n",
      "  ```\n",
      "\n",
      "### While Loop\n",
      "- **Structure:** Used when the number of iterations\n"
     ]
    }
   ],
   "source": [
    "client = OpenAI(api_key=api_key)\n",
    "\n",
    "# Create a request to the Chat Completions endpoint\n",
    "response = client.chat.completions.create(\n",
    "  model=\"gpt-4o-mini\",\n",
    "  max_tokens=150,\n",
    "  messages=[\n",
    "    {\"role\": \"system\",\n",
    "     \"content\": \"You are a helpful data science tutor that gives clear and concise answers.\"},\n",
    "    {\"role\": \"user\",\n",
    "     \"content\": \"What is the difference between a for loop and a while loop?\"}\n",
    "  ]\n",
    ")\n",
    "\n",
    "# Extract the assistant's text response\n",
    "print(response.choices[0].message.content)"
   ]
  },
  {
   "cell_type": "code",
   "execution_count": null,
   "id": "4d16513b-e967-40ba-90ca-8e12d4d5232c",
   "metadata": {},
   "outputs": [],
   "source": []
  }
 ],
 "metadata": {
  "kernelspec": {
   "display_name": "Python 3 (ipykernel)",
   "language": "python",
   "name": "python3"
  },
  "language_info": {
   "codemirror_mode": {
    "name": "ipython",
    "version": 3
   },
   "file_extension": ".py",
   "mimetype": "text/x-python",
   "name": "python",
   "nbconvert_exporter": "python",
   "pygments_lexer": "ipython3",
   "version": "3.10.12"
  }
 },
 "nbformat": 4,
 "nbformat_minor": 5
}
