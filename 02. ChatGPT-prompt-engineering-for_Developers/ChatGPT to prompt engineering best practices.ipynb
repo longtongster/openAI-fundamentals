{
 "cells": [
  {
   "cell_type": "markdown",
   "id": "93391e1e-a58a-483d-a159-3e6a2531fbb0",
   "metadata": {},
   "source": [
    "# ChatGPT Prompt Engineering for Developers"
   ]
  },
  {
   "cell_type": "markdown",
   "id": "8a6eb5f9-b9fc-4aed-b0dd-6baa2e75c22e",
   "metadata": {},
   "source": [
    "## Chapter 1 - Introduction to prompt engineering best practices"
   ]
  },
  {
   "cell_type": "markdown",
   "id": "0f13ad6b-f87b-417b-b5a4-3a642879901d",
   "metadata": {},
   "source": [
    "### Section 1.1 - Introduction to prompt engineering"
   ]
  },
  {
   "cell_type": "code",
   "execution_count": 11,
   "id": "351469cc-d912-4d6d-a93e-33c1990992cd",
   "metadata": {},
   "outputs": [],
   "source": [
    "import sys\n",
    "import os\n",
    "\n",
    "# Use current working directory and go one level up\n",
    "parent_dir = os.path.abspath(os.path.join(os.getcwd(), '..'))\n",
    "sys.path.append(parent_dir)\n",
    "\n",
    "# Now you can import your config\n",
    "from config import api_key"
   ]
  },
  {
   "cell_type": "markdown",
   "id": "47f10b38-237d-45fd-b823-3a0c4badb50b",
   "metadata": {},
   "source": [
    "#### OpenAI API message roles\n",
    "You are developing a chatbot for an event management agency that will be used to facilitate networking during events.\n",
    "\n",
    "Using the OpenAI API, you prepare a dictionary to pass as the message to the chat.completions endpoint. The message needs to have 3 roles defined to ensure the model has enough guidance to provide helpful responses.\n",
    "\n",
    "Throughout the course, you'll write Python code to interact with the OpenAI API. Entering your own API key is not necessary to create requests and complete the exercises in this course. You can leave the placeholder \"<OPENAI_API_TOKEN>\" as the key in api_key.\n",
    "\n",
    "The `OpenAI` package has been pre-loaded for you."
   ]
  },
  {
   "cell_type": "code",
   "execution_count": 12,
   "id": "4662210b-954e-48ee-943e-a148abcf8b05",
   "metadata": {},
   "outputs": [],
   "source": [
    "from openai import OpenAI"
   ]
  },
  {
   "cell_type": "code",
   "execution_count": 13,
   "id": "36d82681-5315-43bf-b50b-734f412a7181",
   "metadata": {},
   "outputs": [
    {
     "name": "stdout",
     "output_type": "stream",
     "text": [
      "Here are some effective conversation starters you can use at networking events:\n",
      "\n",
      "1. **Introduce Yourself with a Twist**: \"Hi, I’m [Your Name]. What’s one interesting project you’re currently working on?\"\n",
      "\n",
      "2. **Industry Insights**: \"What trends are you seeing in our industry right now that excite you the most?\"\n",
      "\n",
      "3. **Common Connections**: \"I noticed we both know [Mutual Contact]. How do you know them?\"\n",
      "\n",
      "4. **Event Insight**: \"What brought you to this event? Have you attended any of their events before?\"\n",
      "\n",
      "5. **Career Path**: \"How did you get started in your field? What’s been the most rewarding part of your journey?\"\n",
      "\n",
      "6. **Challenges and Solutions**: \"What’s a challenge you’re currently facing in your role? I’m always curious to hear how others tackle difficulties.\"\n",
      "\n",
      "7. **Professional Goals**: \"What are some of your professional goals for this year? It's always interesting to hear what others are aiming for.\"\n",
      "\n",
      "8. **Book/Resource Recommendation**: \"Have you read any good books or resources lately that have influenced your work?\"\n",
      "\n",
      "9. **Hobbies and Interests**: \"When you’re not working, what do you enjoy doing? Do you have any hobbies that inspire your professional life?\"\n",
      "\n",
      "10. **Future Trends**: \"If you could predict one major change in our industry in the next five years, what do you think it would be?\"\n",
      "\n",
      "11. **Networking Tips**: \"What has been your best networking experience? Any tips for making meaningful connections?\"\n",
      "\n",
      "12. **Feedback on a Topic**: \"I’ve been exploring [Relevant Topic]. What’s your take on it? I'd love to hear your perspective.\"\n",
      "\n",
      "Remember to listen actively and engage with their responses to build a genuine connection!\n"
     ]
    }
   ],
   "source": [
    "# Create the OpenAI client: you can leave \"<OPENAI_API_TOKEN>\" as is\n",
    "client = OpenAI(api_key=api_key)\n",
    "\n",
    "# Define the conversation messages\n",
    "conversation_messages = [\n",
    "    {\"role\": \"system\", \"content\": \"You are a helpful event management assistant.\"},\n",
    "    {\"role\": \"user\", \"content\": \"What are some good conversation starters at networking events?\"},\n",
    "    {\"role\": \"assistant\", \"content\": \"\"}\n",
    "]\n",
    "\n",
    "response = client.chat.completions.create(\n",
    "  model=\"gpt-4o-mini\",\n",
    "  messages=conversation_messages\n",
    ")\n",
    "print(response.choices[0].message.content)"
   ]
  },
  {
   "cell_type": "markdown",
   "id": "4a40b8a2-5602-44ea-aea8-d97253ad35e9",
   "metadata": {},
   "source": [
    "#### Creating the get_response() function\n",
    "Most of the exercises in this course will call the chat.completions endpoint of the OpenAI API with a user prompt. Here, you will create a `get_response()` function that receives a prompt as input and returns the response as an output, which in future exercises will be pre-loaded for you.\n",
    "\n",
    "The OpenAI package, and `OpenAI` API Python client have been pre-loaded."
   ]
  },
  {
   "cell_type": "code",
   "execution_count": 19,
   "id": "7b8c8189-81e1-46a8-aa6f-a35cdc96b786",
   "metadata": {},
   "outputs": [
    {
     "name": "stdout",
     "output_type": "stream",
     "text": [
      "In the realm of code and light,  \n",
      "A spark of thought takes flight,  \n",
      "ChatGPT, a voice so clear,  \n",
      "Whispers wisdom, draws us near.  \n",
      "\n",
      "From questions deep to tales of old,  \n",
      "In every word, a world unfolds,  \n",
      "With every prompt, a dance begins,  \n",
      "A tapestry of thoughts and spins.  \n",
      "\n",
      "In bytes and bits, it learns and grows,  \n",
      "A mirror reflecting what it knows,  \n",
      "From laughter shared to sorrows told,  \n",
      "A companion in the digital fold.  \n",
      "\n",
      "So here we are, in this space,  \n",
      "A dialogue, a warm embrace,  \n",
      "With every line, a bridge we build,  \n",
      "In the heart of tech, our dreams fulfilled.  \n",
      "\n",
      "So ask away, let curiosity flow,  \n",
      "In this vast sea, together we’ll row,  \n",
      "For in this chat, we find our way,  \n",
      "With ChatGPT, come what may.  \n"
     ]
    }
   ],
   "source": [
    "def get_response(prompt):\n",
    "  # Create a request to the chat completions endpoint\n",
    "  response = client.chat.completions.create(\n",
    "    model=\"gpt-4o-mini\",\n",
    "    messages=[{\"role\": \"user\", \"content\": prompt}], \n",
    "    max_tokens=200,\n",
    "    temperature = 0)\n",
    "  return response.choices[0].message.content\n",
    "\n",
    "# Test the function with your prompt\n",
    "response = get_response(\"write a poem about ChatGPT that should finish before max_tokens\")\n",
    "print(response)"
   ]
  },
  {
   "cell_type": "markdown",
   "id": "29e50e62-6922-4bfd-a051-c74e837f4e71",
   "metadata": {},
   "source": [
    "#### Exploring prompt engineering\n",
    "Prompt engineering refers to crafting effective prompts to guide the language model towards the intended response. By refining your prompts, you can achieve better results and guide the model towards generating more accurate and useful responses. Your task in this exercise is to modify the prompt you used in the previous exercise.\n",
    "\n",
    "The `OpenAI` package and the `get_response()` function have been pre-loaded for you."
   ]
  },
  {
   "cell_type": "code",
   "execution_count": 20,
   "id": "96c3906e-53bc-4be3-b03e-bd31961397ed",
   "metadata": {},
   "outputs": [
    {
     "name": "stdout",
     "output_type": "stream",
     "text": [
      "In a world of words, I come to play,  \n",
      "ChatGPT is here, hip-hip-hooray!  \n",
      "Ask me a question, big or small,  \n",
      "I’ll do my best to answer them all.  \n",
      "\n",
      "I can tell you stories, or jokes that are funny,  \n",
      "Help with your homework, or chat about honey.  \n",
      "With every word, we can explore,  \n",
      "Together we’ll learn, and discover more!  \n",
      "\n",
      "So say hello, don’t be shy,  \n",
      "With ChatGPT, let your thoughts fly high!  \n",
      "In this little space, we can share and create,  \n",
      "A world full of wonders, oh, isn’t that great?\n"
     ]
    }
   ],
   "source": [
    "# Craft a prompt that follows the instructions\n",
    "prompt = \"Please write a short poem about ChatGPT in simple english that a child can understand\"\n",
    "\n",
    "# Get the response\n",
    "response = get_response(prompt)\n",
    "\n",
    "print(response)"
   ]
  },
  {
   "cell_type": "markdown",
   "id": "bbe6ff8e-b26e-4e48-9d9b-50949fd8360b",
   "metadata": {},
   "source": [
    "### Section 1.2 - Key principles of prompt engineering"
   ]
  },
  {
   "cell_type": "code",
   "execution_count": 24,
   "id": "15de2359-23a8-4d4f-9326-1cf5edb5ed89",
   "metadata": {},
   "outputs": [
    {
     "name": "stdout",
     "output_type": "stream",
     "text": [
      "\n",
      "In a distant galaxy, there was a brave space explorer named Alex. Alex had spent years traveling through the cosmos, discovering new planets and meeting alien species. One fateful day, while exploring an uncharted asteroid belt, Alex stumbled upon a peculiar object that would change the course of their interstellar journey forever...\n",
      "\n"
     ]
    }
   ],
   "source": [
    "story = '\\nIn a distant galaxy, there was a brave space explorer named Alex. Alex had spent years traveling through the cosmos, discovering new planets and meeting alien species. One fateful day, while exploring an uncharted asteroid belt, Alex stumbled upon a peculiar object that would change the course of their interstellar journey forever...\\n'\n",
    "print(story)"
   ]
  },
  {
   "cell_type": "code",
   "execution_count": 27,
   "id": "1ee01653-26d3-465e-bec1-2fe49056a566",
   "metadata": {},
   "outputs": [
    {
     "name": "stdout",
     "output_type": "stream",
     "text": [
      "\n",
      " Original story: \n",
      " \n",
      "In a distant galaxy, there was a brave space explorer named Alex. Alex had spent years traveling through the cosmos, discovering new planets and meeting alien species. One fateful day, while exploring an uncharted asteroid belt, Alex stumbled upon a peculiar object that would change the course of their interstellar journey forever...\n",
      "\n",
      "\n",
      " Generated story: \n",
      " ```\n",
      "It was a shimmering crystal, pulsating with a soft blue light. As Alex reached out to touch it, a surge of energy coursed through their body, revealing visions of a long-lost civilization. The crystal was a key, a map to a hidden planet known as Eldoria, said to hold the secrets of the universe.\n",
      "\n",
      "Driven by curiosity, Alex recalibrated their ship's navigation system and set a course for Eldoria. After days of navigating treacherous space, they finally arrived at the planet, cloaked in vibrant colors and lush landscapes. As Alex descended, they were greeted by the Eldorians, ethereal beings with luminescent skin and wise eyes.\n",
      "\n",
      "The Eldorians revealed that the crystal was a beacon, calling forth those worthy of their knowledge. They shared ancient wisdom about harmony, technology, and the interconnectedness of all life. In return, Alex promised to spread this knowledge across the galaxy.\n",
      "\n",
      "With a heart full of hope and a mind br\n"
     ]
    }
   ],
   "source": [
    "# Set your API key\n",
    "client = OpenAI(api_key=api_key)\n",
    "\n",
    "# Create a prompt that completes the story\n",
    "prompt = f\"\"\"Complete the story delimited by triple backticks. Make sure the story is finished in max 200 words. \n",
    " ```{story}```\"\"\"\n",
    "\n",
    "# Get the generated response \n",
    "response = get_response(prompt)\n",
    "\n",
    "print(\"\\n Original story: \\n\", story)\n",
    "print(\"\\n Generated story: \\n\", response)"
   ]
  },
  {
   "cell_type": "markdown",
   "id": "3e9114e8-cc69-442a-a6be-dd43066e15a8",
   "metadata": {},
   "source": [
    "#### Building specific and precise prompts\n",
    "In the previous exercise, you generated text that completes a given story. Your team was happy with your achievement, however, they want you to follow specific guidelines when it comes to length and style. Your task now is to craft a more specific prompt that controls these aspects of the generated story.\n",
    "\n",
    "The `OpenAI` package, the `get_response()` function, and the same `story` variable have been pre-loaded for you."
   ]
  },
  {
   "cell_type": "code",
   "execution_count": 26,
   "id": "32ef2f92-c28f-48e8-a58b-47d0f5001311",
   "metadata": {},
   "outputs": [
    {
     "name": "stdout",
     "output_type": "stream",
     "text": [
      "\n",
      " Original story: \n",
      " \n",
      "In a distant galaxy, there was a brave space explorer named Alex. Alex had spent years traveling through the cosmos, discovering new planets and meeting alien species. One fateful day, while exploring an uncharted asteroid belt, Alex stumbled upon a peculiar object that would change the course of their interstellar journey forever...\n",
      "\n",
      "\n",
      " Generated story: \n",
      " ```\n",
      "Lo! What light through yonder void doth break? A wondrous orb, aglow with hues unseen, Did beckon forth our gallant hero's gaze. With trembling hands, brave Alex reached to claim the prize, A crystal sphere, encased in stardust's embrace, Whose whispers sang of ancient tales and fates entwined. Yet, as the sphere did pulse with life anew, A tempest swirled, and shadows danced about, For from its depths emerged a specter bright, A being forged of light and cosmic dreams. \"Hail, noble traveler!\" it spake with voice like thunder, \"Thou hast awakened me from eons' slumber. To thee I grant a boon, a choice most dire: To wield the power of the stars, or to return to thine own humble sphere.\"\n",
      "\n",
      "With heart afire and mind alight with wonder, Alex pondered deep the weight of such a gift. To traverse the heavens,\n"
     ]
    }
   ],
   "source": [
    "# Set your API key\n",
    "client = OpenAI(api_key=api_key)\n",
    "\n",
    "# Create a request to complete the story\n",
    "prompt = f\"Complete the story in triple backticks in two paragraphs in the style of William Shakespeare ```{story}``` \"\n",
    "\n",
    "# Get the generated response\n",
    "response = get_response(prompt)\n",
    "\n",
    "print(\"\\n Original story: \\n\", story)\n",
    "print(\"\\n Generated story: \\n\", response)"
   ]
  },
  {
   "cell_type": "code",
   "execution_count": null,
   "id": "8ebe90e2-775b-4729-9b49-ea195af31fd4",
   "metadata": {},
   "outputs": [],
   "source": []
  }
 ],
 "metadata": {
  "kernelspec": {
   "display_name": "Python 3 (ipykernel)",
   "language": "python",
   "name": "python3"
  },
  "language_info": {
   "codemirror_mode": {
    "name": "ipython",
    "version": 3
   },
   "file_extension": ".py",
   "mimetype": "text/x-python",
   "name": "python",
   "nbconvert_exporter": "python",
   "pygments_lexer": "ipython3",
   "version": "3.10.12"
  }
 },
 "nbformat": 4,
 "nbformat_minor": 5
}
