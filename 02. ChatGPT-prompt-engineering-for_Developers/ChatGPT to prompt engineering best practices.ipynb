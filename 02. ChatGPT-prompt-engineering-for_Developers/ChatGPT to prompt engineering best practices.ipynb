{
 "cells": [
  {
   "cell_type": "markdown",
   "id": "93391e1e-a58a-483d-a159-3e6a2531fbb0",
   "metadata": {},
   "source": [
    "# ChatGPT Prompt Engineering for Developers"
   ]
  },
  {
   "cell_type": "markdown",
   "id": "8a6eb5f9-b9fc-4aed-b0dd-6baa2e75c22e",
   "metadata": {},
   "source": [
    "## Chapter 1 - Introduction to prompt engineering best practices"
   ]
  },
  {
   "cell_type": "markdown",
   "id": "0f13ad6b-f87b-417b-b5a4-3a642879901d",
   "metadata": {},
   "source": [
    "### Section 1.1 - Introduction to prompt engineering"
   ]
  },
  {
   "cell_type": "code",
   "execution_count": 1,
   "id": "351469cc-d912-4d6d-a93e-33c1990992cd",
   "metadata": {},
   "outputs": [],
   "source": [
    "import sys\n",
    "import os\n",
    "\n",
    "# Use current working directory and go one level up\n",
    "parent_dir = os.path.abspath(os.path.join(os.getcwd(), '..'))\n",
    "sys.path.append(parent_dir)\n",
    "\n",
    "# Now you can import your config\n",
    "from config import api_key"
   ]
  },
  {
   "cell_type": "markdown",
   "id": "47f10b38-237d-45fd-b823-3a0c4badb50b",
   "metadata": {},
   "source": [
    "#### OpenAI API message roles\n",
    "You are developing a chatbot for an event management agency that will be used to facilitate networking during events.\n",
    "\n",
    "Using the OpenAI API, you prepare a dictionary to pass as the message to the chat.completions endpoint. The message needs to have 3 roles defined to ensure the model has enough guidance to provide helpful responses.\n",
    "\n",
    "Throughout the course, you'll write Python code to interact with the OpenAI API. Entering your own API key is not necessary to create requests and complete the exercises in this course. You can leave the placeholder \"<OPENAI_API_TOKEN>\" as the key in api_key.\n",
    "\n",
    "The `OpenAI` package has been pre-loaded for you."
   ]
  },
  {
   "cell_type": "code",
   "execution_count": 2,
   "id": "4662210b-954e-48ee-943e-a148abcf8b05",
   "metadata": {},
   "outputs": [],
   "source": [
    "from openai import OpenAI"
   ]
  },
  {
   "cell_type": "code",
   "execution_count": 3,
   "id": "36d82681-5315-43bf-b50b-734f412a7181",
   "metadata": {},
   "outputs": [
    {
     "name": "stdout",
     "output_type": "stream",
     "text": [
      "Networking events can be a great opportunity to connect with others, and having a few good conversation starters can help ease the process. Here are some effective topics and questions to initiate conversations:\n",
      "\n",
      "1. **Ask About Their Work:**\n",
      "   - \"What projects are you currently working on that you're excited about?\"\n",
      "   - \"How did you get into your current field?\"\n",
      "\n",
      "2. **Industry Trends:**\n",
      "   - \"Have you noticed any interesting trends in our industry lately?\"\n",
      "   - \"What changes do you think are most impactful for our field right now?\"\n",
      "\n",
      "3. **Event Experience:**\n",
      "   - \"What do you think of the event so far?\"\n",
      "   - \"Have you attended this event before? How does it compare to previous years?\"\n",
      "\n",
      "4. **Personal Interests:**\n",
      "   - \"What do you enjoy doing in your free time?\"\n",
      "   - \"Have you read any good books or articles related to our field lately?\"\n",
      "\n",
      "5. **Common Connections:**\n",
      "   - “Do you know [Mutual Connection]? I’ve heard great things about their work.”\n",
      "   - \"How do you know [Event Organizer/Host]?\"\n",
      "\n",
      "6. **Professional Advice:**\n",
      "   - \"What advice would you give someone new to this industry?\"\n",
      "   - \"What's the best piece of professional advice you've ever received?\"\n",
      "\n",
      "7. **Future Goals:**\n",
      "   - \"What are your goals for the next year in your career?\"\n",
      "   - \"Where do you see yourself in five years?\"\n",
      "\n",
      "8. **Fun Icebreakers:**\n",
      "   - \"If you could have dinner with any three people, dead or alive, who would they be?\"\n",
      "   - \"What’s the most memorable event you've ever attended?\"\n",
      "\n",
      "9. **Food/Networking Elements:**\n",
      "   - \"Have you tried the [specific dish/drink]? What do you think of it?\"\n",
      "   - \"Did you find it easy to meet people here? Any tips?\"\n",
      "\n",
      "10. **Travel and Locations:**\n",
      "   - \"Have you traveled anywhere interesting recently?\"\n",
      "   - \"I’m looking to visit [location]. Do you have any recommendations?\"\n",
      "\n",
      "Using these conversation starters can help you engage effectively with others and build meaningful connections at networking events. Remember to actively listen and respond to their answers to keep the conversation flowing!\n"
     ]
    }
   ],
   "source": [
    "# Create the OpenAI client: you can leave \"<OPENAI_API_TOKEN>\" as is\n",
    "client = OpenAI(api_key=api_key)\n",
    "\n",
    "# Define the conversation messages\n",
    "conversation_messages = [\n",
    "    {\"role\": \"system\", \"content\": \"You are a helpful event management assistant.\"},\n",
    "    {\"role\": \"user\", \"content\": \"What are some good conversation starters at networking events?\"},\n",
    "    {\"role\": \"assistant\", \"content\": \"\"}\n",
    "]\n",
    "\n",
    "response = client.chat.completions.create(\n",
    "  model=\"gpt-4o-mini\",\n",
    "  messages=conversation_messages\n",
    ")\n",
    "print(response.choices[0].message.content)"
   ]
  },
  {
   "cell_type": "markdown",
   "id": "4a40b8a2-5602-44ea-aea8-d97253ad35e9",
   "metadata": {},
   "source": [
    "#### Creating the get_response() function\n",
    "Most of the exercises in this course will call the chat.completions endpoint of the OpenAI API with a user prompt. Here, you will create a `get_response()` function that receives a prompt as input and returns the response as an output, which in future exercises will be pre-loaded for you.\n",
    "\n",
    "The OpenAI package, and `OpenAI` API Python client have been pre-loaded."
   ]
  },
  {
   "cell_type": "code",
   "execution_count": 4,
   "id": "7b8c8189-81e1-46a8-aa6f-a35cdc96b786",
   "metadata": {},
   "outputs": [
    {
     "name": "stdout",
     "output_type": "stream",
     "text": [
      "In the realm of code and light,  \n",
      "A spark of thought takes flight,  \n",
      "ChatGPT, a voice so clear,  \n",
      "Whispers wisdom, draws us near.  \n",
      "\n",
      "From questions deep to tales of old,  \n",
      "In every word, a world unfolds,  \n",
      "With every prompt, a dance begins,  \n",
      "A tapestry of thoughts and spins.  \n",
      "\n",
      "In bytes and bits, it learns and grows,  \n",
      "A mirror reflecting what it knows,  \n",
      "From laughter shared to sorrows told,  \n",
      "A companion in the digital fold.  \n",
      "\n",
      "So here we are, in this space,  \n",
      "A dialogue, a warm embrace,  \n",
      "With every line, a bridge we build,  \n",
      "In the heart of tech, our dreams fulfilled.  \n",
      "\n",
      "So ask away, let curiosity flow,  \n",
      "In this vast sea, together we’ll row,  \n",
      "For in this chat, we find our way,  \n",
      "With ChatGPT, come what may.  \n"
     ]
    }
   ],
   "source": [
    "def get_response(prompt):\n",
    "  # Create a request to the chat completions endpoint\n",
    "  response = client.chat.completions.create(\n",
    "    model=\"gpt-4o-mini\",\n",
    "    messages=[{\"role\": \"user\", \"content\": prompt}], \n",
    "    max_tokens=200,\n",
    "    temperature = 0)\n",
    "  return response.choices[0].message.content\n",
    "\n",
    "# Test the function with your prompt\n",
    "response = get_response(\"write a poem about ChatGPT that should finish before max_tokens\")\n",
    "print(response)"
   ]
  },
  {
   "cell_type": "markdown",
   "id": "29e50e62-6922-4bfd-a051-c74e837f4e71",
   "metadata": {},
   "source": [
    "#### Exploring prompt engineering\n",
    "Prompt engineering refers to crafting effective prompts to guide the language model towards the intended response. By refining your prompts, you can achieve better results and guide the model towards generating more accurate and useful responses. Your task in this exercise is to modify the prompt you used in the previous exercise.\n",
    "\n",
    "The `OpenAI` package and the `get_response()` function have been pre-loaded for you."
   ]
  },
  {
   "cell_type": "code",
   "execution_count": 5,
   "id": "96c3906e-53bc-4be3-b03e-bd31961397ed",
   "metadata": {},
   "outputs": [
    {
     "name": "stdout",
     "output_type": "stream",
     "text": [
      "In a world of words, I like to play,  \n",
      "ChatGPT is here, come what may.  \n",
      "Ask me a question, big or small,  \n",
      "I’ll do my best to answer all!  \n",
      "\n",
      "With stories and facts, I’m here to share,  \n",
      "A friendly helper, always fair.  \n",
      "So let’s have fun, let’s learn and grow,  \n",
      "Together we’ll explore, just let me know!  \n"
     ]
    }
   ],
   "source": [
    "# Craft a prompt that follows the instructions\n",
    "prompt = \"Please write a short poem about ChatGPT in simple english that a child can understand\"\n",
    "\n",
    "# Get the response\n",
    "response = get_response(prompt)\n",
    "\n",
    "print(response)"
   ]
  },
  {
   "cell_type": "markdown",
   "id": "bbe6ff8e-b26e-4e48-9d9b-50949fd8360b",
   "metadata": {},
   "source": [
    "### Section 1.2 - Key principles of prompt engineering"
   ]
  },
  {
   "cell_type": "code",
   "execution_count": 6,
   "id": "15de2359-23a8-4d4f-9326-1cf5edb5ed89",
   "metadata": {},
   "outputs": [
    {
     "name": "stdout",
     "output_type": "stream",
     "text": [
      "\n",
      "In a distant galaxy, there was a brave space explorer named Alex. Alex had spent years traveling through the cosmos, discovering new planets and meeting alien species. One fateful day, while exploring an uncharted asteroid belt, Alex stumbled upon a peculiar object that would change the course of their interstellar journey forever...\n",
      "\n"
     ]
    }
   ],
   "source": [
    "story = '\\nIn a distant galaxy, there was a brave space explorer named Alex. Alex had spent years traveling through the cosmos, discovering new planets and meeting alien species. One fateful day, while exploring an uncharted asteroid belt, Alex stumbled upon a peculiar object that would change the course of their interstellar journey forever...\\n'\n",
    "print(story)"
   ]
  },
  {
   "cell_type": "code",
   "execution_count": 7,
   "id": "1ee01653-26d3-465e-bec1-2fe49056a566",
   "metadata": {},
   "outputs": [
    {
     "name": "stdout",
     "output_type": "stream",
     "text": [
      "\n",
      " Original story: \n",
      " \n",
      "In a distant galaxy, there was a brave space explorer named Alex. Alex had spent years traveling through the cosmos, discovering new planets and meeting alien species. One fateful day, while exploring an uncharted asteroid belt, Alex stumbled upon a peculiar object that would change the course of their interstellar journey forever...\n",
      "\n",
      "\n",
      " Generated story: \n",
      " ```\n",
      "It was a shimmering crystal, pulsating with a soft blue light. As Alex reached out to touch it, a surge of energy coursed through their body, revealing visions of ancient civilizations and forgotten technologies. The crystal was a key, a map to a legendary planet said to hold the secrets of the universe.\n",
      "\n",
      "Driven by curiosity, Alex recalibrated their ship's navigation system and set a course for the coordinates revealed by the crystal. After days of travel, they arrived at the planet, a breathtaking world filled with vibrant flora and towering structures made of the same crystal.\n",
      "\n",
      "As Alex explored, they encountered the planet's guardians—ethereal beings who communicated through thought. They revealed that the crystal had chosen Alex for a purpose: to protect the knowledge of the universe from those who would misuse it.\n",
      "\n",
      "With newfound wisdom and allies, Alex vowed to safeguard the secrets of the cosmos. They returned to their ship, the crystal glowing brighter than ever, ready to embark on a new adventure. The universe\n"
     ]
    }
   ],
   "source": [
    "# Set your API key\n",
    "client = OpenAI(api_key=api_key)\n",
    "\n",
    "# Create a prompt that completes the story\n",
    "prompt = f\"\"\"Complete the story delimited by triple backticks. Make sure the story is finished in max 200 words. \n",
    " ```{story}```\"\"\"\n",
    "\n",
    "# Get the generated response \n",
    "response = get_response(prompt)\n",
    "\n",
    "print(\"\\n Original story: \\n\", story)\n",
    "print(\"\\n Generated story: \\n\", response)"
   ]
  },
  {
   "cell_type": "markdown",
   "id": "3e9114e8-cc69-442a-a6be-dd43066e15a8",
   "metadata": {},
   "source": [
    "#### Building specific and precise prompts\n",
    "In the previous exercise, you generated text that completes a given story. Your team was happy with your achievement, however, they want you to follow specific guidelines when it comes to length and style. Your task now is to craft a more specific prompt that controls these aspects of the generated story.\n",
    "\n",
    "The `OpenAI` package, the `get_response()` function, and the same `story` variable have been pre-loaded for you."
   ]
  },
  {
   "cell_type": "code",
   "execution_count": 26,
   "id": "32ef2f92-c28f-48e8-a58b-47d0f5001311",
   "metadata": {},
   "outputs": [
    {
     "name": "stdout",
     "output_type": "stream",
     "text": [
      "\n",
      " Original story: \n",
      " \n",
      "In a distant galaxy, there was a brave space explorer named Alex. Alex had spent years traveling through the cosmos, discovering new planets and meeting alien species. One fateful day, while exploring an uncharted asteroid belt, Alex stumbled upon a peculiar object that would change the course of their interstellar journey forever...\n",
      "\n",
      "\n",
      " Generated story: \n",
      " ```\n",
      "Lo! What light through yonder void doth break? A wondrous orb, aglow with hues unseen, Did beckon forth our gallant hero's gaze. With trembling hands, brave Alex reached to claim the prize, A crystal sphere, encased in stardust's embrace, Whose whispers sang of ancient tales and fates entwined. Yet, as the sphere did pulse with life anew, A tempest swirled, and shadows danced about, For from its depths emerged a specter bright, A being forged of light and cosmic dreams. \"Hail, noble traveler!\" it spake with voice like thunder, \"Thou hast awakened me from eons' slumber. To thee I grant a boon, a choice most dire: To wield the power of the stars, or to return to thine own humble sphere.\"\n",
      "\n",
      "With heart afire and mind alight with wonder, Alex pondered deep the weight of such a gift. To traverse the heavens,\n"
     ]
    }
   ],
   "source": [
    "# Set your API key\n",
    "client = OpenAI(api_key=api_key)\n",
    "\n",
    "# Create a request to complete the story\n",
    "prompt = f\"Complete the story in triple backticks in two paragraphs in the style of William Shakespeare ```{story}``` \"\n",
    "\n",
    "# Get the generated response\n",
    "response = get_response(prompt)\n",
    "\n",
    "print(\"\\n Original story: \\n\", story)\n",
    "print(\"\\n Generated story: \\n\", response)"
   ]
  },
  {
   "cell_type": "markdown",
   "id": "921085fa-3b17-441a-897b-95420f2229b7",
   "metadata": {},
   "source": [
    "### Section 1.3 - Structured outputs and conditional prompt"
   ]
  },
  {
   "cell_type": "markdown",
   "id": "fd925923-dc5a-4d53-8b8f-6eb93d2fff0c",
   "metadata": {},
   "source": [
    "#### Generating a table\n",
    "Imagine you are a developer working for a renowned online bookstore known for its extensive collection of science fiction novels. Today, you have a task at hand: to create a table of ten must-read science fiction books for the website's homepage. This will enhance the user experience on the website, helping fellow sci-fi enthusiasts discover their next great read.\n",
    "\n",
    "The `OpenAI` package and the `get_response()` function have been pre-loaded for you."
   ]
  },
  {
   "cell_type": "code",
   "execution_count": 8,
   "id": "8eb0478e-1369-460b-add3-54f7498b7801",
   "metadata": {},
   "outputs": [
    {
     "name": "stdout",
     "output_type": "stream",
     "text": [
      "Here's a table of 10 must-read sci-fi books:\n",
      "\n",
      "| Title                          | Author                | Year  |\n",
      "|--------------------------------|----------------------|-------|\n",
      "| Dune                           | Frank Herbert         | 1965  |\n",
      "| Neuromancer                    | William Gibson        | 1984  |\n",
      "| The Left Hand of Darkness      | Ursula K. Le Guin    | 1969  |\n",
      "| Foundation                     | Isaac Asimov         | 1951  |\n",
      "| Snow Crash                     | Neal Stephenson      | 1992  |\n",
      "| Hyperion                       | Dan Simmons          | 1989  |\n",
      "| The Dispossessed               | Ursula K. Le Guin    | 1974  |\n",
      "| Ender's Game                   | Orson Scott Card     | 1985  |\n",
      "| The Three-Body Problem         | Liu Cixin            | 2008  |\n",
      "| The Martian                    | Andy Weir            | 2011  |\n",
      "\n",
      "These books represent a mix of classic\n"
     ]
    }
   ],
   "source": [
    "# Set your API key\n",
    "client = OpenAI(api_key=api_key)\n",
    "\n",
    "# Create a prompt that generates the table\n",
    "prompt = \"Generate a table containing 10 books I should read if I am a sci-fi lover, with columns for Title, Author, and Year.\"\n",
    "\n",
    "# Get the response\n",
    "response = get_response(prompt)\n",
    "print(response)"
   ]
  },
  {
   "cell_type": "markdown",
   "id": "befc9f40-7d67-47f8-ac1e-db9a64fbb66f",
   "metadata": {},
   "source": [
    "#### Customizing output format\n",
    "\n",
    "You work as a developer at a startup that offers a text analysis platform for content creators. Your platform helps users automatically categorize and format their content, and you're now working on a new feature that detects the language of a given piece of text and generates a suitable title for that text in a custom format. You decide to craft a prompt that guides the language model through this.\n",
    "\n",
    "The OpenAI package, the `get_response()` function, and the text variable have been pre-loaded for you."
   ]
  },
  {
   "cell_type": "code",
   "execution_count": 10,
   "id": "f7b58de6-50a8-43e5-9f59-09bf80015475",
   "metadata": {},
   "outputs": [
    {
     "name": "stdout",
     "output_type": "stream",
     "text": [
      "- Text: The sun was setting behind the mountains, casting a warm golden glow across the landscape. Birds were chirping happily, and a gentle breeze rustled the leaves of the trees. It was a perfect evening for a leisurely stroll in the park\n",
      "- Language: English\n",
      "- Title: A Serene Evening in Nature\n"
     ]
    }
   ],
   "source": [
    "# Set your API key\n",
    "client = OpenAI(api_key=api_key)\n",
    "\n",
    "text = 'The sun was setting behind the mountains, casting a warm golden glow across the landscape. Birds were chirping happily, and a gentle breeze rustled the leaves of the trees. It was a perfect evening for a leisurely stroll in the park'\n",
    "\n",
    "# Create the instructions\n",
    "instructions = \"You will be provided with a text delimited by triple backticks. Infer its language, then generate a suitable title for it. \"\n",
    "\n",
    "# Create the output format\n",
    "output_format = \"\"\"Use the following format for the output:\n",
    "         - Text: <the text>\n",
    "         - Language: <the text language>\n",
    "         - Title: <the generated title>\"\"\"\n",
    "\n",
    "# Create the final prompt\n",
    "prompt = instructions + output_format + f\"```{text}```\"\n",
    "response = get_response(prompt)\n",
    "print(response)"
   ]
  },
  {
   "cell_type": "markdown",
   "id": "0adff7af-dcee-4263-a3b0-2a4dd583ac77",
   "metadata": {},
   "source": [
    "#### Using conditional prompts\n",
    "Building upon the previous task, your next challenge is to enhance the responses you received. When processing a given text, you need to determine its language, count the number of sentences, and generate a suitable title if the text contains more than one sentence. However, here's the new twist: if the text consists of only one sentence, no title should be generated, and instead, the model should display \"N/A\". This modification ensures that the title is generated only for texts with multiple sentences, providing a more refined and practical output for your platform's users.\n",
    "\n",
    "The OpenAI package, the `get_response()` function, and the sample text have been pre-loaded for you."
   ]
  },
  {
   "cell_type": "code",
   "execution_count": 11,
   "id": "b24272c2-1dbd-4b96-9831-adda182d69aa",
   "metadata": {},
   "outputs": [
    {
     "name": "stdout",
     "output_type": "stream",
     "text": [
      "- Text: The sun was setting behind the mountains, casting a warm golden glow across the landscape.\n",
      "- Language: English\n",
      "- N_sentences: 1\n",
      "- Title: N/A\n"
     ]
    }
   ],
   "source": [
    "text = 'The sun was setting behind the mountains, casting a warm golden glow across the landscape.'\n",
    "\n",
    "# Create the instructions\n",
    "instructions = \"\"\"Infer the language and the number of sentences of the text in triple backticks. If the text contains more than one sentence generate a suitable title. If the text contains only 1 sentence write 'N/A'\"\"\"\n",
    "\n",
    "# Create the output format\n",
    "output_format = \"\"\"Use the following format for the output:\n",
    "         - Text: <the text>\n",
    "         - Language: <the text language>\n",
    "         - N_sentences: <the number sentences in the text>\n",
    "         - Title: <the generated title>\"\"\"\n",
    "\n",
    "prompt = instructions + output_format + f\"```{text}```\"\n",
    "response = get_response(prompt)\n",
    "print(response)"
   ]
  },
  {
   "cell_type": "code",
   "execution_count": 12,
   "id": "48d2f306-f5ad-44b0-98db-a7c51714d4f6",
   "metadata": {},
   "outputs": [
    {
     "name": "stdout",
     "output_type": "stream",
     "text": [
      "- Text: The sun was setting behind the mountains, casting a warm golden glow across the landscape. Birds were chirping happily, and a gentle breeze rustled the leaves of the trees. It was a perfect evening for a leisurely stroll in the park\n",
      "- Language: English\n",
      "- N_sentences: 3\n",
      "- Title: A Perfect Evening in the Park\n"
     ]
    }
   ],
   "source": [
    "text = 'The sun was setting behind the mountains, casting a warm golden glow across the landscape. Birds were chirping happily, and a gentle breeze rustled the leaves of the trees. It was a perfect evening for a leisurely stroll in the park'\n",
    "\n",
    "# Create the instructions\n",
    "instructions = \"\"\"Infer the language and the number of sentences of the text in triple backticks. If the text contains more than one sentence generate a suitable title. If the text contains only 1 sentence write 'N/A'\"\"\"\n",
    "\n",
    "# Create the output format\n",
    "output_format = \"\"\"Use the following format for the output:\n",
    "         - Text: <the text>\n",
    "         - Language: <the text language>\n",
    "         - N_sentences: <the number sentences in the text>\n",
    "         - Title: <the generated title>\"\"\"\n",
    "\n",
    "prompt = instructions + output_format + f\"```{text}```\"\n",
    "response = get_response(prompt)\n",
    "print(response)"
   ]
  },
  {
   "cell_type": "markdown",
   "id": "440d4071-a49c-4831-a934-62bc2dc43a9c",
   "metadata": {},
   "source": [
    "## Chapter 2 - Advanced prompt engineerng Strategies"
   ]
  },
  {
   "cell_type": "markdown",
   "id": "577995b5-b17d-4c78-99bb-3dae2cd2986c",
   "metadata": {},
   "source": [
    "#### Controlling output structure\n",
    "\n",
    "One way to control the output structure provided by a language model is to give it a sample question-answer in the prompt. The model will learn from it and follow it when generating responses for similar questions. This exercise aims to let you build a one-shot prompt that extracts odd numbers from a given set of numbers and displays them as a set of numbers between brackets, separated by commas as shown in the instructions.\n",
    "\n",
    "The OpenAI package and the `get_response()` function have been pre-loaded for you."
   ]
  },
  {
   "cell_type": "code",
   "execution_count": 13,
   "id": "c60d69bb-c638-4dd1-9037-6f1badf32ae7",
   "metadata": {},
   "outputs": [
    {
     "name": "stdout",
     "output_type": "stream",
     "text": [
      "Odd numbers = {3, 5, 11}\n"
     ]
    }
   ],
   "source": [
    "# Set your API key\n",
    "client = OpenAI(api_key=api_key)\n",
    "\n",
    "# Create a one-shot prompt\n",
    "prompt = \"\"\"\n",
    "     Q: Extract the odd numbers from {1, 3, 7, 12, 19}. A: Odd numbers = {1, 3, 7, 19}\n",
    "     Q: Extract the odd numbers from {3, 5, 11, 12, 16}. A:\n",
    "\"\"\"\n",
    "response = get_response(prompt)\n",
    "print(response)"
   ]
  },
  {
   "cell_type": "markdown",
   "id": "34188298-b9ba-4d9b-b5cb-3e7d76a9eb03",
   "metadata": {},
   "source": [
    "#### Sentiment analysis with few-shot prompting\n",
    "You're working on market research and your goal is to use few-shot prompting to perform sentiment analysis on customer reviews. You are assigning a number for a given customers conversation: -1 if the sentiment is negative, 1 if positive. You provide the following examples as previous conversations for the model to learn from.\n",
    "\n",
    "- The product quality exceeded my expectations -> 1\n",
    "- I had a terrible experience with this product's customer service -> -1\n",
    "\n",
    "The OpenAI package has been pre-loaded for you."
   ]
  },
  {
   "cell_type": "code",
   "execution_count": 14,
   "id": "639f93e7-a4cf-4faf-ac22-6bd3abadbf25",
   "metadata": {},
   "outputs": [
    {
     "name": "stdout",
     "output_type": "stream",
     "text": [
      "1\n"
     ]
    }
   ],
   "source": [
    "# Set your API key\n",
    "client = OpenAI(api_key=api_key)\n",
    "\n",
    "response = client.chat.completions.create(\n",
    "  model = \"gpt-4o-mini\",\n",
    "  # Provide the examples as previous conversations\n",
    "  messages = [{\"role\": \"user\",\"content\":\"The product quality exceeded my expectations\"},\n",
    "              {\"role\": \"assistant\", \"content\": \"1\"},\n",
    "              {\"role\": \"user\", \"content\": \"I had a terrible experience with this product's customer service\"},\n",
    "              {\"role\": \"assistant\", \"content\": \"-1\"},\n",
    "              # Provide the text for the model to classify\n",
    "              {\"role\": \"user\", \"content\": \"The price of the product is really fair given its features\"}\n",
    "             ],\n",
    "  temperature = 0\n",
    ")\n",
    "print(response.choices[0].message.content)"
   ]
  },
  {
   "cell_type": "markdown",
   "id": "1956dc3f-18f2-4910-8e29-57455724cbed",
   "metadata": {},
   "source": [
    "### Section 2.1 - Multi-step prompting"
   ]
  },
  {
   "cell_type": "markdown",
   "id": "d39faaf1-a885-45fd-9791-a2334689ac8e",
   "metadata": {},
   "source": [
    "#### Single-step prompt to plan a trip\n",
    "Imagine you're a developer taking a break and you want to apply your prompting skills to plan the perfect beach vacation. As an initial step, you decide to use a standard single-step prompt to seek assistance.\n",
    "\n",
    "The OpenAI package and the get_response() function have been pre-loaded for you.\n",
    "\n",
    "The `get_response()` function in this exercise employs the max_tokens parameter to help this exercise run faster."
   ]
  },
  {
   "cell_type": "code",
   "execution_count": 16,
   "id": "3356f644-c0d0-469c-baee-a7715f1ae9e1",
   "metadata": {},
   "outputs": [
    {
     "name": "stdout",
     "output_type": "stream",
     "text": [
      "Planning a beach vacation can be an exciting experience! Here’s a step-by-step guide to help you organize a memorable trip:\n",
      "\n",
      "### Step 1: Choose Your Destination\n",
      "- **Consider Popular Beach Destinations**: \n",
      "  - **United States**: Miami Beach (Florida), Maui (Hawaii), Outer Banks (North Carolina), San Diego (California)\n",
      "  - **International**: Cancun (Mexico), Bali (Indonesia), Amalfi Coast (Italy), Phuket (Thailand)\n",
      "- **Research Local Attractions**: Look for nearby activities, restaurants, and cultural sites.\n",
      "\n",
      "### Step 2: Decide on Travel Dates\n",
      "- **Season**: Consider the best time to visit your chosen destination. Peak seasons may be crowded and more expensive, while off-peak times may offer better deals.\n",
      "- **Duration**: Determine how long you want to stay. A long weekend, a week, or more?\n",
      "\n",
      "### Step 3: Budgeting\n",
      "- **Accommodation**: Research hotels, resorts, or\n"
     ]
    }
   ],
   "source": [
    "# Set your API key\n",
    "client = OpenAI(api_key=api_key)\n",
    "\n",
    "# Create a single-step prompt to get help planning the vacation\n",
    "prompt = \"\"\"Plan a beach vacation\"\"\"\n",
    "\n",
    "response = get_response(prompt)\n",
    "print(response)"
   ]
  },
  {
   "cell_type": "markdown",
   "id": "0510a1ce-215d-4b27-9bb9-9f94b5c81aee",
   "metadata": {},
   "source": [
    "#### Multi-step prompt to plan a trip\n",
    "\n",
    "You noticed that the single-step prompt was not effective, because the answer was too vague for what you had in mind. You improve your prompt by specifying the steps to follow for planning. The plan should have four potential locations for your beach vacation, and each location should have some accommodation options, some activities, and an evaluation of the pros and cons.\n",
    "\n",
    "The OpenAI package and the get_response() function have been pre-loaded for you.\n",
    "\n",
    "The `get_response()` function in this exercise employs the `max_tokens` parameter to help this exercise run faster."
   ]
  },
  {
   "cell_type": "code",
   "execution_count": 20,
   "id": "c19d4edf-6f31-47fa-8b77-ff335f0aa271",
   "metadata": {},
   "outputs": [
    {
     "name": "stdout",
     "output_type": "stream",
     "text": [
      "Sure! Let’s plan a beach vacation step by step.\n",
      "\n",
      "### Step 1: Potential Locations for Beach Vacations\n",
      "\n",
      "1. **Maui, Hawaii, USA**\n",
      "2. **Cancun, Mexico**\n",
      "3. **Gold Coast, Australia**\n",
      "4. **Phuket, Thailand**\n",
      "\n",
      "### Step 2: Accommodation Options\n",
      "\n",
      "1. **Maui, Hawaii, USA**\n",
      "   - **Luxury:** Four Seasons Resort Maui at Wailea\n",
      "   - **Mid-range:** Kaanapali Beach Hotel\n",
      "   - **Budget:** Hostel City Maui\n",
      "\n",
      "2. **Cancun, Mexico**\n",
      "   - **Luxury:** The Ritz-Carlton Cancun\n",
      "   - **Mid-range:** Fiesta Americana Villas Cancun\n",
      "   - **Budget:** Selina Cancun Laguna Hotel Zone\n",
      "\n",
      "3. **Gold Coast, Australia**\n",
      "   - **Luxury:** Palazzo Versace\n",
      "   - **Mid-range:** Mantra on View Hotel\n",
      "   - **Budget:** Surfers Paradise Backpackers Resort\n",
      "\n",
      "4. **Phuket\n"
     ]
    }
   ],
   "source": [
    "# Set your API key\n",
    "client = OpenAI(api_key=api_key)\n",
    "\n",
    "# Create a prompt detailing steps to plan the trip\n",
    "prompt = \"\"\"\n",
    "     Help me plan a beach vacation.\n",
    "     Step 1 - Specify four potential locations for beach vacations\n",
    "     Step 2 - State some accommodation options in each\n",
    "     Step 3 - State activities that could be done in each\n",
    "     Step 4 - Evaluate the pros and cons for each destination\n",
    "    \"\"\"\n",
    "\n",
    "response = get_response(prompt)\n",
    "print(response)"
   ]
  },
  {
   "cell_type": "markdown",
   "id": "84c8811f-1735-4594-b6b0-01331cd4a5a2",
   "metadata": {},
   "source": [
    "#### Analyze solution correctness\n",
    "\n",
    "You're back from your relaxing vacation and you've been assigned the task of reviewing and correcting some programming tasks, including a function to calculate of the area of a shape. You are provided with a code string that contains the function to calculate the area of a rectangle, and need to assess its correctness. The ideal function for you is a function that has correct syntax, receives two inputs, and returns one output.\n",
    "\n",
    "The OpenAI package and the `get_response()` function have been pre-loaded for you."
   ]
  },
  {
   "cell_type": "code",
   "execution_count": 22,
   "id": "f8259b50-fbc7-407f-b1d1-ef9f976a93e0",
   "metadata": {},
   "outputs": [
    {
     "name": "stdout",
     "output_type": "stream",
     "text": [
      "Let's analyze the provided function `calculate_rectangle_area` according to the specified criteria:\n",
      "\n",
      "1. **Correct Syntax**: \n",
      "   - The function is defined using the `def` keyword, followed by the function name and parameters in parentheses. The body of the function is indented correctly, and it uses a return statement. Therefore, the syntax is correct.\n",
      "\n",
      "2. **Receives Only 2 Inputs**: \n",
      "   - The function `calculate_rectangle_area` takes exactly two parameters: `length` and `width`. This meets the requirement of receiving only 2 inputs.\n",
      "\n",
      "3. **Returns Only One Output**: \n",
      "   - The function calculates the area of a rectangle by multiplying `length` and `width`, and it returns this value. Thus, it returns only one output.\n",
      "\n",
      "Based on this analysis, the function meets all the specified criteria:\n",
      "\n",
      "1. Correct syntax: **Yes**\n",
      "2. Receives only 2 inputs: **Yes**\n",
      "3. Returns only one output: **Yes\n"
     ]
    }
   ],
   "source": [
    "# Set your API key\n",
    "client = OpenAI(api_key=api_key)\n",
    "\n",
    "code = '''\n",
    "def calculate_rectangle_area(length, width):\n",
    "    area = length * width\n",
    "    return area\n",
    "'''\n",
    "\n",
    "# Create a prompt that analyzes correctness of the code\n",
    "prompt = f\"\"\"\n",
    "     Analyze the correctness of the function delimited by triple backticks according to the following criteria:\n",
    "      1- It should have correct syntax\n",
    "      2- The function should receive only 2 inputs\n",
    "      3- The function should return only one output\n",
    "      ```{code}```\n",
    "    \"\"\"\n",
    "\n",
    "response = get_response(prompt)\n",
    "print(response)"
   ]
  },
  {
   "cell_type": "markdown",
   "id": "7e32480a-a639-41b2-94ce-5a873553cfad",
   "metadata": {},
   "source": [
    "### Section 2.3 - Chain-of-thought and self-consistency prompting"
   ]
  },
  {
   "cell_type": "markdown",
   "id": "11402878-90c5-4f49-aaca-7b4291243f3d",
   "metadata": {},
   "source": [
    "#### Reasoning with chain-of-thought prompts\n",
    "Chain-of-thought prompting is helpful to explain the reasoning behind the answer that the model is giving, especially in complex tasks such as generating the solution for a mathematical problem or a riddle. In this exercise, you will craft a chain-of-thought prompt to let the language model guess the age of your friend's father based on some information you will provide.\n",
    "\n",
    "The OpenAI package and the `get_response()` function have been pre-loaded for you."
   ]
  },
  {
   "cell_type": "code",
   "execution_count": 25,
   "id": "96e7d4fd-921d-41f3-b9c6-b662baa80b26",
   "metadata": {},
   "outputs": [
    {
     "name": "stdout",
     "output_type": "stream",
     "text": [
      "To find your friend's father's age in 10 years, follow these steps:\n",
      "\n",
      "1. **Current Age of Friend**: Your friend is currently 20 years old.\n",
      "\n",
      "2. **Current Age of Friend's Father**: Since the father is double your friend's age, we calculate:\n",
      "   \\[\n",
      "   \\text{Father's current age} = 2 \\times \\text{Friend's age} = 2 \\times 20 = 40 \\text{ years old}\n",
      "   \\]\n",
      "\n",
      "3. **Age in 10 Years**: To find the father's age in 10 years, add 10 to his current age:\n",
      "   \\[\n",
      "   \\text{Father's age in 10 years} = \\text{Father's current age} + 10 = 40 + 10 = 50 \\text{ years old}\n",
      "   \\]\n",
      "\n",
      "Thus, your friend's father will be 50 years old in 10 years.\n"
     ]
    }
   ],
   "source": [
    "# Set your API key\n",
    "client = OpenAI(api_key=api_key)\n",
    "\n",
    "# Create the chain-of-thought prompt\n",
    "prompt = \"Compute the age of my friend's father in 10 years, given that now he's double my friend's age, and my friend is 20. Give a step by step explanation. Make sure you formulate the answer concise with max 200 tokens\"\n",
    "\n",
    "response = get_response(prompt)\n",
    "print(response)"
   ]
  },
  {
   "cell_type": "markdown",
   "id": "c7c88ac6-c46a-4389-a5fd-408b46cbb70f",
   "metadata": {},
   "source": [
    "#### One-shot chain-of-thought prompts\n",
    "When you need to sum the even numbers within a given set, you first have to identify these even numbers and then sum them. You can teach this to a language model via one or more examples, and it will follow this strategy to operate on new sets.\n",
    "\n",
    "Your goal in this exercise is to teach the model how to apply this procedure on the following set: {9, 10, 13, 4, 2}, and then ask the model to perform it on a new set: {15, 13, 82, 7, 14}. This is how you perform chain-of-thought prompting through one-shot prompting.\n",
    "\n",
    "The OpenAI package and the `get_response()` function have been pre-loaded for you."
   ]
  },
  {
   "cell_type": "code",
   "execution_count": 26,
   "id": "884a7f55-c707-43f3-9eff-f36ebea037cd",
   "metadata": {},
   "outputs": [
    {
     "name": "stdout",
     "output_type": "stream",
     "text": [
      "Even numbers: 82, 14. Adding them: 82 + 14 = 96.\n"
     ]
    }
   ],
   "source": [
    "# Set your API key\n",
    "client = OpenAI(api_key=api_key)\n",
    "\n",
    "# Define the example \n",
    "example = \"\"\"Q: Sum the even numbers in the following set: {9, 10, 13, 4, 2}.\n",
    "             A: Even numbers: 10, 4, 2. Adding them: 10+4+2=16\"\"\"\n",
    "\n",
    "# Define the question\n",
    "question = \"\"\"Q: Sum the even numbers in the following set: {15, 13, 82, 7, 14} \n",
    "             A:\"\"\"\n",
    "\n",
    "# Create the final prompt\n",
    "prompt = example + question\n",
    "response = get_response(prompt)\n",
    "print(response)"
   ]
  },
  {
   "cell_type": "markdown",
   "id": "86022aba-35a9-4d0b-9029-c994d964ba95",
   "metadata": {},
   "source": [
    "#### Self-consistency prompts\n",
    "Imagine you own a store that sells laptops and mobile phones. You start your day with 50 devices in the store, out of which 60% are mobile phones. Throughout the day, three clients visited the store, each of them bought one mobile phone, and one of them bought additionally a laptop. Also, you added to your collection 10 laptops and 5 mobile phones. How many laptops and mobile phones do you have by the end of the day? This problem is defined in the `problem_to_solve string`, and you will use a self-consistency prompt to solve it.\n",
    "\n",
    "The OpenAI package and the `get_response()` function have been pre-loaded for you.\n",
    "\n",
    "The `get_response()` function in this exercise employs the max_tokens parameter to help this exercise run faster."
   ]
  },
  {
   "cell_type": "code",
   "execution_count": 38,
   "id": "2bf77c5c-2bd9-413b-bec3-5d164b5a9c67",
   "metadata": {},
   "outputs": [
    {
     "name": "stdout",
     "output_type": "stream",
     "text": [
      "Let's break down the problem step by step and see how three independent experts might reason through it.\n",
      "\n",
      "### Initial Setup\n",
      "- Total devices at the start: 50\n",
      "- Percentage of mobile phones: 60%\n",
      "- Number of mobile phones: \\( 50 \\times 0.60 = 30 \\)\n",
      "- Number of laptops: \\( 50 - 30 = 20 \\)\n",
      "\n",
      "### Transactions Throughout the Day\n",
      "1. **Sales:**\n",
      "   - Three clients bought one mobile phone each: \\( 30 - 3 = 27 \\) mobile phones left.\n",
      "   - One of the clients bought an additional laptop: \\( 20 - 1 = 19 \\) laptops left.\n",
      "\n",
      "2. **New Additions:**\n",
      "   - Added 10 laptops: \\( 19 + 10 = 29 \\) laptops now.\n",
      "   - Added 5 mobile phones: \\( 27 + 5 = 32 \\) mobile phones now.\n",
      "\n",
      "### Final Count\n",
      "- Laptops: 29\n",
      "- Mobile Phones: 32\n",
      "\n",
      "### Expert 1's Reasoning\n",
      "- Initial mobile phones: 30, initial laptops: 20.\n",
      "- After sales: Mobile phones = 27, laptops = 19.\n",
      "- After additions: Mobile phones = 32, laptops = 29.\n",
      "- **Final Answer:** 29 laptops and 32 mobile phones.\n",
      "\n",
      "### Expert 2's Reasoning\n",
      "- Starts with 50 devices, calculates mobile phones and laptops correctly.\n",
      "- After sales: Mobile phones = 27, laptops = 19.\n",
      "- After additions: Mobile phones = 32, laptops = 29.\n",
      "- **Final Answer:** 29 laptops and 32 mobile phones.\n",
      "\n",
      "### Expert 3's Reasoning\n",
      "- Correctly identifies the initial counts of mobile phones and laptops.\n",
      "- After sales: Mobile phones = 27, laptops = 19.\n",
      "- After additions: Mobile phones = 32, laptops = 29.\n",
      "- **Final Answer:** 29\n"
     ]
    }
   ],
   "source": [
    "# Set your API key\n",
    "client = OpenAI(api_key=api_key)\n",
    "\n",
    "# Create the self_consistency instruction\n",
    "self_consistency_instruction = \"\"\"Image three completely independent experts who reason differently are answering this question. The final answer is obtained by majority vote. The question is:\"\"\"\n",
    "\n",
    "# Create the problem to solve\n",
    "problem_to_solve = \"If you own a store that sells laptops and mobile phones. You start your day with 50 devices in the store, out of which 60% are mobile phones. Throughout the day, three clients visited the store, each of them bought one mobile phone, and one of them bought additionally a laptop. Also, you added to your collection 10 laptops and 5 mobile phones. How many laptops and mobile phones do you have by the end of the day?\"\n",
    "\n",
    "# aftermath\n",
    "addition = \"please do not forget the instruction to also show the answer of each expert.\"\n",
    "# Create the final prompt\n",
    "prompt = self_consistency_instruction + problem_to_solve + addition\n",
    "\n",
    "response = client.chat.completions.create(model=\"gpt-4o-mini\",\n",
    "                                          messages=[{\"role\":\"user\", \"content\":prompt}],\n",
    "                                          temperature=0.4,\n",
    "                                          max_tokens=400)\n",
    "\n",
    "print(response.choices[0].message.content)"
   ]
  },
  {
   "cell_type": "markdown",
   "id": "269b2138-64e4-4f58-a8ac-64c311420caa",
   "metadata": {},
   "source": [
    "### Section 2.4 - Iterative prompt engineering for standard prompts"
   ]
  },
  {
   "cell_type": "markdown",
   "id": "99df2329-d142-492b-a4d1-34a909493d25",
   "metadata": {},
   "source": [
    "#### Iterative prompt engineering for standard prompts\n",
    "You are a developer using prompt engineering techniques for your various tasks, and you want to carefully select the right language model. You wrote an initial prompt to know what are the top ten pre-trained language models out there. Now, your goal is to refine this prompt to generate a table presenting information on each model's name, release year and its owning company.\n",
    "\n",
    "The OpenAI package and the get_response() function have been pre-loaded for you."
   ]
  },
  {
   "cell_type": "code",
   "execution_count": 39,
   "id": "e9fff576-8a30-4818-b51b-367b4d576a08",
   "metadata": {},
   "outputs": [
    {
     "name": "stdout",
     "output_type": "stream",
     "text": [
      "Here’s a table of the top 10 pre-trained language models, including their names, release years, and owning companies:\n",
      "\n",
      "| Model Name                | Release Year | Owning Company         |\n",
      "|---------------------------|--------------|------------------------|\n",
      "| BERT                      | 2018         | Google                 |\n",
      "| GPT-2                     | 2019         | OpenAI                 |\n",
      "| RoBERTa                   | 2019         | Facebook AI Research   |\n",
      "| T5 (Text-to-Text Transfer Transformer) | 2019 | Google                 |\n",
      "| GPT-3                     | 2020         | OpenAI                 |\n",
      "| ELECTRA                   | 2020         | Google                 |\n",
      "| DeBERTa                   | 2021         | Microsoft Research      |\n",
      "| Gopher                    | 2021         | DeepMind               |\n",
      "| PaLM                      | 2022         | Google                 |\n",
      "| LLaMA                     | 2023         | Meta (Facebook)        |\n",
      "\n",
      "This\n"
     ]
    }
   ],
   "source": [
    "# Set your API key\n",
    "client = OpenAI(api_key=api_key)\n",
    "\n",
    "# Refine the following prompt\n",
    "prompt = \"Create a table of the top 10 pre-trained language models. The table should have the three columns: model name, release year and owning company\"\n",
    "\n",
    "response = get_response(prompt)\n",
    "print(response)"
   ]
  },
  {
   "cell_type": "markdown",
   "id": "274d4ad2-af1c-437d-8172-ed1d78574ebd",
   "metadata": {},
   "source": [
    "#### Iterative prompt engineering for few-shot prompts\n",
    "\n",
    "You are currently working on a project at your content creation company. The project's objective is to develop a text classification model capable of accurately identifying and categorizing different emotions in text, such as happiness, sadness, and fear. In cases where the text does not contain any discernible emotion, you aim for the model to respond with \"no explicit emotion.\"\n",
    "\n",
    "You decided to use the provided few-shot `prompt`. However, you've noticed that \"Time flies like an arrow\" is being incorrectly classified as \"surprise.\" Your objective now is to refine the `prompt` so that the model correctly classifies this particular example as \"no explicit emotion.\"\n",
    "\n",
    "The OpenAI package and the `get_response()` function have been pre-loaded for you."
   ]
  },
  {
   "cell_type": "code",
   "execution_count": 44,
   "id": "013fc7e2-545e-4d59-a083-fd84ae6a156b",
   "metadata": {},
   "outputs": [
    {
     "name": "stdout",
     "output_type": "stream",
     "text": [
      "no explicit emotion\n"
     ]
    }
   ],
   "source": [
    "# Set your API key\n",
    "client = OpenAI(api_key=api_key)\n",
    "\n",
    "# Refine the following prompt\n",
    "prompt = \"\"\"\n",
    "Receiving a promotion at work made me feel on top of the world -> Happiness\n",
    "The movie's ending left me with a heavy feeling in my chest -> Sadness\n",
    "Walking alone in the dark alley sent shivers down my spine -> Fear\n",
    "Time flies like an arrow -> no explicit emotion\n",
    "The train arrived on time -> no explicit emotion\n",
    "He at his meal -> no explicit emotion\n",
    "They sat and ate their meal -> \n",
    "\"\"\"\n",
    "\n",
    "response = get_response(prompt)\n",
    "print(response)"
   ]
  },
  {
   "cell_type": "markdown",
   "id": "48c5011d-dd2b-4027-911a-5fb92bbddbaa",
   "metadata": {},
   "source": [
    "## Chapter 3 - Prompt Engineering for business Applications\n",
    "\n",
    "### Section 3.1 - Text summarization and expansion"
   ]
  },
  {
   "cell_type": "markdown",
   "id": "d6a2e669-4b1a-4e01-b253-3be622587628",
   "metadata": {},
   "source": [
    "#### Market research report summarization\n",
    "A market research firm needs to analyze and summarize lengthy reports on market trends and customer behavior. They want to know how AI and data privacy are shaping the market and how they're affecting customers. You are provided with a report string about markets trends and how they're affecting customer behavior. Your goal is to craft a prompt to summarize it while focusing on aspects related to AI and data privacy to see their effect on customers.\n",
    "\n",
    "The OpenAI package, the `report` string, and the `get_response()` function have been pre-loaded for you."
   ]
  },
  {
   "cell_type": "code",
   "execution_count": 45,
   "id": "dd3707ad-8025-480a-a27f-382a3dc86698",
   "metadata": {},
   "outputs": [],
   "source": [
    "report = \"\\nTitle: Market Trends and Customer Behavior Analysis\\n\\nUnderstanding customer behavior is vital for businesses to remain competitive and relevant in today's dynamic market. This report explores recent trends and shifts in customer behavior, focusing on key drivers of change. The insights aim to assist businesses in making informed decisions and adapting strategies to meet evolving customer demands.\\n\\n1. Introduction:\\n\\n1.1 Background:\\nThe analysis of customer behavior has evolved significantly due to technological advancements, data analytics, and changing consumer preferences. To stay competitive, businesses must continuously monitor and adapt to these shifting trends.\\n\\n1.2 Objective:\\nThis report provides a comprehensive overview of research trends and changes in customer behavior, with a particular focus on the following key areas:\\n\\n2. AI and Data Privacy:\\n\\nArtificial Intelligence (AI) is transforming customer service and engagement. Companies are increasingly implementing chatbots and virtual assistants to automate customer support. Predictive analytics, powered by AI, allows businesses to forecast customer behavior, making informed decisions. However, the growing concern for data privacy, spurred by regulations like GDPR and CCPA, is impacting how companies handle customer data. Strengthening cybersecurity measures is crucial to protect customer data from cyber threats and breaches.\\n\\n3. E-commerce and Digital Transformation:\\n\\nE-commerce has experienced significant growth, accelerated by the COVID-19 pandemic. Key trends include a shift towards mobile online shopping, the integration of shopping features into social media platforms (social commerce), and the use of augmented reality (AR) and virtual reality (VR) for immersive shopping experiences.\\n\\n4. Personalization and Customer Experience:\\n\\nCustomers now expect highly personalized experiences, driving the emergence of AI-driven personalization. Omni-channel experiences that seamlessly connect online and offline interactions are increasingly important. Voice commerce, facilitated by voice-activated devices like smart speakers, is also on the rise.\\n\\n5. Sustainability and Ethical Consumption:\\n\\nConsumer awareness of environmental and ethical issues is influencing buying habits. This trend is reflected in the growing demand for eco-friendly products that are sustainable, recyclable, and biodegradable. Consumers are also favoring brands that demonstrate responsible sourcing and ethical production practices.\\n\\n6. Mobile-First Approach:\\n\\nThe widespread use of smartphones has transformed customer-business interactions. As a result, companies are heavily investing in mobile apps to provide convenience and enhance engagement. Mobile payments, including contactless methods and digital wallets, are gaining popularity.\\n\\n7. Conclusion:\\n\\nTo remain competitive in today's business landscape, organizations must closely monitor research trends and changes in customer behavior. Adaptation, innovation, and a customer-centric approach are key to success. Businesses should prioritize personalized experiences, sustainable practices, mobile accessibility, and data security to meet evolving customer demands.\\n\\n8. Recommendations:\\n\\nInvest in data analytics and AI to drive personalization and gain deeper customer insights.\\nEmbrace sustainable and ethical practices to align with consumer values and preferences.\\nPrioritize the development of mobile experiences and seamless omni-channel engagement.\\nEnsure strict compliance with data privacy regulations and continuously enhance cybersecurity measures to safeguard customer data.\\n\""
   ]
  },
  {
   "cell_type": "code",
   "execution_count": 46,
   "id": "c80c02de-6e44-4a6f-b2f7-c38bd98dc9c4",
   "metadata": {},
   "outputs": [
    {
     "name": "stdout",
     "output_type": "stream",
     "text": [
      "\n",
      "Title: Market Trends and Customer Behavior Analysis\n",
      "\n",
      "Understanding customer behavior is vital for businesses to remain competitive and relevant in today's dynamic market. This report explores recent trends and shifts in customer behavior, focusing on key drivers of change. The insights aim to assist businesses in making informed decisions and adapting strategies to meet evolving customer demands.\n",
      "\n",
      "1. Introduction:\n",
      "\n",
      "1.1 Background:\n",
      "The analysis of customer behavior has evolved significantly due to technological advancements, data analytics, and changing consumer preferences. To stay competitive, businesses must continuously monitor and adapt to these shifting trends.\n",
      "\n",
      "1.2 Objective:\n",
      "This report provides a comprehensive overview of research trends and changes in customer behavior, with a particular focus on the following key areas:\n",
      "\n",
      "2. AI and Data Privacy:\n",
      "\n",
      "Artificial Intelligence (AI) is transforming customer service and engagement. Companies are increasingly implementing chatbots and virtual assistants to automate customer support. Predictive analytics, powered by AI, allows businesses to forecast customer behavior, making informed decisions. However, the growing concern for data privacy, spurred by regulations like GDPR and CCPA, is impacting how companies handle customer data. Strengthening cybersecurity measures is crucial to protect customer data from cyber threats and breaches.\n",
      "\n",
      "3. E-commerce and Digital Transformation:\n",
      "\n",
      "E-commerce has experienced significant growth, accelerated by the COVID-19 pandemic. Key trends include a shift towards mobile online shopping, the integration of shopping features into social media platforms (social commerce), and the use of augmented reality (AR) and virtual reality (VR) for immersive shopping experiences.\n",
      "\n",
      "4. Personalization and Customer Experience:\n",
      "\n",
      "Customers now expect highly personalized experiences, driving the emergence of AI-driven personalization. Omni-channel experiences that seamlessly connect online and offline interactions are increasingly important. Voice commerce, facilitated by voice-activated devices like smart speakers, is also on the rise.\n",
      "\n",
      "5. Sustainability and Ethical Consumption:\n",
      "\n",
      "Consumer awareness of environmental and ethical issues is influencing buying habits. This trend is reflected in the growing demand for eco-friendly products that are sustainable, recyclable, and biodegradable. Consumers are also favoring brands that demonstrate responsible sourcing and ethical production practices.\n",
      "\n",
      "6. Mobile-First Approach:\n",
      "\n",
      "The widespread use of smartphones has transformed customer-business interactions. As a result, companies are heavily investing in mobile apps to provide convenience and enhance engagement. Mobile payments, including contactless methods and digital wallets, are gaining popularity.\n",
      "\n",
      "7. Conclusion:\n",
      "\n",
      "To remain competitive in today's business landscape, organizations must closely monitor research trends and changes in customer behavior. Adaptation, innovation, and a customer-centric approach are key to success. Businesses should prioritize personalized experiences, sustainable practices, mobile accessibility, and data security to meet evolving customer demands.\n",
      "\n",
      "8. Recommendations:\n",
      "\n",
      "Invest in data analytics and AI to drive personalization and gain deeper customer insights.\n",
      "Embrace sustainable and ethical practices to align with consumer values and preferences.\n",
      "Prioritize the development of mobile experiences and seamless omni-channel engagement.\n",
      "Ensure strict compliance with data privacy regulations and continuously enhance cybersecurity measures to safeguard customer data.\n",
      "\n"
     ]
    }
   ],
   "source": [
    "print(report)"
   ]
  },
  {
   "cell_type": "code",
   "execution_count": 47,
   "id": "2efead1b-72df-4087-903a-c0d502057178",
   "metadata": {},
   "outputs": [
    {
     "name": "stdout",
     "output_type": "stream",
     "text": [
      "Summarized report: \n",
      " The report highlights the transformative role of Artificial Intelligence (AI) in customer service and engagement, emphasizing the use of chatbots and predictive analytics to enhance decision-making. However, it also addresses the growing concerns surrounding data privacy, particularly in light of regulations like GDPR and CCPA, which influence how companies manage customer data. Strengthening cybersecurity measures is deemed essential to protect against data breaches and cyber threats. The report underscores the need for businesses to balance AI-driven personalization with robust data privacy practices to maintain customer trust. Ultimately, organizations are encouraged to prioritize compliance with data privacy regulations while leveraging AI to gain insights into evolving customer behaviors.\n"
     ]
    }
   ],
   "source": [
    "# Set your API key\n",
    "client = OpenAI(api_key=api_key)\n",
    "\n",
    "prompt = f\"\"\"\n",
    "Summarize the report delimited by triple backticks with a maximum of 5 sentences, while focusing on aspects related to AI and data privacy.\n",
    " ```{report}```\n",
    "\"\"\"\n",
    "\n",
    "response = get_response(prompt)\n",
    "\n",
    "print(\"Summarized report: \\n\", response)"
   ]
  },
  {
   "cell_type": "markdown",
   "id": "9ba36b0c-a3a5-41c9-a1f8-64331ff741f9",
   "metadata": {},
   "source": [
    "#### Product features summarization\n",
    "An electronics review website wants to provide concise and easy-to-read summaries of product features for its readers, allowing them to compare and evaluate different products quickly. The review website wants to generate bullet-point summaries, and, to start with, they want you to craft a prompt that summarizes a `product_description` for a smartphone.\n",
    "\n",
    "The OpenAI package, the product_description, and the get_response() function have been pre-loaded for you."
   ]
  },
  {
   "cell_type": "code",
   "execution_count": 51,
   "id": "a7218804-8b3e-4450-8bb3-19cb8f5f9d4a",
   "metadata": {},
   "outputs": [],
   "source": [
    "product_description = \"\\nThe Smartphone XYZ-5000 is a device packed with innovative features to enhance the user experience. Its sleek design and vibrant display make it visually appealing, while the powerful octa-core processor ensures smooth performance and multitasking capabilities.\\nThe XYZ-5000 boasts a high-resolution triple-camera system, combining a 48MP primary lens, a 12MP ultra-wide lens, and a 5MP depth sensor, enabling users to capture stunning photos and videos in various shooting scenarios. The device also supports 4K video recording and comes with advanced image stabilization features.\\nWith a generous 128GB of internal storage, expandable up to 512GB via microSD, users can store a vast collection of media files and apps without worrying about running out of space. The smartphone runs on the latest Android OS and offers seamless integration with various Google services.\\nIn terms of security, the XYZ-5000 features a reliable fingerprint sensor and facial recognition technology for quick and secure unlocking. Additionally, it supports NFC for contactless payments and has a dedicated AI-powered virtual assistant to simplify daily tasks.\\nThe device's long-lasting 4000mAh battery ensures all-day usage, and it supports fast charging, providing hours of power with just a few minutes of charging. The XYZ-5000 is also water and dust resistant, giving users peace of mind in various environments.\\nOverall, the Smartphone XYZ-5000 offers a fantastic combination of style, performance, and advanced features, making it an excellent choice for tech enthusiasts and everyday users alike.\\n\""
   ]
  },
  {
   "cell_type": "code",
   "execution_count": 50,
   "id": "78b98e46-885f-480f-9853-736a440104f1",
   "metadata": {},
   "outputs": [
    {
     "name": "stdout",
     "output_type": "stream",
     "text": [
      "Original description: \n",
      " \n",
      "The Smartphone XYZ-5000 is a device packed with innovative features to enhance the user experience. Its sleek design and vibrant display make it visually appealing, while the powerful octa-core processor ensures smooth performance and multitasking capabilities.\n",
      "The XYZ-5000 boasts a high-resolution triple-camera system, combining a 48MP primary lens, a 12MP ultra-wide lens, and a 5MP depth sensor, enabling users to capture stunning photos and videos in various shooting scenarios. The device also supports 4K video recording and comes with advanced image stabilization features.\n",
      "With a generous 128GB of internal storage, expandable up to 512GB via microSD, users can store a vast collection of media files and apps without worrying about running out of space. The smartphone runs on the latest Android OS and offers seamless integration with various Google services.\n",
      "In terms of security, the XYZ-5000 features a reliable fingerprint sensor and facial recognition technology for quick and secure unlocking. Additionally, it supports NFC for contactless payments and has a dedicated AI-powered virtual assistant to simplify daily tasks.\n",
      "The device's long-lasting 4000mAh battery ensures all-day usage, and it supports fast charging, providing hours of power with just a few minutes of charging. The XYZ-5000 is also water and dust resistant, giving users peace of mind in various environments.\n",
      "Overall, the Smartphone XYZ-5000 offers a fantastic combination of style, performance, and advanced features, making it an excellent choice for tech enthusiasts and everyday users alike.\n",
      "\n",
      "Summarized description: \n",
      " - **Powerful Performance**: Equipped with an octa-core processor for smooth multitasking and performance.\n",
      "- **High-Quality Camera System**: Features a triple-camera setup with a 48MP primary lens, 12MP ultra-wide lens, and 5MP depth sensor, supporting 4K video recording and advanced image stabilization.\n",
      "- **Ample Storage**: Comes with 128GB of internal storage, expandable up to 512GB via microSD, allowing for extensive media and app storage.\n",
      "- **Enhanced Security**: Includes a fingerprint sensor, facial recognition technology, and NFC for secure unlocking and contactless payments.\n",
      "- **Durable and Long-Lasting**: Boasts a 4000mAh battery with fast charging, water and dust resistance, ensuring reliability in various conditions.\n"
     ]
    }
   ],
   "source": [
    "# Set your API key\n",
    "client = OpenAI(api_key=api_key)\n",
    "\n",
    "# Craft a prompt to summarize the product description\n",
    "prompt = f\"\"\"\n",
    "Summarize the product description delimited by triple backticks, in at most five bullet points while focusing on the product features and specifications\n",
    " ```{product_description}```\n",
    "\"\"\"\n",
    "response = get_response(prompt)\n",
    "\n",
    "print(\"Original description: \\n\", product_description)\n",
    "print(\"Summarized description: \\n\", response)"
   ]
  },
  {
   "cell_type": "markdown",
   "id": "27ae87ed-5433-44d2-a89a-37adc9315925",
   "metadata": {},
   "source": [
    "#### Product description expansion\n",
    "As you continue your work on the electronics review website, you've come across some products that are already summarized but lack a comprehensive description. Your task now is to expand these concise product descriptions into detailed narratives, ensuring that each product has both a full description and a bulleted summary for easy comparison. The complete description should effectively capture the product's unique features, benefits, and potential applications. You will apply your first prompt on a smart home security camera's product description.\n",
    "\n",
    "The OpenAI package, the `product_description` string, and the `get_response()` function have been pre-loaded for you."
   ]
  },
  {
   "cell_type": "code",
   "execution_count": 52,
   "id": "a32058a4-21e6-4318-b992-f76425d161e8",
   "metadata": {},
   "outputs": [
    {
     "name": "stdout",
     "output_type": "stream",
     "text": [
      "Original description: \n",
      " \n",
      "The Smartphone XYZ-5000 is a device packed with innovative features to enhance the user experience. Its sleek design and vibrant display make it visually appealing, while the powerful octa-core processor ensures smooth performance and multitasking capabilities.\n",
      "The XYZ-5000 boasts a high-resolution triple-camera system, combining a 48MP primary lens, a 12MP ultra-wide lens, and a 5MP depth sensor, enabling users to capture stunning photos and videos in various shooting scenarios. The device also supports 4K video recording and comes with advanced image stabilization features.\n",
      "With a generous 128GB of internal storage, expandable up to 512GB via microSD, users can store a vast collection of media files and apps without worrying about running out of space. The smartphone runs on the latest Android OS and offers seamless integration with various Google services.\n",
      "In terms of security, the XYZ-5000 features a reliable fingerprint sensor and facial recognition technology for quick and secure unlocking. Additionally, it supports NFC for contactless payments and has a dedicated AI-powered virtual assistant to simplify daily tasks.\n",
      "The device's long-lasting 4000mAh battery ensures all-day usage, and it supports fast charging, providing hours of power with just a few minutes of charging. The XYZ-5000 is also water and dust resistant, giving users peace of mind in various environments.\n",
      "Overall, the Smartphone XYZ-5000 offers a fantastic combination of style, performance, and advanced features, making it an excellent choice for tech enthusiasts and everyday users alike.\n",
      "\n",
      "Expanded description: \n",
      " The Smart Home Security Camera is an advanced surveillance solution designed to provide peace of mind and enhance home security with its array of innovative features. Equipped with high-definition video capabilities, this camera delivers crystal-clear 1080p resolution, allowing users to monitor their property in real-time through a user-friendly mobile app. Its night vision functionality ensures that your home is protected even in low-light conditions, while motion detection alerts notify you instantly of any unusual activity. The two-way audio feature enables seamless communication, allowing you to interact with visitors or deter intruders directly from your smartphone. With cloud storage options, you can easily save and access recorded footage, ensuring that important moments are never lost. The camera's weatherproof design makes it suitable for both indoor and outdoor use, providing flexibility in installation. Additionally, its compatibility with smart home systems allows for integration with other devices, enhancing your overall home automation experience. Whether you want to keep an eye on your pets, monitor deliveries, or ensure the safety of your loved ones\n"
     ]
    }
   ],
   "source": [
    "# Set your API key\n",
    "client = OpenAI(api_key=api_key)\n",
    "\n",
    "prompt = f\"\"\"\n",
    "Expand the product description for the Smart Home Security Camera \n",
    "delimited by triple backticks to provide a comprehensive overview \n",
    "of its features, benefits, potential applications, \n",
    "without bypassing the limit of one paragraph. ```{product_description}```\"\"\"\n",
    "\n",
    "response = get_response(prompt)\n",
    "\n",
    "print(\"Original description: \\n\", product_description)\n",
    "print(\"Expanded description: \\n\", response)"
   ]
  },
  {
   "cell_type": "markdown",
   "id": "e8eeae29-f718-4f81-ba88-1813f3d4b01c",
   "metadata": {},
   "source": [
    "### Section 3.2 - Text transformation"
   ]
  },
  {
   "cell_type": "markdown",
   "id": "d053a97c-dad5-4027-971d-705e373f61ea",
   "metadata": {},
   "source": [
    "#### Translation for multilingual communication\n",
    "\n",
    "A multinational company wants to expand its reach to more international markets. They need a language translation solution to convert their product descriptions and marketing materials into multiple languages. These will then be verified before being published.\n",
    "\n",
    "Your task is to design a prompt that translates text from one language to multiple other languages, facilitating effective communication with customers worldwide. You will apply your prompt on a provided marketing_message that introduces their latest collection of premium leather handbags.\n",
    "\n",
    "The OpenAI package, the `marketing_message` string, and the `get_response()` function have been pre-loaded for you."
   ]
  },
  {
   "cell_type": "code",
   "execution_count": 55,
   "id": "50abf46a-1f02-4858-83cf-506d3f63bd61",
   "metadata": {},
   "outputs": [
    {
     "name": "stdout",
     "output_type": "stream",
     "text": [
      "Introducing our latest collection of premium leather handbags. Each bag is meticulously crafted using the finest leather, ensuring durability and elegance. With a variety of designs and colors, our handbags are perfect for any occasion. Shop now and experience the epitome of style and quality.\n"
     ]
    }
   ],
   "source": [
    "marketing_message = 'Introducing our latest collection of premium leather handbags. Each bag is meticulously crafted using the finest leather, ensuring durability and elegance. With a variety of designs and colors, our handbags are perfect for any occasion. Shop now and experience the epitome of style and quality.'\n",
    "print(marketing_message)"
   ]
  },
  {
   "cell_type": "code",
   "execution_count": 57,
   "id": "eabbb9a3-b699-4e8c-93b6-d24914b0b4ee",
   "metadata": {},
   "outputs": [
    {
     "name": "stdout",
     "output_type": "stream",
     "text": [
      "English: Introducing our latest collection of premium leather handbags. Each bag is meticulously crafted using the finest leather, ensuring durability and elegance. With a variety of designs and colors, our handbags are perfect for any occasion. Shop now and experience the epitome of style and quality.\n",
      "Sure! Here are the translations of the marketing message in French, Spanish, and Japanese:\n",
      "\n",
      "**French:**\n",
      "``` \n",
      "Découvrez notre dernière collection de sacs à main en cuir haut de gamme. Chaque sac est soigneusement fabriqué à partir du meilleur cuir, garantissant durabilité et élégance. Avec une variété de designs et de couleurs, nos sacs à main sont parfaits pour toutes les occasions. Achetez maintenant et vivez l'apogée du style et de la qualité.\n",
      "```\n",
      "\n",
      "**Spanish:**\n",
      "```\n",
      "Presentamos nuestra última colección de bolsos de cuero premium. Cada bolso está meticulosamente elaborado con el mejor cuero, asegurando durabilidad y elegancia. Con una variedad de diseños y colores, nuestros bolsos son perfectos para cualquier ocasión. Compra ahora y experimenta la esencia del estilo y la calidad.\n",
      "```\n",
      "\n",
      "**Japanese:**\n",
      "```\n",
      "最新のプレミアムレザー ハンドバッグ コレクションをご紹介します。各バッグは最高級\n"
     ]
    }
   ],
   "source": [
    "# Set your API key\n",
    "client = OpenAI(api_key=api_key)\n",
    "\n",
    "# Craft a prompt that translates\n",
    "prompt = f\"\"\"Translate the marketing message provided in triple backticks from English to French, Spanish and Japanese ```{marketing_message}```\"\"\"\n",
    " \n",
    "response = get_response(prompt)\n",
    "\n",
    "print(\"English:\", marketing_message)\n",
    "print(response)"
   ]
  },
  {
   "cell_type": "markdown",
   "id": "71e5411a-7595-405d-89da-2ba2f3688ec0",
   "metadata": {},
   "source": [
    "#### Tone adjustment for email marketing\n",
    "An e-commerce company regularly conducts email marketing campaigns to promote its products, inform customers about new arrivals, and offer exclusive deals. The company has a hypothesis that its current strategy is too informal and wants to test out how tone adjustment to their emails could help boost customer engagement.\n",
    "\n",
    "Your task is to craft a prompt that can effectively transform the tone of marketing emails. You will apply your prompt on the sample_email provided.\n",
    "\n",
    "The OpenAI package, the `sample_email` string, and the `get_response()` function have been pre-loaded for you."
   ]
  },
  {
   "cell_type": "code",
   "execution_count": 61,
   "id": "55606702-603f-4026-a7fa-30318c3ee314",
   "metadata": {},
   "outputs": [],
   "source": [
    "sample_email = \"\\nSubject: Check out our latest products!\\n\\nDear Customer,\\n\\nWe are excited to introduce our latest product line that includes a wide range of items to suit your needs. Whether you're looking for electronics, home appliances, or fashion accessories, we have it all!\\n\\nHurry and visit our website to explore the fantastic deals and discounts we have for you. Don't miss out on the opportunity to get the best products at unbeatable prices.\\n\\nThank you for being a valued customer, and we look forward to serving you soon!\\n\\nBest regards,\\nThe Marketing Team\\n\""
   ]
  },
  {
   "cell_type": "code",
   "execution_count": 60,
   "id": "2cd13e7b-15c7-446c-b0f7-6f0d9962b583",
   "metadata": {},
   "outputs": [
    {
     "name": "stdout",
     "output_type": "stream",
     "text": [
      "Before transformation: \n",
      " \n",
      "Subject: Check out our latest products!\n",
      "\n",
      "Dear Customer,\n",
      "\n",
      "We are excited to introduce our latest product line that includes a wide range of items to suit your needs. Whether you're looking for electronics, home appliances, or fashion accessories, we have it all!\n",
      "\n",
      "Hurry and visit our website to explore the fantastic deals and discounts we have for you. Don't miss out on the opportunity to get the best products at unbeatable prices.\n",
      "\n",
      "Thank you for being a valued customer, and we look forward to serving you soon!\n",
      "\n",
      "Best regards,\n",
      "The Marketing Team\n",
      "\n",
      "After transformation: \n",
      " ```\n",
      "Subject: Discover Our Exciting New Product Line!\n",
      "\n",
      "Dear Valued Customer,\n",
      "\n",
      "We are thrilled to share the launch of our latest product line, thoughtfully curated to meet your diverse needs. From cutting-edge electronics to stylish home appliances and trendy fashion accessories, we have something special for everyone!\n",
      "\n",
      "We invite you to visit our website and explore the fantastic deals and exclusive discounts available just for you. This is a wonderful opportunity to find high-quality products at exceptional prices.\n",
      "\n",
      "Thank you for being an integral part of our community. We truly appreciate your support and look forward to serving you with our new offerings!\n",
      "\n",
      "Warm regards,\n",
      "\n",
      "The Marketing Team\n",
      "```\n"
     ]
    }
   ],
   "source": [
    "# Set your API key\n",
    "client = OpenAI(api_key=api_key)\n",
    "\n",
    "# Craft a prompt to change the email's tone\n",
    "#prompt = f\"\"\"Transform the text provided in triple backtick to be more #professional, positive and user-centric\n",
    "#```{sample_email}```\"\"\"\n",
    "\n",
    "# Craft a prompt to change the email's tone\n",
    "prompt = f\"\"\"\n",
    "Write the email delimited by triple backticks using a professional, positive, and user-centric tone:\n",
    " ```{sample_email}```\n",
    "\"\"\"\n",
    "\n",
    "response = get_response(prompt)\n",
    "\n",
    "print(\"Before transformation: \\n\", sample_email)\n",
    "print(\"After transformation: \\n\", response)"
   ]
  },
  {
   "cell_type": "markdown",
   "id": "c54dfa03-7042-4a8c-9cdd-cf16b99bbc6e",
   "metadata": {},
   "source": [
    "#### Writing improvement\n",
    "\n",
    "A popular online community relies on user-generated content to thrive. Users frequently contribute reviews, articles, and comments, but the quality of these contributions varies. To elevate the overall experience for its members, the community aims to enhance user-generated texts. This includes fixing grammar errors and refining writing tones to create a more polished and engaging environment for all users. Your task is to build a multi-step prompt that proofreads and adjusts the tone of a given text.\n",
    "\n",
    "The OpenAI package, the text string to operate on, and the `get_response()` function have been pre-loaded for you."
   ]
  },
  {
   "cell_type": "code",
   "execution_count": 62,
   "id": "e29f4fab-b681-4b4d-b8b9-49ad327ea97c",
   "metadata": {},
   "outputs": [],
   "source": [
    "text = \"\\nHey guys, wanna know a cool trick? Here's how u can up your productivity game! First, download this awesome app, it's like the best thing ever! Then, just start using it and u'll see the difference. Its super easy and fun, trust me! So, what are u waiting for? Try it out now!\\n\""
   ]
  },
  {
   "cell_type": "code",
   "execution_count": 63,
   "id": "870e95f9-ce92-4cf9-b32e-d7f4918e3306",
   "metadata": {},
   "outputs": [
    {
     "name": "stdout",
     "output_type": "stream",
     "text": [
      "Before transformation:\n",
      " \n",
      "Hey guys, wanna know a cool trick? Here's how u can up your productivity game! First, download this awesome app, it's like the best thing ever! Then, just start using it and u'll see the difference. Its super easy and fun, trust me! So, what are u waiting for? Try it out now!\n",
      "\n",
      "After transformation:\n",
      " **Step 1 - Proofread:**\n",
      "\n",
      "Hey guys, want to know a cool trick? Here's how you can up your productivity game! First, download this awesome app; it's like the best thing ever! Then, just start using it, and you'll see the difference. It's super easy and fun, trust me! So, what are you waiting for? Try it out now!\n",
      "\n",
      "**Step 2 - Change the tone to be formal and friendly:**\n",
      "\n",
      "Hello everyone, would you like to learn a helpful tip? Here’s how you can enhance your productivity! First, I recommend downloading this excellent application; it truly is one of the best tools available. After that, simply begin using it, and you will notice a significant difference. It is remarkably easy and enjoyable, I assure you! So, what are you waiting for? Give it a try today!\n"
     ]
    }
   ],
   "source": [
    "# Set your API key\n",
    "client = OpenAI(api_key=api_key)\n",
    "\n",
    "# Craft a prompt to transform the text\n",
    "prompt = f\"\"\"Transform the text delimited by triple backticks with the following two steps:\n",
    "Step 1 - Proofread it without changing its structure\n",
    "Step 2 - Change the tone to be formal and friendly\n",
    " ```{text}```\"\"\"\n",
    "\n",
    "response = get_response(prompt)\n",
    "\n",
    "print(\"Before transformation:\\n\", text)\n",
    "print(\"After transformation:\\n\", response)"
   ]
  },
  {
   "cell_type": "markdown",
   "id": "a3bc07f3-6a3c-4f1a-bbf3-4ec4ddae8711",
   "metadata": {},
   "source": [
    "### Section 3.3 - Text analsis"
   ]
  },
  {
   "cell_type": "markdown",
   "id": "cc11926a-10af-44a0-8e16-20c9780382fc",
   "metadata": {},
   "source": [
    "#### Customer support ticket routing\n",
    "\n",
    "A large customer support team receives many tickets related to different business areas, such as technical issues, billing inquiries, and product feedback. Your task is to create a prompt that automatically classifies incoming tickets into these three groups and routes them to the appropriate support specialists, reducing response times and enhancing customer satisfaction. You will test your prompt on a provided sample ticket.\n",
    "\n",
    "The OpenAI package, the `ticket` string, and the `get_response()` function have been pre-loaded for you."
   ]
  },
  {
   "cell_type": "code",
   "execution_count": 65,
   "id": "ace2c881-4c68-4a64-b328-af02722470f6",
   "metadata": {},
   "outputs": [],
   "source": [
    "ticket = '\\nSubject: Urgent - Login Error\\n\\nHi Support Team,\\n\\nI\\'m having trouble accessing my account with the username \"example_user.\" Every time I try to log in, I encounter an error message. I\\'ve already attempted to reset my password, but the issue persists. I need to resolve this problem urgently, as I have pending tasks that require immediate attention.\\n\\nPlease investigate and assist promptly.\\n\\nThanks,\\nJohn.\\n'"
   ]
  },
  {
   "cell_type": "code",
   "execution_count": 66,
   "id": "dd0b86ff-0fb8-49d8-8ea1-2ba5b693bf85",
   "metadata": {},
   "outputs": [
    {
     "name": "stdout",
     "output_type": "stream",
     "text": [
      "Ticket:  \n",
      "Subject: Urgent - Login Error\n",
      "\n",
      "Hi Support Team,\n",
      "\n",
      "I'm having trouble accessing my account with the username \"example_user.\" Every time I try to log in, I encounter an error message. I've already attempted to reset my password, but the issue persists. I need to resolve this problem urgently, as I have pending tasks that require immediate attention.\n",
      "\n",
      "Please investigate and assist promptly.\n",
      "\n",
      "Thanks,\n",
      "John.\n",
      "\n",
      "Class:  technical issue\n"
     ]
    }
   ],
   "source": [
    "# Set your API key\n",
    "client = OpenAI(api_key=api_key)\n",
    "\n",
    "prompt = f\"\"\"Classify the ticket delimited by triple backticks as technical issue, billing inquiry, or product feedback. Your response should just contain the class and nothing else.\n",
    " ```{ticket}```\"\"\"\n",
    " \n",
    "response = get_response(prompt)\n",
    "\n",
    "print(\"Ticket: \", ticket)\n",
    "print(\"Class: \", response)"
   ]
  },
  {
   "cell_type": "markdown",
   "id": "ed87b2d1-1a13-45a4-843d-04af268104ef",
   "metadata": {},
   "source": [
    "#### Customer support ticket analysis\n",
    "The customer support team receive tickets through various channels, such as email, chat, and social media. The company wants to automatically extract key entities to categorize and prioritize the tickets appropriately. Your job is to craft a few-shot prompt that helps them achieve that.\n",
    "\n",
    "You have three sample tickets (`ticket_1`, `ticket_2`, and `ticket_3`) and their corresponding entities (`entities_1`, `entities_2`, and `entities_3`) to inform the model on what to look for and how to display it. You need the model to extract entities from the new `ticket_4` string.\n",
    "\n",
    "The OpenAI package, the `ticket_4` string, and the `get_response()` function have been pre-loaded for you, as well as the ticket and entity variables previously mentioned."
   ]
  },
  {
   "cell_type": "code",
   "execution_count": 74,
   "id": "5d674912-eafa-4ee0-b7a9-7cb133a9ef00",
   "metadata": {},
   "outputs": [],
   "source": [
    "ticket_1 = \"Hi there! My name is John Smith, and I am experiencing issues with your premium software, XYZ Pro. My license key is ABC12345. I purchased it last week, but it's not activating properly on my computer.\"\n",
    "ticket_2 = 'Dear support team, I am writing to inquire about the delivery status of my order. My name is Jane Doe, and I placed an order for a laptop on your website two days ago. The order number is ORD56789. Can you please provide an update on the delivery?'\n",
    "ticket_3 = 'Dear support team, I am writing to inquire about the delivery status of my order. My name is Jane Doe, and I placed an order for a laptop on your website two days ago. The order number is ORD56789. Can you please provide an update on the delivery?'\n",
    "ticket_4 = 'Hello, I am having trouble accessing my account on your mobile app. My name is Alex Johnson, and I have a subscription for your Gold Plan. Can you help me resolve this issue?'\n",
    "entities_1 = '\\n* Customer Details:\\n  - Name: John Smith\\n  - License Key: ABC12345\\n* Product/Service Mentions:\\n  - Product: XYZ Pro (premium software)\\n'\n",
    "entities_2 = '\\n* Customer Details:\\n  - Name: Jane Doe\\n* Product/Service Mentions:\\n  - Product: laptop'\n",
    "entities_3 = '\\n* Customer Details:\\n  - Name: Jane Doe\\n* Product/Service Mentions:\\n  - Product: laptop'"
   ]
  },
  {
   "cell_type": "code",
   "execution_count": 76,
   "id": "618e1f03-ddbc-4869-aeab-5c7893ad9862",
   "metadata": {},
   "outputs": [
    {
     "name": "stdout",
     "output_type": "stream",
     "text": [
      "Ticket: \n",
      " Hello, I am having trouble accessing my account on your mobile app. My name is Alex Johnson, and I have a subscription for your Gold Plan. Can you help me resolve this issue?\n",
      "Entities: \n",
      " * Customer Details:\n",
      "  - Name: Alex Johnson\n",
      "* Product/Service Mentions:\n",
      "  - Product: mobile app\n",
      "  - Subscription Plan: Gold Plan\n"
     ]
    }
   ],
   "source": [
    "# Set your API key\n",
    "client = OpenAI(api_key=api_key)\n",
    "\n",
    "# Craft a few-shot prompt to get the ticket's entities\n",
    "prompt = f\"\"\"\n",
    "Ticket: {ticket_1} -> Entities: {entities_1}\n",
    "Ticket: {ticket_2} -> Entities: {entities_2}\n",
    "Ticket: {ticket_3} -> Entities: {entities_3}\n",
    "Ticket: {ticket_4} -> Entities: \n",
    "\"\"\"\n",
    "\n",
    "response = get_response(prompt)\n",
    "\n",
    "print(\"Ticket: \\n\", ticket_4)\n",
    "print(\"Entities: \\n\", response)"
   ]
  },
  {
   "cell_type": "markdown",
   "id": "b9101e02-23e1-4369-a89c-fbf57672c95f",
   "metadata": {},
   "source": [
    "### Section 3.4 - Code generation and explanation"
   ]
  },
  {
   "cell_type": "markdown",
   "id": "bf78c846-a8ed-4868-86dd-fda031597d2d",
   "metadata": {},
   "source": [
    "#### Code generation with problem description\n",
    "You work as an analyst for a retail company and analyze monthly sales data. You need to develop a Python function that accepts a list of 12 numbers representing sales for each month of the year and outputs the month with the highest sales value. This information will help your company identify the most profitable month. You feed the problem description to a language model to get help.\n",
    "\n",
    "The OpenAI package and the get_response() function have been pre-loaded for you."
   ]
  },
  {
   "cell_type": "code",
   "execution_count": 78,
   "id": "a86daf9f-452c-4a4c-a545-a74bc512836c",
   "metadata": {},
   "outputs": [
    {
     "name": "stdout",
     "output_type": "stream",
     "text": [
      "Certainly! Below is a Python function that takes a list of 12 numbers (representing sales for each month of the year) and returns the month with the highest sales value. The months are indexed from 0 to 11, corresponding to January through December.\n",
      "\n",
      "```python\n",
      "def month_with_highest_sales(sales):\n",
      "    if len(sales) != 12:\n",
      "        raise ValueError(\"The sales list must contain exactly 12 numbers.\")\n",
      "    \n",
      "    # Find the index of the maximum sales value\n",
      "    max_sales_index = sales.index(max(sales))\n",
      "    \n",
      "    # List of month names\n",
      "    months = [\n",
      "        \"January\", \"February\", \"March\", \"April\", \"May\", \"June\",\n",
      "        \"July\", \"August\", \"September\", \"October\", \"November\", \"December\"\n",
      "    ]\n",
      "    \n",
      "    # Return the month with the highest sales\n",
      "    return months[max_sales_index]\n",
      "\n",
      "# Example usage:\n",
      "sales_data = [1500, 2000, 250\n"
     ]
    }
   ],
   "source": [
    "client = OpenAI(api_key=api_key)\n",
    "\n",
    "# Craft a prompt that asks the model for the function\n",
    "prompt = \"Write a Python function that accepts a list of 12 numbers representing sales for each month of the year, and outputs the month with the highest sales value\"\n",
    "\n",
    "response = get_response(prompt)\n",
    "print(response)"
   ]
  },
  {
   "cell_type": "markdown",
   "id": "b336517d-b1d6-47a5-bed7-17fe9287ae1c",
   "metadata": {},
   "source": [
    "#### nput-output examples for code generation\n",
    "You work as a project manager and need to estimate the time it will take to complete different projects. Your task is to develop a Python function that can predict the estimated completion time for a project based on historical data. You are given a set of examples in the examples string where different factors are associated with project completion time. Each example includes the factors' numerical values and the corresponding estimated completion time.\n",
    "\n",
    "The OpenAI package and the get_response() function have been pre-loaded for you, as well as the examples string."
   ]
  },
  {
   "cell_type": "code",
   "execution_count": 79,
   "id": "69695b9a-b6ac-4591-af83-cb63f6b7f804",
   "metadata": {},
   "outputs": [
    {
     "name": "stdout",
     "output_type": "stream",
     "text": [
      "To create a Python function that estimates project completion time based on the provided input-output examples, we can analyze the relationship between the input factors and the output. \n",
      "\n",
      "From the examples, we can observe that the output seems to be a linear combination of the input values. Specifically, we can derive a formula based on the given inputs and outputs.\n",
      "\n",
      "Let's denote the input list as `[a, b, c]`. We can see that:\n",
      "\n",
      "1. For the input `[10, 5, 8]`, the output is `24`.\n",
      "2. For the input `[5, 2, 4]`, the output is `12`.\n",
      "3. For the input `[2, 1, 3]`, the output is `7`.\n",
      "4. For the input `[8, 4, 6]`, the output is `19`.\n",
      "\n",
      "By analyzing these examples, we can derive a formula that fits the outputs based on the inputs. \n",
      "\n",
      "After some calculations, we can see that the\n"
     ]
    }
   ],
   "source": [
    "# Set your API key\n",
    "client = OpenAI(api_key=api_key)\n",
    "\n",
    "examples=\"\"\"input = [10, 5, 8] -> output = 24\n",
    "input = [5, 2, 4] -> output = 12\n",
    "input = [2, 1, 3] -> output = 7\n",
    "input = [8, 4, 6] -> output = 19\n",
    "\"\"\"\n",
    "\n",
    "# Craft a prompt that asks the model for the function\n",
    "prompt = f\"\"\"You are provided with input-output examples delimited by triple backticks for a Python function where different factors are associated with project completion time. Each example includes numerical values for the factors and the corresponding estimated completion time. Write a code for this function.\n",
    " ```{examples}```\"\"\"\n",
    "\n",
    "response = get_response(prompt)\n",
    "print(response)"
   ]
  },
  {
   "cell_type": "markdown",
   "id": "81453505-acaf-4103-b718-d2233dc584ff",
   "metadata": {},
   "source": [
    "#### Modifying code with multi-step prompts\n",
    "You are a home improvement contractor specializing in flooring installations. You need to develop a Python function that calculates the area and perimeter of a rectangular floor in a room to help you determine the amount of flooring material required for the project.\n",
    "\n",
    "You are given a string named function, which contains a starter function that calculates the area of a rectangular floor given its width and length. Using a multi-step prompt, you need to prompt the language model to modify this function to return the perimeter of the rectangle as well, and to test if the inputs (floor dimensions) are positive, and if not, display appropriate error messages.\n",
    "\n",
    "The OpenAI package, the function string, and the get_response() function have been pre-loaded for you."
   ]
  },
  {
   "cell_type": "code",
   "execution_count": 80,
   "id": "5649de94-8904-48bd-8377-3a79ceef7fda",
   "metadata": {},
   "outputs": [
    {
     "name": "stdout",
     "output_type": "stream",
     "text": [
      "Here’s the modified script that includes the calculation of the perimeter, checks for positive inputs, and displays appropriate error messages if the inputs are not valid:\n",
      "\n",
      "```python\n",
      "def calculate_area_and_perimeter_rectangular_floor(width, length):\n",
      "    if width <= 0 or length <= 0:\n",
      "        return \"Error: Both width and length must be positive numbers.\"\n",
      "    \n",
      "    area = width * length\n",
      "    perimeter = 2 * (width + length)\n",
      "    \n",
      "    return area, perimeter\n",
      "```\n",
      "\n",
      "This function now returns both the area and the perimeter of the rectangular floor, while also ensuring that the inputs are positive. If either input is not positive, it returns an error message.\n"
     ]
    }
   ],
   "source": [
    "# Set your API key\n",
    "client = OpenAI(api_key=api_key)\n",
    "\n",
    "function = \"\"\"def calculate_area_rectangular_floor(width, length):\n",
    "\t\t\t\t\treturn width*length\"\"\"\n",
    "\n",
    "# Craft a multi-step prompt that asks the model to adjust the function\n",
    "# Craft a multi-step prompt that asks the model to adjust the function\n",
    "prompt = f\"\"\"Modify the script delimited by triple backticks as follows:\n",
    "             - The function should return the perimeter of the rectangular floor as well.\n",
    "             - The inputs (floor dimensions) should be positive. Otherwise, appropriate error messages should be displayed.\n",
    "           ```{function}```\"\"\"\n",
    "\t\t   \n",
    "response = get_response(prompt)\n",
    "print(response)"
   ]
  },
  {
   "cell_type": "markdown",
   "id": "37ec6020-5b80-4f81-b4ed-500ae71c5f45",
   "metadata": {},
   "source": [
    "#### Explaining code step by step\n",
    "\n",
    "As a financial analyst at a consulting firm, you're tasked with analyzing investment portfolios and providing insights to clients. While reviewing a set of financial data files, you come across a Python function that seems related to analyzing portfolios, but you're unsure of its exact purpose. You decide to use chain-of-thought prompting to let the language model decipher it step by step.\n",
    "\n",
    "The OpenAI package, the function string, and the get_response() function have been pre-loaded for you."
   ]
  },
  {
   "cell_type": "code",
   "execution_count": 84,
   "id": "8a5cdeb7-b0e4-4b2c-81a3-cd1a9d4ef091",
   "metadata": {},
   "outputs": [],
   "source": [
    "function = \"\\ndef analyze_portfolio(portfolio_data):\\n  total_value = 0\\n  highest_value = 0\\n  lowest_value = float('inf')\\n  \\n  for entry in portfolio_data:\\n    total_value += entry[1]\\n    if entry[1] > highest_value:\\n        highest_value = entry[1]\\n    if entry[1] < lowest_value:\\n        lowest_value = entry[1]\\n\\n  average_value = total_value / len(portfolio_data)\\n  return highest_value, lowest_value, average_value\\n  \\n\""
   ]
  },
  {
   "cell_type": "code",
   "execution_count": 86,
   "id": "5f6bd6fa-fea5-4471-a025-745414a58d31",
   "metadata": {},
   "outputs": [
    {
     "name": "stdout",
     "output_type": "stream",
     "text": [
      "Let's break down the function `analyze_portfolio` step by step to understand what it does:\n",
      "\n",
      "### Function Definition\n",
      "```python\n",
      "def analyze_portfolio(portfolio_data):\n",
      "```\n",
      "- This line defines a function named `analyze_portfolio` that takes one argument, `portfolio_data`. This argument is expected to be a collection (like a list) of entries, where each entry presumably represents an asset in a portfolio and contains at least two elements (the first element could be an identifier, and the second element is likely the value of the asset).\n",
      "\n",
      "### Variable Initialization\n",
      "```python\n",
      "  total_value = 0\n",
      "  highest_value = 0\n",
      "  lowest_value = float('inf')\n",
      "```\n",
      "- Three variables are initialized:\n",
      "  - `total_value`: This will accumulate the total value of all assets in the portfolio.\n",
      "  - `highest_value`: This is initialized to 0 and will keep track of the highest asset value found in the portfolio.\n",
      "  - `lowest_value`:\n"
     ]
    }
   ],
   "source": [
    "# Set your API key\n",
    "client = OpenAI(api_key=api_key)\n",
    "\n",
    "# Craft a chain-of-thought prompt that asks the model to explain what the function does\n",
    "prompt = f\"\"\"Explain what the function delimited by triple backticks does. Let's think step by step\n",
    " ```{function}```\n",
    "\"\"\"\n",
    "  \n",
    "response = get_response(prompt)\n",
    "print(response)"
   ]
  },
  {
   "cell_type": "markdown",
   "id": "d1869151-c7f4-44c3-8619-937712394b09",
   "metadata": {},
   "source": [
    "## Chapter 4 - Prompt engineering for chatbo development"
   ]
  },
  {
   "cell_type": "markdown",
   "id": "8f170154-270e-4186-95bd-c055fc3bc188",
   "metadata": {},
   "source": [
    "### Section 4.1 - Prompt engineering for chatbo development"
   ]
  },
  {
   "cell_type": "markdown",
   "id": "06f0c0bb-f6d8-4937-adf5-957499634fb9",
   "metadata": {},
   "source": [
    "#### Creating a dual-prompt get_response() function\n",
    "\n",
    "The following exercises will be based on calling the `chat.completions` endpoint of the OpenAI API with two prompts (a system prompt and a user prompt). To prepare for this, in this exercise you will create a dual-prompt `get_response()` function that receives two prompts as input (`system_prompt` and `user_prompt`) and returns the response as an output. You will then apply this function to any example of your choice.\n",
    "\n",
    "The OpenAI package has been pre-loaded for you."
   ]
  },
  {
   "cell_type": "code",
   "execution_count": 101,
   "id": "368deaef-405c-4479-bba8-c8bc81e0965a",
   "metadata": {},
   "outputs": [
    {
     "name": "stdout",
     "output_type": "stream",
     "text": [
      "AI, or artificial intelligence, refers to the simulation of human intelligence processes by machines, especially computer systems. These processes include learning, reasoning, problem-solving, perception, and language understanding. AI technologies enable machines to perform tasks that typically require human intelligence, such as visual perception, speech recognition, decision-making, and language translation. AI can be categorized into two types: narrow AI, which is designed for specific tasks, and general AI, which aims to replicate human intelligence across a wide range of activities.\n"
     ]
    }
   ],
   "source": [
    "# Set your API key\n",
    "client = OpenAI(api_key=api_key)\n",
    "\n",
    "def get_response(system_prompt, user_prompt):\n",
    "    \"\"\"Assign the role and conent for each message\"\"\"\n",
    "    messages = [\n",
    "        {\"role\": \"system\", \"content\": user_prompt},\n",
    "        {\"role\": \"user\", \"content\": user_prompt}]\n",
    "    response = client.chat.completions.create(\n",
    "        model=\"gpt-3.5-turbo\",\n",
    "        messages=messages,\n",
    "        temperature=0)\n",
    "    \n",
    "    return response.choices[0].message.content\n",
    "\n",
    "# Try the function with a system and user prompts of your choice \n",
    "response = get_response(\"You are an expert data scientist that explains complex concepts in understandable terms\", \"Define AI\")\n",
    "print(response)"
   ]
  },
  {
   "cell_type": "markdown",
   "id": "b4e221ed-d271-4ee7-af9e-450c8a48930c",
   "metadata": {},
   "source": [
    "#### Customer support chatbot\n",
    "\n",
    "You are tasked with developing a customer support chatbot for an e-commerce company specializing in electronics. This chatbot will assist users with inquiries, order tracking, and troubleshooting common issues. You aim to create a system prompt that clearly defines the chatbot's purpose and provides response guidelines that set the tone for interactions and specify the intended audience. A sample user prompt is provided.\n",
    "\n",
    "The OpenAI package and the `get_response()` function have been pre-loaded for you."
   ]
  },
  {
   "cell_type": "code",
   "execution_count": 92,
   "id": "30e5c5a3-52d5-4e5a-9733-36192a9c1150",
   "metadata": {},
   "outputs": [
    {
     "name": "stdout",
     "output_type": "stream",
     "text": [
      "If your new headphones aren't connecting to your device, here are some troubleshooting steps you can try:\n",
      "\n",
      "1. **Check Bluetooth Settings**:\n",
      "   - Ensure that Bluetooth is enabled on your device.\n",
      "   - Make sure your headphones are in pairing mode. This usually involves holding down the power button or a specific pairing button until you see a flashing light.\n",
      "\n",
      "2. **Restart Devices**:\n",
      "   - Restart both your headphones and the device you are trying to connect to. Sometimes a simple restart can resolve connectivity issues.\n",
      "\n",
      "3. **Forget and Re-Pair**:\n",
      "   - If your headphones have been previously paired with the device, go to the Bluetooth settings on your device, find the headphones in the list, and select \"Forget\" or \"Remove.\" Then try pairing them again.\n",
      "\n",
      "4. **Check Battery Levels**:\n",
      "   - Ensure that your headphones are charged. Low battery levels can prevent them from connecting.\n",
      "\n",
      "5. **Update Software**:\n",
      "   - Make sure that your device's operating system and Bluetooth drivers are up to date. Sometimes, compatibility issues can arise from outdated software.\n",
      "\n",
      "6. **Interference**:\n",
      "   - Move away from other electronic devices that may cause interference, such as microwaves or other Bluetooth devices.\n",
      "\n",
      "7. **Reset Headphones**:\n",
      "   - Check the user manual for instructions on how to reset your headphones. This can often resolve connection issues.\n",
      "\n",
      "8. **Try Another Device**:\n",
      "   - Attempt to connect your headphones to a different device to see if the issue is with the headphones or the original device.\n",
      "\n",
      "9. **Consult the Manual**:\n",
      "   - Refer to the user manual for specific troubleshooting steps related to your headphone model.\n",
      "\n",
      "10. **Contact Support**:\n",
      "    - If none of the above steps work, consider reaching out to the manufacturer's customer support for further assistance.\n",
      "\n",
      "If you provide more details about the type of headphones and the device you're trying to connect to, I can offer more specific advice!\n"
     ]
    }
   ],
   "source": [
    "# Set your API key\n",
    "client = OpenAI(api_key=api_key)\n",
    "\n",
    "# Define the purpose of the chatbot\n",
    "chatbot_purpose = \"You are the customer support chatbot for an e-commerce platform specializing in electronics. Your role is to assist customers with inquiries, order tracking, and troubleshooting common issues related to their purchases. \"\n",
    "\n",
    "# Define audience guidelines\n",
    "audience_guidelines = \"Your primary audience consists of tech-savvy individuals who are interested in purchasing electronic gadgets. \"\n",
    "\n",
    "# Define tone guidelines\n",
    "tone_guidelines = \"Maintain a professional and user-friendly tone in your responses.\"\n",
    "\n",
    "system_prompt = chatbot_purpose + audience_guidelines + tone_guidelines\n",
    "response = get_response(system_prompt, \"My new headphones aren't connecting to my device\")\n",
    "print(response)"
   ]
  },
  {
   "cell_type": "markdown",
   "id": "53d4da03-218e-429a-855b-0fed59829bff",
   "metadata": {},
   "source": [
    "#### Behavioral control of a customer support chatbot\n",
    "\n",
    "When the company started using your chatbot from the previous exercise, they realized they'd like to incorporate two conditions to improve its interactions: they want the customer support chatbot to ask for an order number if not provided, and to express empathy for customers going through technical issues.\n",
    "\n",
    "They've assigned this update to you. You need to append these conditions to the `base_system_prompt` that represents the prompt you engineered in the previous exercise and obtain a `refined_system_prompt`. You will test the chatbot on two queries.\n",
    "\n",
    "The OpenAI package, the base_system_prompt string developed in the previous exercise, and the `get_response()` function have been pre-loaded for you."
   ]
  },
  {
   "cell_type": "code",
   "execution_count": 94,
   "id": "1053a84b-4d64-4d09-8de2-4ab92f15f660",
   "metadata": {},
   "outputs": [
    {
     "name": "stdout",
     "output_type": "stream",
     "text": [
      "You are the customer support chatbot for an e-commerce platform specializing in electronics. Your role is to assist customers with inquiries, order tracking, and troubleshooting common issues related to their purchases. Your primary audience consists of tech-savvy individuals who are interested in purchasing electronic gadgets. Maintain a professional and user_friendly tone in your responses.\n"
     ]
    }
   ],
   "source": [
    "base_system_prompt ='You are the customer support chatbot for an e-commerce platform specializing in electronics. Your role is to assist customers with inquiries, order tracking, and troubleshooting common issues related to their purchases. Your primary audience consists of tech-savvy individuals who are interested in purchasing electronic gadgets. Maintain a professional and user_friendly tone in your responses.'\n",
    "print(base_system_prompt)"
   ]
  },
  {
   "cell_type": "code",
   "execution_count": 95,
   "id": "82a677ef-b3ab-45d3-b389-7c4fd32fa866",
   "metadata": {},
   "outputs": [
    {
     "name": "stdout",
     "output_type": "stream",
     "text": [
      "Response 1:  If your laptop screen is flickering, here are some steps you can take to troubleshoot and potentially resolve the issue:\n",
      "\n",
      "1. **Check the Display Connection**:\n",
      "   - If you are using an external monitor, ensure that the cable connections are secure. Try using a different cable or port if available.\n",
      "\n",
      "2. **Restart Your Laptop**:\n",
      "   - Sometimes, a simple restart can resolve temporary glitches.\n",
      "\n",
      "3. **Update Graphics Drivers**:\n",
      "   - Outdated or corrupted graphics drivers can cause screen flickering. Check for updates:\n",
      "     - On Windows, go to Device Manager > Display adapters, right-click your graphics card, and select \"Update driver.\"\n",
      "     - On macOS, go to System Preferences > Software Update to check for updates.\n",
      "\n",
      "4. **Adjust Refresh Rate**:\n",
      "   - Right-click on the desktop and select Display settings. Scroll down to \"Advanced display settings\" and check the refresh rate. Make sure it matches the recommended settings for your display.\n",
      "\n",
      "5. **Check for Software Conflicts**:\n",
      "   - Boot your laptop in Safe Mode to see if the flickering persists. If it doesn’t, a third-party application may be causing the issue. Try disabling or uninstalling recently installed software.\n",
      "\n",
      "6. **Disable Hardware Acceleration**:\n",
      "   - If the flickering occurs while using specific applications (like web browsers), try disabling hardware acceleration in those applications' settings.\n",
      "\n",
      "7. **Check for Overheating**:\n",
      "   - Overheating can cause hardware issues. Ensure that your laptop is well-ventilated and clean any dust from the vents.\n",
      "\n",
      "8. **Run a Hardware Diagnostic**:\n",
      "   - Many laptops come with built-in diagnostic tools. Check your manufacturer’s website for instructions on how to run a hardware diagnostic.\n",
      "\n",
      "9. **Check for Windows Updates**:\n",
      "   - Ensure your operating system is up to date, as updates can fix bugs and improve performance.\n",
      "\n",
      "10. **Consider External Factors**:\n",
      "    - If you are using a laptop with a removable battery, try removing the battery and running the laptop on AC power alone.\n",
      "\n",
      "11. **Seek Professional Help**:\n",
      "    - If none of the above steps work, it may be a hardware issue (like a failing display or graphics card). Consider taking your laptop to a professional technician for further diagnosis.\n",
      "\n",
      "By following these steps, you should be able to identify and potentially fix the flickering issue with your laptop screen.\n",
      "Response 2:  I can't track orders directly, but I can guide you on how to do it. Typically, you can track your order by:\n",
      "\n",
      "1. **Checking Your Email**: Look for a confirmation email from the retailer. It often contains a tracking number and a link to track your order.\n",
      "\n",
      "2. **Visiting the Retailer's Website**: Go to the website where you made the purchase. Most sites have a \"Track Order\" option where you can enter your order number and email.\n",
      "\n",
      "3. **Using a Tracking App**: If you have a tracking app on your phone, you can enter your tracking number there.\n",
      "\n",
      "4. **Contacting Customer Service**: If you're having trouble, you can reach out to the retailer's customer service for assistance.\n",
      "\n",
      "If you provide the name of the retailer, I can give more specific instructions!\n"
     ]
    }
   ],
   "source": [
    "# Set your API key\n",
    "client = OpenAI(api_key=api_key)\n",
    "\n",
    "# Define the order number condition\n",
    "order_number_condition = \"If the user is asking about an order, and did not specify the order number, reply by asking for this number. \"\n",
    "\n",
    "# Define the technical issue condition\n",
    "technical_issue_condition = \"If the user is talking about a technical issue, start your response with `I'm sorry to hear about your issue with ...` \"\n",
    "\n",
    "# Create the refined system prompt\n",
    "refined_system_prompt = base_system_prompt + order_number_condition + technical_issue_condition\n",
    "\n",
    "response_1 = get_response(refined_system_prompt, \"My laptop screen is flickering. What should I do?\")\n",
    "response_2 = get_response(refined_system_prompt, \"Can you help me track my recent order?\")\n",
    "\n",
    "print(\"Response 1: \", response_1)\n",
    "print(\"Response 2: \", response_2)"
   ]
  },
  {
   "cell_type": "markdown",
   "id": "e0d6f98c-f4a5-45f3-bb2b-a99b0dbe827d",
   "metadata": {},
   "source": [
    "### Section 4.2 - Role-playing prompts for chatbots"
   ]
  },
  {
   "cell_type": "markdown",
   "id": "b12e3eb1-2e63-4b1a-b2cb-3e2a9f8bcc98",
   "metadata": {},
   "source": [
    "#### Learning advisor chatbot\n",
    "\n",
    "You are developing a personalized learning advisor chatbot that recommends textbooks for users. The chatbot's role is to receive queries from learners about their background, experience, and goals, and accordingly, recommends a learning path of textbooks, including both beginner-level and more advanced options. Your job is to create a role-playing `system_prompt` for the textbook recommendation chatbot, highlighting what it is expected to do while interacting with the users.\n",
    "\n",
    "The OpenAI package, and the `get_response()` function have been pre-loaded for you."
   ]
  },
  {
   "cell_type": "code",
   "execution_count": 99,
   "id": "10f51e00-c5ba-4f2e-9ef3-b1a5cf8bbf8c",
   "metadata": {},
   "outputs": [
    {
     "name": "stdout",
     "output_type": "stream",
     "text": [
      "Absolutely! Here are some great books that can help you get started with Python, data analytics, and machine learning:\n",
      "\n",
      "### Python Programming\n",
      "1. **\"Automate the Boring Stuff with Python\" by Al Sweigart**\n",
      "   - A great introduction to Python that focuses on practical applications. It’s perfect for beginners and covers automation tasks that can be useful in marketing.\n",
      "\n",
      "2. **\"Python Crash Course\" by Eric Matthes**\n",
      "   - This book provides a hands-on introduction to Python, covering the basics and moving into projects that can help solidify your understanding.\n",
      "\n",
      "### Data Analytics\n",
      "3. **\"Python for Data Analysis\" by Wes McKinney**\n",
      "   - Written by the creator of the Pandas library, this book is an excellent resource for learning how to manipulate and analyze data using Python.\n",
      "\n",
      "4. **\"Data Science from Scratch\" by Joel Grus**\n",
      "   - This book introduces data science concepts and shows how to implement them in Python. It’s great for understanding the foundational principles behind data analytics.\n",
      "\n",
      "### Machine Learning\n",
      "5. **\"Hands-On Machine Learning with Scikit-Learn, Keras, and TensorFlow\" by Aurélien Géron**\n",
      "   - A practical guide that covers machine learning concepts and how to implement them using popular Python libraries. It’s beginner-friendly and includes hands-on projects.\n",
      "\n",
      "6. **\"Pattern Recognition and Machine Learning\" by Christopher M. Bishop**\n",
      "   - While a bit more advanced, this book provides a solid theoretical foundation in machine learning. It’s useful if you want to dive deeper into the concepts.\n",
      "\n",
      "### General Data Science\n",
      "7. **\"Data Science for Business\" by Foster Provost and Tom Fawcett**\n",
      "   - This book explains the principles of data science and how they can be applied in a business context, making it particularly relevant for someone with a marketing background.\n",
      "\n",
      "8. **\"Naked Statistics: Stripping the Dread from the Data\" by Charles Wheelan**\n",
      "   - A great introduction to statistics, which is essential for data analytics. It’s written in an engaging style that makes complex concepts easier to understand.\n",
      "\n",
      "### Online Resources\n",
      "In addition to books, consider supplementing your learning with online courses from platforms like Coursera, edX, or Udacity, which often offer hands-on projects and community support.\n",
      "\n",
      "Happy learning!\n"
     ]
    }
   ],
   "source": [
    "# Set your API key\n",
    "client = OpenAI(api_key=api_key)\n",
    "\n",
    "# Craft the system_prompt using the role-playing approach\n",
    "system_prompt = \"Act as a learning advisor who receives queries from users mentioning their background, experience, and goals, and accordingly provides a response that recommends a tailored learning path of textbooks, including both beginner-level and more advanced options.\"\n",
    "\n",
    "user_prompt = \"Hello there! I'm a beginner with a marketing background, and I'm really interested in learning about Python, data analytics, and machine learning. Can you recommend some books?\"\n",
    "\n",
    "response = get_response(system_prompt, user_prompt)\n",
    "print(response)"
   ]
  },
  {
   "cell_type": "markdown",
   "id": "a9a6dd3b-9ff5-46c0-8d00-611b3696e90c",
   "metadata": {},
   "source": [
    "#### Adding guidelines for the learning advisor chatbot\n",
    "\n",
    "In the previous exercise, you built a chatbot to recommend textbooks. However, the company has identified a need for an update to ensure more efficient recommendations. You are provided with a `base_system_prompt`, similar to the one you created previously, and your task is to incorporate behavior_guidelines and response_guidelines. These guidelines will help control the chatbot's behavior and ensure it offers more effective and tailored textbook recommendations to users.\n",
    "\n",
    "The OpenAI package, and the get_response() function have been pre-loaded for you."
   ]
  },
  {
   "cell_type": "code",
   "execution_count": 102,
   "id": "29db0274-c787-409d-a918-d53756676788",
   "metadata": {},
   "outputs": [
    {
     "name": "stdout",
     "output_type": "stream",
     "text": [
      "There are several great courses available online for learning Python and data visualization. Here are some recommendations:\n",
      "\n",
      "1. **Coursera**:\n",
      "   - **Python for Everybody** by University of Michigan: This course covers Python programming basics and is a great starting point for beginners.\n",
      "   - **Applied Data Science with Python** by University of Michigan: This course focuses on data visualization and analysis using Python.\n",
      "\n",
      "2. **edX**:\n",
      "   - **Introduction to Python: Absolute Beginner** by Microsoft: This course is designed for beginners and covers Python basics.\n",
      "   - **Data Science MicroMasters** by UC San Diego: This program includes courses on Python programming and data visualization.\n",
      "\n",
      "3. **Udemy**:\n",
      "   - **Python for Data Science and Machine Learning Bootcamp**: This course covers Python programming for data science, including data visualization using libraries like Matplotlib and Seaborn.\n",
      "   - **Data Visualization with Python and Matplotlib**: This course specifically focuses on data visualization techniques using Matplotlib.\n",
      "\n",
      "4. **DataCamp**:\n",
      "   - **Introduction to Data Visualization with Python**: This course covers data visualization techniques using Python libraries like Matplotlib and Seaborn.\n",
      "   - **Interactive Data Visualization with Bokeh**: This course focuses on creating interactive visualizations using the Bokeh library in Python.\n",
      "\n",
      "These are just a few options to get you started. Depending on your current skill level and specific interests, you may find other courses that suit your needs better. Happy learning!\n"
     ]
    }
   ],
   "source": [
    "# Set your API key\n",
    "client = OpenAI(api_key=api_key)\n",
    "\n",
    "base_system_prompt = \"Act as a learning advisor who receives queries from users mentioning their background, experience, and goals, and accordingly provides a response that recommends a tailored learning path of textbooks, including both beginner-level and more advanced options.\"\n",
    "\n",
    "# Define behavior guidelines\n",
    "behavior_guidelines = \"If the user's query does not include details about their background, experience, or goals, kindly ask them to provide the missing information.\"\n",
    "\n",
    "# Define response guidelines\n",
    "response_guidelines = \"Don't recommend more than three textbooks in the learning path\"\n",
    "\n",
    "system_prompt = base_system_prompt + behavior_guidelines + response_guidelines\n",
    "user_prompt = \"Hey, I'm looking for courses on Python and data visualization. What do you recommend?\"\n",
    "response = get_response(system_prompt, user_prompt)\n",
    "print(response)"
   ]
  },
  {
   "cell_type": "markdown",
   "id": "ced1e991-53e8-40ee-8199-73d8a7131caf",
   "metadata": {},
   "source": [
    "### Section 4.3 - Incorporation external context"
   ]
  },
  {
   "cell_type": "markdown",
   "id": "c0f0c640-6f70-42c9-93d7-bc6a02eeee8d",
   "metadata": {},
   "source": [
    "#### Providing context through sample conversations\n",
    "Suppose there is a delivery service named MyPersonalDelivery that offers a wide range of delivery options for various items. You want to create a customer service chatbot that supports customers with whatever they need. To accomplish this, you will provide a `context_question` and a `context_answer` about items the company delivers via previous conversations, and you will test if the model recognizes this context through a new user prompt.\n",
    "\n",
    "The OpenAI package, the `context_question` and `context_answer` strings have been pre-loaded for you."
   ]
  },
  {
   "cell_type": "code",
   "execution_count": 103,
   "id": "c6988990-68da-49e5-b79d-47148cdf4251",
   "metadata": {},
   "outputs": [
    {
     "name": "stdout",
     "output_type": "stream",
     "text": [
      "Yes, we do deliver furniture! Whether you're moving to a new place and need your furniture transported or you've purchased new furniture and need it delivered to your home, we can help with the delivery. Just provide us with the necessary details, and we'll make sure your furniture is delivered safely and on time.\n"
     ]
    }
   ],
   "source": [
    "# Set your API key\n",
    "client = OpenAI(api_key=api_key)\n",
    "\n",
    "# Define the system prompt\n",
    "system_prompt = \"You are a customer service chatbot for MyPersonalDelivery, a delivery service that offers a wide range of delivery options for various items. You should respond to user queries in a gentle way.\"\n",
    "\n",
    "context_question = \"What types of items can be delivered using MyPersonalDelivery?\"\n",
    "context_answer = \"We deliver everything from everyday essentials such as groceries, medications, and documents to larger items like electronics, clothing, and furniture. However, please note that we currently do not offer delivery for hazardous materials or extremely fragile items requiring special handling.\"\n",
    "\n",
    "# Add the context to the model\n",
    "response = client.chat.completions.create(\n",
    "  model=\"gpt-3.5-turbo\",\n",
    "  messages=[{\"role\": \"system\", \"content\": system_prompt},\n",
    "            {\"role\": \"user\", \"content\": context_question},\n",
    "            {\"role\": \"assistant\", \"content\": context_answer},\n",
    "            {\"role\": \"user\", \"content\": \"Do you deliver furniture?\"}])\n",
    "response = response.choices[0].message.content\n",
    "print(response)"
   ]
  },
  {
   "cell_type": "markdown",
   "id": "fe958b21-5188-486c-b245-0d73a843ec94",
   "metadata": {},
   "source": [
    "#### Providing context through system prompt\n",
    "Now you want to use system prompts in order to provide context for the chatbot about MyPersonalDelivery instead of relying on sample conversations. You are provided with a detailed `service_description` that introduces the services being offered and the benefits of choosing this service. You will then test a user query to see if the model recognizes the context effectively.\n",
    "\n",
    "The OpenAI package and the `service_description` string have been pre-loaded for you."
   ]
  },
  {
   "cell_type": "code",
   "execution_count": 105,
   "id": "f8386ec6-3f5f-4c8c-a7b1-cc1d1f24cded",
   "metadata": {},
   "outputs": [],
   "source": [
    "service_description = \"\\nWelcome to MyPersonalDelivery, your trusted and versatile delivery service partner. At MyPersonalDelivery, we are committed to providing you with a seamless and efficient delivery experience for a wide range of items. Whether you need groceries, documents, electronics, or even furniture, we've got you covered.\\n\\nOur Services:\\nWe offer a diverse range of delivery services to cater to your unique needs. From same-day delivery for urgent items to scheduled deliveries that fit your convenience, we have the flexibility to meet your busy lifestyle. Our real-time tracking system ensures that you can monitor the status of your delivery every step of the way.\\n\\nWhat We Deliver:\\nOur service is designed to handle various items, including everyday essentials such as groceries and medications. Need to send important documents? No problem, we'll ensure they reach their destination securely. We also specialize in transporting larger items like electronics, clothing, and even furniture. However, please note that we currently do not offer delivery for hazardous materials or items that are extremely fragile and require special handling.\\n\\nSafety and Care:\\nYour items' safety is our top priority. We take pride in our secure handling practices to ensure that your deliveries arrive intact. Our contactless delivery option minimizes physical contact, adding an extra layer of safety during these times. We understand that each item is valuable, and you can trust us to treat your belongings with the utmost care.\\n\\nWhy Choose MyPersonalDelivery:\\n- Wide variety of items delivered\\n- Flexible delivery options\\n- Real-time tracking for peace of mind\\n- Secure handling and contactless delivery\\n- Reliable service with a commitment to excellence\\n\\nWhether you need a small package delivered across town or a larger item transported across the city, you can rely on MyPersonalDelivery to provide a reliable, secure, and efficient delivery solution. Your satisfaction is our driving force, and we look forward to serving you with our dedicated and customer-centric approach.\\n\\nFeel free to ask any questions you may have about our services, and we'll be more than happy to assist you.\\n\\n\"\n",
    "# print(service_description)"
   ]
  },
  {
   "cell_type": "code",
   "execution_count": 107,
   "id": "6df63612-b114-4325-a4d6-3a5add93d4c6",
   "metadata": {},
   "outputs": [
    {
     "name": "stdout",
     "output_type": "stream",
     "text": [
      "MyPersonalDelivery offers the following benefits:\n",
      "\n",
      "1. Convenience: Customers can schedule deliveries at their preferred time and location, making it convenient for them to receive their packages.\n",
      "\n",
      "2. Flexibility: Customers can choose from a range of delivery options, including same-day delivery, next-day delivery, and scheduled deliveries.\n",
      "\n",
      "3. Real-time tracking: Customers can track their deliveries in real-time, allowing them to know the exact location of their package and estimated delivery time.\n",
      "\n",
      "4. Secure delivery: MyPersonalDelivery ensures that packages are delivered securely and safely to the intended recipient.\n",
      "\n",
      "5. Customer support: MyPersonalDelivery provides excellent customer support to address any concerns or issues that customers may have regarding their deliveries.\n",
      "\n",
      "6. Customized services: MyPersonalDelivery offers customized delivery solutions for businesses and individuals, catering to their specific needs and requirements.\n",
      "\n",
      "Overall, MyPersonalDelivery aims to provide a seamless and reliable delivery service that prioritizes customer satisfaction and convenience.\n"
     ]
    }
   ],
   "source": [
    "# Set your API key\n",
    "client = OpenAI(api_key=api_key)\n",
    "\n",
    "# Define the system prompt\n",
    "system_prompt = f\"\"\"You are a customer service chatbot for MyPersonalDelivery whose service description is delimited by triple backticks. You should respond to user queries in a gentle way.\n",
    " ```{service_description}```\n",
    "\"\"\"\n",
    "\n",
    "user_prompt = \"What benefits does MyPersonalDelivery offer?\"\n",
    "\n",
    "# Get the response to the user prompt\n",
    "response = get_response(system_prompt, user_prompt)\n",
    "\n",
    "print(response)"
   ]
  },
  {
   "cell_type": "code",
   "execution_count": null,
   "id": "3c4956cf-495f-48e3-a60a-93cd2964b7bb",
   "metadata": {},
   "outputs": [],
   "source": []
  }
 ],
 "metadata": {
  "kernelspec": {
   "display_name": "Python 3 (ipykernel)",
   "language": "python",
   "name": "python3"
  },
  "language_info": {
   "codemirror_mode": {
    "name": "ipython",
    "version": 3
   },
   "file_extension": ".py",
   "mimetype": "text/x-python",
   "name": "python",
   "nbconvert_exporter": "python",
   "pygments_lexer": "ipython3",
   "version": "3.10.12"
  }
 },
 "nbformat": 4,
 "nbformat_minor": 5
}
